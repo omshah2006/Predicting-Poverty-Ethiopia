{
 "cells": [
  {
   "cell_type": "markdown",
   "metadata": {},
   "source": [
    "Using the images marked as valid per cluster, we pass them through the CNN and extract their feature vectors. the results are stored at a per-country basis. For example, all Malawi feature extractions will go into results/malawi_2016/cnn."
   ]
  },
  {
   "cell_type": "code",
   "execution_count": 1,
   "metadata": {},
   "outputs": [
    {
     "name": "stderr",
     "output_type": "stream",
     "text": [
      "/Users/omshah/opt/anaconda3/envs/pypoverty38/lib/python3.8/site-packages/tqdm/auto.py:22: TqdmWarning: IProgress not found. Please update jupyter and ipywidgets. See https://ipywidgets.readthedocs.io/en/stable/user_install.html\n",
      "  from .autonotebook import tqdm as notebook_tqdm\n"
     ]
    }
   ],
   "source": [
    "import os\n",
    "import shutil\n",
    "import numpy as np\n",
    "import pandas as pd\n",
    "from tqdm.notebook import tqdm\n",
    "import pickle\n",
    "\n",
    "import torch\n",
    "import torch.nn as nn\n",
    "import torch.optim as optim\n",
    "import numpy as np\n",
    "import torchvision\n",
    "from torchvision import datasets, models, transforms\n",
    "import matplotlib.pyplot as plt\n",
    "import time\n",
    "import copy\n",
    "\n",
    "import matplotlib.pyplot as plt\n",
    "\n",
    "%matplotlib inline"
   ]
  },
  {
   "cell_type": "code",
   "execution_count": 4,
   "metadata": {},
   "outputs": [
    {
     "name": "stdout",
     "output_type": "stream",
     "text": [
      "True\n",
      "True\n"
     ]
    }
   ],
   "source": [
    "# this ensures that the current MacOS version is at least 12.3+\n",
    "print(torch.backends.mps.is_available())# this ensures that the current current PyTorch installation was built with MPS activated.\n",
    "print(torch.backends.mps.is_built())"
   ]
  },
  {
   "cell_type": "code",
   "execution_count": 2,
   "metadata": {},
   "outputs": [],
   "source": [
    "BASE_DIR = '..'\n",
    "COUNTRIES_DIR = os.path.join(BASE_DIR, 'data', 'countries')\n",
    "PROCESSED_DIR = os.path.join(BASE_DIR, 'data', 'processed')\n",
    "RESULTS_DIR = os.path.join(BASE_DIR, 'results')\n",
    "CNN_TRAIN_IMAGE_DIR = os.path.join(BASE_DIR, 'data', 'cnn_images')\n",
    "CNN_DIR = os.path.join(BASE_DIR, 'models', 'trained_model.pt')"
   ]
  },
  {
   "cell_type": "code",
   "execution_count": 3,
   "metadata": {},
   "outputs": [],
   "source": [
    "os.makedirs(RESULTS_DIR, exist_ok=True)\n",
    "for country in ['ethiopia_2015']:\n",
    "    os.makedirs(os.path.join(RESULTS_DIR, country), exist_ok=True)"
   ]
  },
  {
   "cell_type": "markdown",
   "metadata": {},
   "source": [
    "# Feature extract with CNN\n",
    "If you have run this step before, you can skip it and run the commented out code in the next section to quick-start."
   ]
  },
  {
   "cell_type": "code",
   "execution_count": 5,
   "metadata": {},
   "outputs": [],
   "source": [
    "df_images = pd.read_csv(os.path.join(PROCESSED_DIR, 'image_download_actual.csv'))"
   ]
  },
  {
   "cell_type": "code",
   "execution_count": 6,
   "metadata": {},
   "outputs": [
    {
     "data": {
      "text/html": [
       "<div>\n",
       "<style scoped>\n",
       "    .dataframe tbody tr th:only-of-type {\n",
       "        vertical-align: middle;\n",
       "    }\n",
       "\n",
       "    .dataframe tbody tr th {\n",
       "        vertical-align: top;\n",
       "    }\n",
       "\n",
       "    .dataframe thead th {\n",
       "        text-align: right;\n",
       "    }\n",
       "</style>\n",
       "<table border=\"1\" class=\"dataframe\">\n",
       "  <thead>\n",
       "    <tr style=\"text-align: right;\">\n",
       "      <th></th>\n",
       "      <th>image_name</th>\n",
       "      <th>image_lat</th>\n",
       "      <th>image_lon</th>\n",
       "      <th>cluster_lat</th>\n",
       "      <th>cluster_lon</th>\n",
       "      <th>cons_pc</th>\n",
       "      <th>temp</th>\n",
       "      <th>country</th>\n",
       "      <th>temp_bin</th>\n",
       "      <th>is_train</th>\n",
       "    </tr>\n",
       "  </thead>\n",
       "  <tbody>\n",
       "    <tr>\n",
       "      <th>0</th>\n",
       "      <td>3.410784802784024_39.47107816189403_3.45570056...</td>\n",
       "      <td>3.410785</td>\n",
       "      <td>39.471078</td>\n",
       "      <td>3.455701</td>\n",
       "      <td>39.515994</td>\n",
       "      <td>14.854634</td>\n",
       "      <td>2.010416</td>\n",
       "      <td>eth</td>\n",
       "      <td>0</td>\n",
       "      <td>True</td>\n",
       "    </tr>\n",
       "    <tr>\n",
       "      <th>1</th>\n",
       "      <td>3.4257567241860163_39.47107816189403_3.4557005...</td>\n",
       "      <td>3.425757</td>\n",
       "      <td>39.471078</td>\n",
       "      <td>3.455701</td>\n",
       "      <td>39.515994</td>\n",
       "      <td>14.854634</td>\n",
       "      <td>2.010416</td>\n",
       "      <td>eth</td>\n",
       "      <td>0</td>\n",
       "      <td>False</td>\n",
       "    </tr>\n",
       "    <tr>\n",
       "      <th>2</th>\n",
       "      <td>3.440728645588008_39.47107816189403_3.45570056...</td>\n",
       "      <td>3.440729</td>\n",
       "      <td>39.471078</td>\n",
       "      <td>3.455701</td>\n",
       "      <td>39.515994</td>\n",
       "      <td>14.854634</td>\n",
       "      <td>2.010416</td>\n",
       "      <td>eth</td>\n",
       "      <td>0</td>\n",
       "      <td>True</td>\n",
       "    </tr>\n",
       "    <tr>\n",
       "      <th>3</th>\n",
       "      <td>3.45570056699_39.47107816189403_3.45570056699_...</td>\n",
       "      <td>3.455701</td>\n",
       "      <td>39.471078</td>\n",
       "      <td>3.455701</td>\n",
       "      <td>39.515994</td>\n",
       "      <td>14.854634</td>\n",
       "      <td>2.010416</td>\n",
       "      <td>eth</td>\n",
       "      <td>0</td>\n",
       "      <td>True</td>\n",
       "    </tr>\n",
       "    <tr>\n",
       "      <th>4</th>\n",
       "      <td>3.470672488391992_39.47107816189403_3.45570056...</td>\n",
       "      <td>3.470672</td>\n",
       "      <td>39.471078</td>\n",
       "      <td>3.455701</td>\n",
       "      <td>39.515994</td>\n",
       "      <td>14.854634</td>\n",
       "      <td>2.010416</td>\n",
       "      <td>eth</td>\n",
       "      <td>0</td>\n",
       "      <td>True</td>\n",
       "    </tr>\n",
       "    <tr>\n",
       "      <th>...</th>\n",
       "      <td>...</td>\n",
       "      <td>...</td>\n",
       "      <td>...</td>\n",
       "      <td>...</td>\n",
       "      <td>...</td>\n",
       "      <td>...</td>\n",
       "      <td>...</td>\n",
       "      <td>...</td>\n",
       "      <td>...</td>\n",
       "      <td>...</td>\n",
       "    </tr>\n",
       "    <tr>\n",
       "      <th>24907</th>\n",
       "      <td>13.969398585198007_39.548101340101994_13.98437...</td>\n",
       "      <td>13.969399</td>\n",
       "      <td>39.548101</td>\n",
       "      <td>13.984371</td>\n",
       "      <td>39.533129</td>\n",
       "      <td>7.824775</td>\n",
       "      <td>1.799999</td>\n",
       "      <td>eth</td>\n",
       "      <td>0</td>\n",
       "      <td>False</td>\n",
       "    </tr>\n",
       "    <tr>\n",
       "      <th>24908</th>\n",
       "      <td>13.9843705066_39.548101340101994_13.9843705066...</td>\n",
       "      <td>13.984371</td>\n",
       "      <td>39.548101</td>\n",
       "      <td>13.984371</td>\n",
       "      <td>39.533129</td>\n",
       "      <td>7.824775</td>\n",
       "      <td>1.799999</td>\n",
       "      <td>eth</td>\n",
       "      <td>0</td>\n",
       "      <td>True</td>\n",
       "    </tr>\n",
       "    <tr>\n",
       "      <th>24909</th>\n",
       "      <td>13.999342428001992_39.548101340101994_13.98437...</td>\n",
       "      <td>13.999342</td>\n",
       "      <td>39.548101</td>\n",
       "      <td>13.984371</td>\n",
       "      <td>39.533129</td>\n",
       "      <td>7.824775</td>\n",
       "      <td>1.799999</td>\n",
       "      <td>eth</td>\n",
       "      <td>0</td>\n",
       "      <td>False</td>\n",
       "    </tr>\n",
       "    <tr>\n",
       "      <th>24910</th>\n",
       "      <td>14.014314349403984_39.548101340101994_13.98437...</td>\n",
       "      <td>14.014314</td>\n",
       "      <td>39.548101</td>\n",
       "      <td>13.984371</td>\n",
       "      <td>39.533129</td>\n",
       "      <td>7.824775</td>\n",
       "      <td>1.799999</td>\n",
       "      <td>eth</td>\n",
       "      <td>0</td>\n",
       "      <td>True</td>\n",
       "    </tr>\n",
       "    <tr>\n",
       "      <th>24911</th>\n",
       "      <td>14.029286270805976_39.548101340101994_13.98437...</td>\n",
       "      <td>14.029286</td>\n",
       "      <td>39.548101</td>\n",
       "      <td>13.984371</td>\n",
       "      <td>39.533129</td>\n",
       "      <td>7.824775</td>\n",
       "      <td>1.799999</td>\n",
       "      <td>eth</td>\n",
       "      <td>0</td>\n",
       "      <td>False</td>\n",
       "    </tr>\n",
       "  </tbody>\n",
       "</table>\n",
       "<p>24912 rows × 10 columns</p>\n",
       "</div>"
      ],
      "text/plain": [
       "                                              image_name  image_lat  \\\n",
       "0      3.410784802784024_39.47107816189403_3.45570056...   3.410785   \n",
       "1      3.4257567241860163_39.47107816189403_3.4557005...   3.425757   \n",
       "2      3.440728645588008_39.47107816189403_3.45570056...   3.440729   \n",
       "3      3.45570056699_39.47107816189403_3.45570056699_...   3.455701   \n",
       "4      3.470672488391992_39.47107816189403_3.45570056...   3.470672   \n",
       "...                                                  ...        ...   \n",
       "24907  13.969398585198007_39.548101340101994_13.98437...  13.969399   \n",
       "24908  13.9843705066_39.548101340101994_13.9843705066...  13.984371   \n",
       "24909  13.999342428001992_39.548101340101994_13.98437...  13.999342   \n",
       "24910  14.014314349403984_39.548101340101994_13.98437...  14.014314   \n",
       "24911  14.029286270805976_39.548101340101994_13.98437...  14.029286   \n",
       "\n",
       "       image_lon  cluster_lat  cluster_lon    cons_pc      temp country  \\\n",
       "0      39.471078     3.455701    39.515994  14.854634  2.010416     eth   \n",
       "1      39.471078     3.455701    39.515994  14.854634  2.010416     eth   \n",
       "2      39.471078     3.455701    39.515994  14.854634  2.010416     eth   \n",
       "3      39.471078     3.455701    39.515994  14.854634  2.010416     eth   \n",
       "4      39.471078     3.455701    39.515994  14.854634  2.010416     eth   \n",
       "...          ...          ...          ...        ...       ...     ...   \n",
       "24907  39.548101    13.984371    39.533129   7.824775  1.799999     eth   \n",
       "24908  39.548101    13.984371    39.533129   7.824775  1.799999     eth   \n",
       "24909  39.548101    13.984371    39.533129   7.824775  1.799999     eth   \n",
       "24910  39.548101    13.984371    39.533129   7.824775  1.799999     eth   \n",
       "24911  39.548101    13.984371    39.533129   7.824775  1.799999     eth   \n",
       "\n",
       "       temp_bin  is_train  \n",
       "0             0      True  \n",
       "1             0     False  \n",
       "2             0      True  \n",
       "3             0      True  \n",
       "4             0      True  \n",
       "...         ...       ...  \n",
       "24907         0     False  \n",
       "24908         0      True  \n",
       "24909         0     False  \n",
       "24910         0      True  \n",
       "24911         0     False  \n",
       "\n",
       "[24912 rows x 10 columns]"
      ]
     },
     "execution_count": 6,
     "metadata": {},
     "output_type": "execute_result"
    }
   ],
   "source": [
    "df_images"
   ]
  },
  {
   "cell_type": "code",
   "execution_count": 7,
   "metadata": {},
   "outputs": [
    {
     "name": "stdout",
     "output_type": "stream",
     "text": [
      "Using cpu as backend\n"
     ]
    }
   ],
   "source": [
    "device = torch.device('cuda' if torch.cuda.is_available() else 'cpu')\n",
    "print(f'Using {device} as backend')\n",
    "model = torch.load(CNN_DIR, map_location=device)"
   ]
  },
  {
   "cell_type": "code",
   "execution_count": 8,
   "metadata": {},
   "outputs": [
    {
     "data": {
      "text/plain": [
       "Sequential(\n",
       "  (0): Linear(in_features=25088, out_features=4096, bias=True)\n",
       "  (1): ReLU(inplace=True)\n",
       "  (2): Dropout(p=0.5, inplace=False)\n",
       "  (3): Linear(in_features=4096, out_features=4096, bias=True)\n",
       "  (4): ReLU(inplace=True)\n",
       "  (5): Dropout(p=0.5, inplace=False)\n",
       "  (6): Linear(in_features=4096, out_features=3, bias=True)\n",
       ")"
      ]
     },
     "execution_count": 8,
     "metadata": {},
     "output_type": "execute_result"
    }
   ],
   "source": [
    "model.classifier"
   ]
  },
  {
   "cell_type": "code",
   "execution_count": 9,
   "metadata": {},
   "outputs": [],
   "source": [
    "# rip off the final layers\n",
    "model.classifier = model.classifier[:4]"
   ]
  },
  {
   "cell_type": "code",
   "execution_count": 10,
   "metadata": {},
   "outputs": [
    {
     "data": {
      "text/plain": [
       "Sequential(\n",
       "  (0): Linear(in_features=25088, out_features=4096, bias=True)\n",
       "  (1): ReLU(inplace=True)\n",
       "  (2): Dropout(p=0.5, inplace=False)\n",
       "  (3): Linear(in_features=4096, out_features=4096, bias=True)\n",
       ")"
      ]
     },
     "execution_count": 10,
     "metadata": {},
     "output_type": "execute_result"
    }
   ],
   "source": [
    "model.classifier"
   ]
  },
  {
   "cell_type": "code",
   "execution_count": 11,
   "metadata": {},
   "outputs": [
    {
     "data": {
      "application/vnd.jupyter.widget-view+json": {
       "model_id": "f264c321a5a94ef5875d708aa5b8d833",
       "version_major": 2,
       "version_minor": 0
      },
      "text/plain": [
       "  0%|          | 0/132 [00:00<?, ?it/s]"
      ]
     },
     "metadata": {},
     "output_type": "display_data"
    },
    {
     "data": {
      "application/vnd.jupyter.widget-view+json": {
       "model_id": "318d6cb99c5144f7b8823d2eb432da39",
       "version_major": 2,
       "version_minor": 0
      },
      "text/plain": [
       "  0%|          | 0/190 [00:00<?, ?it/s]"
      ]
     },
     "metadata": {},
     "output_type": "display_data"
    },
    {
     "data": {
      "application/vnd.jupyter.widget-view+json": {
       "model_id": "13eef6bb58ab4216a4f3e6ad1253beac",
       "version_major": 2,
       "version_minor": 0
      },
      "text/plain": [
       "  0%|          | 0/302 [00:00<?, ?it/s]"
      ]
     },
     "metadata": {},
     "output_type": "display_data"
    }
   ],
   "source": [
    "transformer = transforms.Compose([\n",
    "            transforms.ToTensor(),\n",
    "            transforms.Normalize([0.485, 0.456, 0.406], [0.229, 0.224, 0.225])\n",
    "        ])\n",
    "\n",
    "# custom dataset for fast image loading and processing\n",
    "# does not follow the usual style of folder -> folder for each class -> image\n",
    "# we just want one folder with images\n",
    "class ForwardPassDataset(torch.utils.data.Dataset):\n",
    "    def __init__(self, image_dir, transformer):\n",
    "        self.image_dir = image_dir\n",
    "        self.image_list = os.listdir(self.image_dir)\n",
    "        self.transformer = transformer\n",
    "\n",
    "    def __len__(self):\n",
    "        return len(self.image_list)\n",
    "\n",
    "    def __getitem__(self, index):\n",
    "        image_name = self.image_list[index]\n",
    "\n",
    "        # Load image\n",
    "        X = self.filename_to_im_tensor(self.image_dir + '/' + image_name)\n",
    "        \n",
    "        # dataloaders need to return a label, but for the forward pass we don't really care\n",
    "        return X, -1\n",
    "    \n",
    "    def filename_to_im_tensor(self, file):\n",
    "        im = plt.imread(file)[:,:,:3]\n",
    "        im = self.transformer(im)\n",
    "        return im\n",
    "\n",
    "model.eval()  \n",
    "classes = [0, 1, 2]\n",
    "# shape of final array will be (num_validation_images, 4096)\n",
    "# we also want to record the image each index represents\n",
    "feats = np.zeros(((~df_images['is_train']).sum(), 4096))\n",
    "image_order = []\n",
    "i = 0\n",
    "for c in classes:\n",
    "    # use the validation images to do the forward pass\n",
    "    dataset = ForwardPassDataset(os.path.join(CNN_TRAIN_IMAGE_DIR, 'valid', str(c)), transformer)\n",
    "    dataloader = torch.utils.data.DataLoader(dataset, batch_size=8, shuffle=False, num_workers=4)\n",
    "    image_order += dataset.image_list\n",
    "    # forward pass for this class\n",
    "    for inputs, _ in tqdm(dataloader):\n",
    "        inputs = inputs.to(device)\n",
    "        outputs = model(inputs)\n",
    "        feats[i:i+len(inputs),:] = outputs.cpu().detach().numpy()\n",
    "        i += len(inputs)"
   ]
  },
  {
   "cell_type": "code",
   "execution_count": 12,
   "metadata": {},
   "outputs": [
    {
     "data": {
      "text/plain": [
       "array([[-2.11736917, -0.14869089, -0.45589617, ..., -0.23898168,\n",
       "        -0.04147298, -1.42753351],\n",
       "       [-3.26886773,  0.05036484,  1.19110227, ...,  0.60914648,\n",
       "         0.92665344, -2.77215409],\n",
       "       [-0.73454875,  0.75598794,  0.02162023, ...,  1.51512825,\n",
       "         0.04801628, -1.04182744],\n",
       "       ...,\n",
       "       [-0.14195265,  0.92747992, -0.97453463, ...,  0.04313407,\n",
       "        -0.52442467, -0.55650008],\n",
       "       [ 0.7211749 , -0.50010276,  0.00896755, ...,  0.73156923,\n",
       "        -0.51442081, -0.92654896],\n",
       "       [-1.03279114, -0.96635014, -0.22030711, ..., -0.67239964,\n",
       "        -2.16085267, -0.85750371]])"
      ]
     },
     "execution_count": 12,
     "metadata": {},
     "output_type": "execute_result"
    }
   ],
   "source": [
    "feats"
   ]
  },
  {
   "cell_type": "code",
   "execution_count": 13,
   "metadata": {},
   "outputs": [
    {
     "data": {
      "text/html": [
       "<div>\n",
       "<style scoped>\n",
       "    .dataframe tbody tr th:only-of-type {\n",
       "        vertical-align: middle;\n",
       "    }\n",
       "\n",
       "    .dataframe tbody tr th {\n",
       "        vertical-align: top;\n",
       "    }\n",
       "\n",
       "    .dataframe thead th {\n",
       "        text-align: right;\n",
       "    }\n",
       "</style>\n",
       "<table border=\"1\" class=\"dataframe\">\n",
       "  <thead>\n",
       "    <tr style=\"text-align: right;\">\n",
       "      <th></th>\n",
       "      <th>image_name</th>\n",
       "      <th>feat_index</th>\n",
       "    </tr>\n",
       "  </thead>\n",
       "  <tbody>\n",
       "    <tr>\n",
       "      <th>0</th>\n",
       "      <td>13.175867187596015_37.75771137869602_13.205811...</td>\n",
       "      <td>0</td>\n",
       "    </tr>\n",
       "    <tr>\n",
       "      <th>1</th>\n",
       "      <td>13.533819891501992_39.493748301501995_13.51884...</td>\n",
       "      <td>1</td>\n",
       "    </tr>\n",
       "    <tr>\n",
       "      <th>2</th>\n",
       "      <td>9.749401925181992_34.758499371703984_9.7344300...</td>\n",
       "      <td>2</td>\n",
       "    </tr>\n",
       "    <tr>\n",
       "      <th>3</th>\n",
       "      <td>11.872140456903985_39.6046072003_11.8421966141...</td>\n",
       "      <td>3</td>\n",
       "    </tr>\n",
       "    <tr>\n",
       "      <th>4</th>\n",
       "      <td>4.093109885245976_41.96087191160398_4.04819412...</td>\n",
       "      <td>4</td>\n",
       "    </tr>\n",
       "  </tbody>\n",
       "</table>\n",
       "</div>"
      ],
      "text/plain": [
       "                                          image_name  feat_index\n",
       "0  13.175867187596015_37.75771137869602_13.205811...           0\n",
       "1  13.533819891501992_39.493748301501995_13.51884...           1\n",
       "2  9.749401925181992_34.758499371703984_9.7344300...           2\n",
       "3  11.872140456903985_39.6046072003_11.8421966141...           3\n",
       "4  4.093109885245976_41.96087191160398_4.04819412...           4"
      ]
     },
     "execution_count": 13,
     "metadata": {},
     "output_type": "execute_result"
    }
   ],
   "source": [
    "forward_pass_df = pd.DataFrame.from_dict({'image_name': image_order, 'feat_index': np.arange(len(image_order))})\n",
    "forward_pass_df.head()"
   ]
  },
  {
   "cell_type": "code",
   "execution_count": 14,
   "metadata": {},
   "outputs": [],
   "source": [
    "df_consumption = pd.merge(left=df_images, right=forward_pass_df, on='image_name')"
   ]
  },
  {
   "cell_type": "code",
   "execution_count": 15,
   "metadata": {},
   "outputs": [],
   "source": [
    "# have we maintained all validation images?\n",
    "assert len(df_consumption) == (~df_images['is_train']).sum()"
   ]
  },
  {
   "cell_type": "code",
   "execution_count": 16,
   "metadata": {},
   "outputs": [
    {
     "data": {
      "text/html": [
       "<div>\n",
       "<style scoped>\n",
       "    .dataframe tbody tr th:only-of-type {\n",
       "        vertical-align: middle;\n",
       "    }\n",
       "\n",
       "    .dataframe tbody tr th {\n",
       "        vertical-align: top;\n",
       "    }\n",
       "\n",
       "    .dataframe thead th {\n",
       "        text-align: right;\n",
       "    }\n",
       "</style>\n",
       "<table border=\"1\" class=\"dataframe\">\n",
       "  <thead>\n",
       "    <tr style=\"text-align: right;\">\n",
       "      <th></th>\n",
       "      <th>image_name</th>\n",
       "      <th>image_lat</th>\n",
       "      <th>image_lon</th>\n",
       "      <th>cluster_lat</th>\n",
       "      <th>cluster_lon</th>\n",
       "      <th>cons_pc</th>\n",
       "      <th>temp</th>\n",
       "      <th>country</th>\n",
       "      <th>temp_bin</th>\n",
       "      <th>is_train</th>\n",
       "      <th>feat_index</th>\n",
       "    </tr>\n",
       "  </thead>\n",
       "  <tbody>\n",
       "    <tr>\n",
       "      <th>4979</th>\n",
       "      <td>14.014314349403984_39.5331294187_13.9843705066...</td>\n",
       "      <td>14.014314</td>\n",
       "      <td>39.533129</td>\n",
       "      <td>13.984371</td>\n",
       "      <td>39.533129</td>\n",
       "      <td>7.824775</td>\n",
       "      <td>1.799999</td>\n",
       "      <td>eth</td>\n",
       "      <td>0</td>\n",
       "      <td>False</td>\n",
       "      <td>346</td>\n",
       "    </tr>\n",
       "    <tr>\n",
       "      <th>4980</th>\n",
       "      <td>13.939454742394023_39.548101340101994_13.98437...</td>\n",
       "      <td>13.939455</td>\n",
       "      <td>39.548101</td>\n",
       "      <td>13.984371</td>\n",
       "      <td>39.533129</td>\n",
       "      <td>7.824775</td>\n",
       "      <td>1.799999</td>\n",
       "      <td>eth</td>\n",
       "      <td>0</td>\n",
       "      <td>False</td>\n",
       "      <td>185</td>\n",
       "    </tr>\n",
       "    <tr>\n",
       "      <th>4981</th>\n",
       "      <td>13.969398585198007_39.548101340101994_13.98437...</td>\n",
       "      <td>13.969399</td>\n",
       "      <td>39.548101</td>\n",
       "      <td>13.984371</td>\n",
       "      <td>39.533129</td>\n",
       "      <td>7.824775</td>\n",
       "      <td>1.799999</td>\n",
       "      <td>eth</td>\n",
       "      <td>0</td>\n",
       "      <td>False</td>\n",
       "      <td>377</td>\n",
       "    </tr>\n",
       "    <tr>\n",
       "      <th>4982</th>\n",
       "      <td>13.999342428001992_39.548101340101994_13.98437...</td>\n",
       "      <td>13.999342</td>\n",
       "      <td>39.548101</td>\n",
       "      <td>13.984371</td>\n",
       "      <td>39.533129</td>\n",
       "      <td>7.824775</td>\n",
       "      <td>1.799999</td>\n",
       "      <td>eth</td>\n",
       "      <td>0</td>\n",
       "      <td>False</td>\n",
       "      <td>318</td>\n",
       "    </tr>\n",
       "    <tr>\n",
       "      <th>4983</th>\n",
       "      <td>14.029286270805976_39.548101340101994_13.98437...</td>\n",
       "      <td>14.029286</td>\n",
       "      <td>39.548101</td>\n",
       "      <td>13.984371</td>\n",
       "      <td>39.533129</td>\n",
       "      <td>7.824775</td>\n",
       "      <td>1.799999</td>\n",
       "      <td>eth</td>\n",
       "      <td>0</td>\n",
       "      <td>False</td>\n",
       "      <td>859</td>\n",
       "    </tr>\n",
       "  </tbody>\n",
       "</table>\n",
       "</div>"
      ],
      "text/plain": [
       "                                             image_name  image_lat  image_lon  \\\n",
       "4979  14.014314349403984_39.5331294187_13.9843705066...  14.014314  39.533129   \n",
       "4980  13.939454742394023_39.548101340101994_13.98437...  13.939455  39.548101   \n",
       "4981  13.969398585198007_39.548101340101994_13.98437...  13.969399  39.548101   \n",
       "4982  13.999342428001992_39.548101340101994_13.98437...  13.999342  39.548101   \n",
       "4983  14.029286270805976_39.548101340101994_13.98437...  14.029286  39.548101   \n",
       "\n",
       "      cluster_lat  cluster_lon   cons_pc      temp country  temp_bin  \\\n",
       "4979    13.984371    39.533129  7.824775  1.799999     eth         0   \n",
       "4980    13.984371    39.533129  7.824775  1.799999     eth         0   \n",
       "4981    13.984371    39.533129  7.824775  1.799999     eth         0   \n",
       "4982    13.984371    39.533129  7.824775  1.799999     eth         0   \n",
       "4983    13.984371    39.533129  7.824775  1.799999     eth         0   \n",
       "\n",
       "      is_train  feat_index  \n",
       "4979     False         346  \n",
       "4980     False         185  \n",
       "4981     False         377  \n",
       "4982     False         318  \n",
       "4983     False         859  "
      ]
     },
     "execution_count": 16,
     "metadata": {},
     "output_type": "execute_result"
    }
   ],
   "source": [
    "df_consumption.tail()"
   ]
  },
  {
   "cell_type": "code",
   "execution_count": 17,
   "metadata": {},
   "outputs": [
    {
     "data": {
      "image/png": "[encoded data removed]",
      "text/plain": [
       "<Figure size 432x288 with 1 Axes>"
      ]
     },
     "metadata": {
      "needs_background": "light"
     },
     "output_type": "display_data"
    }
   ],
   "source": [
    "df_consumption.plot.scatter(x=\"temp_bin\", y=\"feat_index\")\n",
    "x = df_consumption['temp_bin']\n",
    "y = df_consumption['feat_index']\n",
    "plt.plot(np.unique(x), np.poly1d(np.polyfit(x, y, 1))(np.unique(x)))\n",
    "plt.show()"
   ]
  },
  {
   "cell_type": "markdown",
   "metadata": {},
   "source": [
    "## Aggregate Features\n",
    "For each country, we aggregate the image features per cluster and save them to results/country/cnn"
   ]
  },
  {
   "cell_type": "code",
   "execution_count": 18,
   "metadata": {},
   "outputs": [],
   "source": [
    "country_abbrv = ['eth']\n",
    "country_dir = ['ethiopia_2015']\n",
    "\n",
    "for ca, cd in zip(country_abbrv, country_dir):\n",
    "    df_c = df_consumption[df_consumption['country'] == ca]\n",
    "    group = df_c.groupby(['cluster_lat', 'cluster_lon'])\n",
    "    x = np.zeros((len(group), 4096))\n",
    "    cluster_list = [] # the corresponding clusters (lat, lon) to the x aggregate feature array\n",
    "    for i, g in enumerate(group):\n",
    "        lat, lon = g[0]\n",
    "        im_sub = df_consumption[(df_consumption['cluster_lat'] == lat) & (df_consumption['cluster_lon'] == lon)].reset_index(drop=True)\n",
    "        agg_feats = np.zeros((len(im_sub), 4096))\n",
    "        for j, d in im_sub.iterrows():\n",
    "            agg_feats[j,:] = feats[d.feat_index]\n",
    "        agg_feats = agg_feats.mean(axis=0) # averages the features across all images in the cluster\n",
    "\n",
    "        x[i,:] = agg_feats\n",
    "        cluster_list.append([lat, lon])\n",
    "    # save to the correct directory\n",
    "    save_dir = os.path.join(RESULTS_DIR, cd, 'cnn')\n",
    "    os.makedirs(save_dir, exist_ok=True)\n",
    "    np.save(os.path.join(save_dir, 'cluster_feats.npy'), x)\n",
    "    pickle.dump(cluster_list, open(os.path.join(save_dir, 'cluster_order.pkl'), 'wb')) \n",
    "    "
   ]
  },
  {
   "cell_type": "code",
   "execution_count": null,
   "metadata": {},
   "outputs": [],
   "source": []
  }
 ],
 "metadata": {
  "environment": {
   "name": "pytorch-gpu.1-4.m46",
   "type": "gcloud",
   "uri": "gcr.io/deeplearning-platform-release/pytorch-gpu.1-4:m46"
  },
  "kernelspec": {
   "display_name": "pypoverty38",
   "language": "python",
   "name": "pypoverty38"
  },
  "language_info": {
   "codemirror_mode": {
    "name": "ipython",
    "version": 3
   },
   "file_extension": ".py",
   "mimetype": "text/x-python",
   "name": "python",
   "nbconvert_exporter": "python",
   "pygments_lexer": "ipython3",
   "version": "3.8.13"
  }
 },
 "nbformat": 4,
 "nbformat_minor": 2
}
