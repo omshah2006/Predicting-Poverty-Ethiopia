{
 "cells": [
  {
   "cell_type": "markdown",
   "metadata": {},
   "source": [
    "Make sure you download the 2016 Household LSMS survey data for Malawi, Ethiopia, and Nigeria from https://microdata.worldbank.org/index.php/catalog/lsms and put it in `../data/countries/`. Malawi's data should be named `malawi_2016/LSMS`, Ethiopia's should be named `ethiopia_2015/LSMS`, and Nigeria's should be named `nigeria_2015/LSMS`. Nightlights data should be downloaded from https://ngdc.noaa.gov/eog/viirs/download_dnb_composites.html using the annual composite from 2015 in tile 2 and tile 5."
   ]
  },
  {
   "cell_type": "code",
   "execution_count": 54,
   "metadata": {},
   "outputs": [],
   "source": [
    "import pandas as pd\n",
    "import numpy as np\n",
    "import os\n",
    "import geoio\n",
    "import matplotlib.pyplot as plt\n",
    "\n",
    "%matplotlib inline"
   ]
  },
  {
   "cell_type": "code",
   "execution_count": 55,
   "metadata": {},
   "outputs": [],
   "source": [
    "BASE_DIR = '..'\n",
    "\n",
    "COUNTRIES_DIR = os.path.join(BASE_DIR, 'data', 'countries')\n",
    "OLD_TIFF_DIR = [os.path.join(BASE_DIR, '../predicting-poverty-ethiopia/data/temp_geotiff/wc2.1_2.5m_tmax_1970-08.tif')]\n",
    "NEW_TIFF_DIR = [os.path.join(BASE_DIR, '../predicting-poverty-ethiopia/data/temp_geotiff/wc2.1_2.5m_tmax_2015-08.tif')]"
   ]
  },
  {
   "cell_type": "code",
   "execution_count": 42,
   "metadata": {},
   "outputs": [],
   "source": [
    "import sys\n",
    "sys.path.append(BASE_DIR)\n",
    "from utils import create_space"
   ]
  },
  {
   "cell_type": "code",
   "execution_count": 43,
   "metadata": {},
   "outputs": [],
   "source": [
    "'''\n",
    "The goal of each of these functions is to output a dataframe with the following columns:\n",
    "country, cluster_lat, cluster_lon, cons_pc\n",
    "\n",
    "Each row should represent one cluster by combining the household data\n",
    "'''\n",
    "\n",
    "def process_ethiopia():\n",
    "    lsms_dir = os.path.join(COUNTRIES_DIR, 'ethiopia_2015', 'LSMS_2018')\n",
    "    consumption_file = 'cons_agg_w4.csv'\n",
    "    consumption_pc_col = 'total_cons_ann' # per capita\n",
    "    hhsize_col = 'hh_size' # people in household\n",
    "    \n",
    "#     geovariables_file = 'Geovariables/ETH_HouseholdGeovars_y3.csv'\n",
    "    geovariables_file = 'ETH_HouseholdGeovariables_Y4.csv'\n",
    "    lat_col = 'lat_mod'\n",
    "    lon_col = 'lon_mod'\n",
    "\n",
    "    # purchasing power parity for ethiopia in 2015 (https://data.worldbank.org/indicator/PA.NUS.PRVT.PP?locations=ET)\n",
    "    ppp = 10.74\n",
    "    \n",
    "    for file in [consumption_file, geovariables_file]:\n",
    "        assert os.path.isfile(os.path.join(lsms_dir, file)), print(f'Could not find {file}')\n",
    "    \n",
    "    df_c = pd.read_csv(os.path.join(lsms_dir, consumption_file))\n",
    "    df_c['cons_ph'] = df_c[consumption_pc_col] * df_c[hhsize_col]\n",
    "    df_c['pph'] = df_c[hhsize_col]\n",
    "    df_c['cons_ph'] = df_c['cons_ph'] / ppp / 365\n",
    "    df = df_c[['household_id', 'cons_ph', 'pph']]\n",
    "    \n",
    "    df_geo = pd.read_csv(os.path.join(lsms_dir, geovariables_file))\n",
    "    df_cords = df_geo[['household_id', lat_col, lon_col]]\n",
    "    df_cords.rename(columns={lat_col: 'cluster_lat', lon_col: 'cluster_lon'}, inplace=True)\n",
    "    df_combined = pd.merge(df, df_cords, on='household_id')\n",
    "    df_combined.drop(['household_id'], axis=1, inplace=True)\n",
    "    df_combined.dropna(inplace=True) # can't use na values\n",
    "    \n",
    "    df_clusters = df_combined.groupby(['cluster_lat', 'cluster_lon']).sum().reset_index()\n",
    "    df_clusters['cons_pc'] = df_clusters['cons_ph'] / df_clusters['pph'] # divides total cluster income by people\n",
    "    #df_clusters['total_hv'] = df_clusters['total_hv']\n",
    "    df_clusters['country'] = 'eth'\n",
    "    return df_clusters[['country', 'cluster_lat', 'cluster_lon', 'cons_pc']]"
   ]
  },
  {
   "cell_type": "code",
   "execution_count": 44,
   "metadata": {},
   "outputs": [
    {
     "name": "stderr",
     "output_type": "stream",
     "text": [
      "/var/folders/yw/3z56n_vx4vq9g05qrxzrr4m40000gn/T/ipykernel_31367/1012413692.py:33: SettingWithCopyWarning: \n",
      "A value is trying to be set on a copy of a slice from a DataFrame\n",
      "\n",
      "See the caveats in the documentation: https://pandas.pydata.org/pandas-docs/stable/user_guide/indexing.html#returning-a-view-versus-a-copy\n",
      "  df_cords.rename(columns={lat_col: 'cluster_lat', lon_col: 'cluster_lon'}, inplace=True)\n"
     ]
    }
   ],
   "source": [
    "df_eth = process_ethiopia()"
   ]
  },
  {
   "cell_type": "code",
   "execution_count": 45,
   "metadata": {},
   "outputs": [
    {
     "data": {
      "text/plain": [
       "(516, 4)"
      ]
     },
     "execution_count": 45,
     "metadata": {},
     "output_type": "execute_result"
    }
   ],
   "source": [
    "df_eth.shape"
   ]
  },
  {
   "cell_type": "code",
   "execution_count": 46,
   "metadata": {},
   "outputs": [
    {
     "data": {
      "text/html": [
       "<div>\n",
       "<style scoped>\n",
       "    .dataframe tbody tr th:only-of-type {\n",
       "        vertical-align: middle;\n",
       "    }\n",
       "\n",
       "    .dataframe tbody tr th {\n",
       "        vertical-align: top;\n",
       "    }\n",
       "\n",
       "    .dataframe thead th {\n",
       "        text-align: right;\n",
       "    }\n",
       "</style>\n",
       "<table border=\"1\" class=\"dataframe\">\n",
       "  <thead>\n",
       "    <tr style=\"text-align: right;\">\n",
       "      <th></th>\n",
       "      <th>country</th>\n",
       "      <th>cluster_lat</th>\n",
       "      <th>cluster_lon</th>\n",
       "      <th>cons_pc</th>\n",
       "    </tr>\n",
       "  </thead>\n",
       "  <tbody>\n",
       "    <tr>\n",
       "      <th>0</th>\n",
       "      <td>eth</td>\n",
       "      <td>3.609384</td>\n",
       "      <td>39.021503</td>\n",
       "      <td>16.641462</td>\n",
       "    </tr>\n",
       "    <tr>\n",
       "      <th>1</th>\n",
       "      <td>eth</td>\n",
       "      <td>4.010758</td>\n",
       "      <td>41.765862</td>\n",
       "      <td>8.226561</td>\n",
       "    </tr>\n",
       "    <tr>\n",
       "      <th>2</th>\n",
       "      <td>eth</td>\n",
       "      <td>4.439883</td>\n",
       "      <td>41.876270</td>\n",
       "      <td>18.858865</td>\n",
       "    </tr>\n",
       "    <tr>\n",
       "      <th>3</th>\n",
       "      <td>eth</td>\n",
       "      <td>4.730678</td>\n",
       "      <td>41.537197</td>\n",
       "      <td>16.841644</td>\n",
       "    </tr>\n",
       "    <tr>\n",
       "      <th>4</th>\n",
       "      <td>eth</td>\n",
       "      <td>4.744136</td>\n",
       "      <td>36.045395</td>\n",
       "      <td>5.768457</td>\n",
       "    </tr>\n",
       "  </tbody>\n",
       "</table>\n",
       "</div>"
      ],
      "text/plain": [
       "  country  cluster_lat  cluster_lon    cons_pc\n",
       "0     eth     3.609384    39.021503  16.641462\n",
       "1     eth     4.010758    41.765862   8.226561\n",
       "2     eth     4.439883    41.876270  18.858865\n",
       "3     eth     4.730678    41.537197  16.841644\n",
       "4     eth     4.744136    36.045395   5.768457"
      ]
     },
     "execution_count": 46,
     "metadata": {},
     "output_type": "execute_result"
    }
   ],
   "source": [
    "df_eth.head()"
   ]
  },
  {
   "cell_type": "code",
   "execution_count": 47,
   "metadata": {},
   "outputs": [],
   "source": [
    "old_tifs = [geoio.GeoImage(ndir) for ndir in OLD_TIFF_DIR]\n",
    "new_tifs = [geoio.GeoImage(ndir) for ndir in NEW_TIFF_DIR]"
   ]
  },
  {
   "cell_type": "code",
   "execution_count": 48,
   "metadata": {},
   "outputs": [],
   "source": [
    "old_tif_array = np.squeeze(old_tifs[0].get_data())\n",
    "new_tif_array = np.squeeze(new_tifs[0].get_data())"
   ]
  },
  {
   "cell_type": "code",
   "execution_count": 49,
   "metadata": {},
   "outputs": [
    {
     "data": {
      "text/plain": [
       "(4320, 8640)"
      ]
     },
     "execution_count": 49,
     "metadata": {},
     "output_type": "execute_result"
    }
   ],
   "source": [
    "new_tif_array.shape"
   ]
  },
  {
   "cell_type": "code",
   "execution_count": 50,
   "metadata": {},
   "outputs": [],
   "source": [
    "#tif, tif_array = old tif\n",
    "def add_temps(df, tif, new_tif, tif_array, new_tif_array):\n",
    "    ''' \n",
    "    This takes a dataframe with columns cluster_lat, cluster_lon and finds the average \n",
    "    nightlights in 2015 using a 10kmx10km box around the point\n",
    "    \n",
    "    I try all the nighlights tifs until a match is found, or none are left upon which an error is raised\n",
    "    '''\n",
    "    cluster_temps = []\n",
    "    for i,r in df.iterrows():\n",
    "        min_lat, min_lon, max_lat, max_lon = create_space(r.cluster_lat, r.cluster_lon)\n",
    "        \n",
    "        xminPixel, ymaxPixel = tif.proj_to_raster(min_lon, min_lat)\n",
    "        xmaxPixel, yminPixel = tif.proj_to_raster(max_lon, max_lat)\n",
    "        assert xminPixel < xmaxPixel, print(r.cluster_lat, r.cluster_lon)\n",
    "        assert yminPixel < ymaxPixel, print(r.cluster_lat, r.cluster_lon)\n",
    "        if xminPixel < 0 or xmaxPixel >= tif_array.shape[1]:\n",
    "            print(f\"no match for {r.cluster_lat}, {r.cluster_lon}\")\n",
    "            raise ValueError()\n",
    "        elif yminPixel < 0 or ymaxPixel >= tif_array.shape[0]:\n",
    "            print(f\"no match for {r.cluster_lat}, {r.cluster_lon}\")\n",
    "            raise ValueError()\n",
    "        xminPixel, yminPixel, xmaxPixel, ymaxPixel = int(xminPixel), int(yminPixel), int(xmaxPixel), int(ymaxPixel)\n",
    "        cluster_temps.append(tif_array[yminPixel:ymaxPixel,xminPixel:xmaxPixel].mean())\n",
    "    \n",
    "    new_cluster_temps = []\n",
    "    for i,r in df.iterrows():\n",
    "        min_lat, min_lon, max_lat, max_lon = create_space(r.cluster_lat, r.cluster_lon)\n",
    "        \n",
    "        xminPixel, ymaxPixel = new_tif.proj_to_raster(min_lon, min_lat)\n",
    "        xmaxPixel, yminPixel = new_tif.proj_to_raster(max_lon, max_lat)\n",
    "        assert xminPixel < xmaxPixel, print(r.cluster_lat, r.cluster_lon)\n",
    "        assert yminPixel < ymaxPixel, print(r.cluster_lat, r.cluster_lon)\n",
    "        if xminPixel < 0 or xmaxPixel >= new_tif_array.shape[1]:\n",
    "            print(f\"no match for {r.cluster_lat}, {r.cluster_lon}\")\n",
    "            raise ValueError()\n",
    "        elif yminPixel < 0 or ymaxPixel >= new_tif_array.shape[0]:\n",
    "            print(f\"no match for {r.cluster_lat}, {r.cluster_lon}\")\n",
    "            raise ValueError()\n",
    "        xminPixel, yminPixel, xmaxPixel, ymaxPixel = int(xminPixel), int(yminPixel), int(xmaxPixel), int(ymaxPixel)\n",
    "        new_cluster_temps.append(new_tif_array[yminPixel:ymaxPixel,xminPixel:xmaxPixel].mean())\n",
    "        \n",
    "    array1 = np.array(new_cluster_temps)\n",
    "    array2 = np.array(cluster_temps)\n",
    "    subtracted_array = np.subtract(array1, array2)\n",
    "    delta_temps = list(subtracted_array)\n",
    "    df['temp'] = delta_temps"
   ]
  },
  {
   "cell_type": "code",
   "execution_count": 51,
   "metadata": {},
   "outputs": [
    {
     "name": "stderr",
     "output_type": "stream",
     "text": [
      "/var/folders/yw/3z56n_vx4vq9g05qrxzrr4m40000gn/T/ipykernel_31367/536466376.py:47: SettingWithCopyWarning: \n",
      "A value is trying to be set on a copy of a slice from a DataFrame.\n",
      "Try using .loc[row_indexer,col_indexer] = value instead\n",
      "\n",
      "See the caveats in the documentation: https://pandas.pydata.org/pandas-docs/stable/user_guide/indexing.html#returning-a-view-versus-a-copy\n",
      "  df['temp'] = delta_temps\n"
     ]
    }
   ],
   "source": [
    "add_temps(df_eth, old_tifs[0], new_tifs[0], old_tif_array, new_tif_array)"
   ]
  },
  {
   "cell_type": "code",
   "execution_count": 52,
   "metadata": {},
   "outputs": [
    {
     "data": {
      "text/html": [
       "<div>\n",
       "<style scoped>\n",
       "    .dataframe tbody tr th:only-of-type {\n",
       "        vertical-align: middle;\n",
       "    }\n",
       "\n",
       "    .dataframe tbody tr th {\n",
       "        vertical-align: top;\n",
       "    }\n",
       "\n",
       "    .dataframe thead th {\n",
       "        text-align: right;\n",
       "    }\n",
       "</style>\n",
       "<table border=\"1\" class=\"dataframe\">\n",
       "  <thead>\n",
       "    <tr style=\"text-align: right;\">\n",
       "      <th></th>\n",
       "      <th>country</th>\n",
       "      <th>cluster_lat</th>\n",
       "      <th>cluster_lon</th>\n",
       "      <th>cons_pc</th>\n",
       "      <th>temp</th>\n",
       "    </tr>\n",
       "  </thead>\n",
       "  <tbody>\n",
       "    <tr>\n",
       "      <th>0</th>\n",
       "      <td>eth</td>\n",
       "      <td>3.609384</td>\n",
       "      <td>39.021503</td>\n",
       "      <td>16.641462</td>\n",
       "      <td>2.225000</td>\n",
       "    </tr>\n",
       "    <tr>\n",
       "      <th>1</th>\n",
       "      <td>eth</td>\n",
       "      <td>4.010758</td>\n",
       "      <td>41.765862</td>\n",
       "      <td>8.226561</td>\n",
       "      <td>1.557117</td>\n",
       "    </tr>\n",
       "    <tr>\n",
       "      <th>2</th>\n",
       "      <td>eth</td>\n",
       "      <td>4.439883</td>\n",
       "      <td>41.876270</td>\n",
       "      <td>18.858865</td>\n",
       "      <td>1.662502</td>\n",
       "    </tr>\n",
       "    <tr>\n",
       "      <th>3</th>\n",
       "      <td>eth</td>\n",
       "      <td>4.730678</td>\n",
       "      <td>41.537197</td>\n",
       "      <td>16.841644</td>\n",
       "      <td>1.847916</td>\n",
       "    </tr>\n",
       "    <tr>\n",
       "      <th>4</th>\n",
       "      <td>eth</td>\n",
       "      <td>4.744136</td>\n",
       "      <td>36.045395</td>\n",
       "      <td>5.768457</td>\n",
       "      <td>2.642365</td>\n",
       "    </tr>\n",
       "  </tbody>\n",
       "</table>\n",
       "</div>"
      ],
      "text/plain": [
       "  country  cluster_lat  cluster_lon    cons_pc      temp\n",
       "0     eth     3.609384    39.021503  16.641462  2.225000\n",
       "1     eth     4.010758    41.765862   8.226561  1.557117\n",
       "2     eth     4.439883    41.876270  18.858865  1.662502\n",
       "3     eth     4.730678    41.537197  16.841644  1.847916\n",
       "4     eth     4.744136    36.045395   5.768457  2.642365"
      ]
     },
     "execution_count": 52,
     "metadata": {},
     "output_type": "execute_result"
    }
   ],
   "source": [
    "df_eth.head()"
   ]
  },
  {
   "cell_type": "code",
   "execution_count": 53,
   "metadata": {},
   "outputs": [
    {
     "data": {
      "image/png": "[encoded data removed]",
      "text/plain": [
       "<Figure size 640x480 with 1 Axes>"
      ]
     },
     "metadata": {},
     "output_type": "display_data"
    }
   ],
   "source": [
    "df_eth.plot.scatter(x=\"temp\", y=\"cons_pc\")\n",
    "x = df_eth['temp']\n",
    "y = df_eth['cons_pc']\n",
    "# plt.plot(np.unique(x), np.poly1d(np.polyfit(x, y, 1))(np.unique(x)))\n",
    "# plt.plot(x, y)\n",
    "# plt.xlim([0,])\n",
    "# plt.ylim() \n",
    "plt.show()"
   ]
  },
  {
   "cell_type": "code",
   "execution_count": 37,
   "metadata": {},
   "outputs": [],
   "source": [
    "for country in ['ethiopia_2015']:\n",
    "    os.makedirs(os.path.join(COUNTRIES_DIR, country, 'processed'), exist_ok=True)"
   ]
  },
  {
   "cell_type": "code",
   "execution_count": 38,
   "metadata": {},
   "outputs": [],
   "source": [
    "df_eth.to_csv(os.path.join(COUNTRIES_DIR, 'ethiopia_2015', 'processed/clusters.csv'), index=False)"
   ]
  },
  {
   "cell_type": "code",
   "execution_count": null,
   "metadata": {},
   "outputs": [],
   "source": []
  }
 ],
 "metadata": {
  "environment": {
   "name": "pytorch-gpu.1-4.m46",
   "type": "gcloud",
   "uri": "gcr.io/deeplearning-platform-release/pytorch-gpu.1-4:m46"
  },
  "kernelspec": {
   "display_name": "pypoverty38",
   "language": "python",
   "name": "pypoverty38"
  },
  "language_info": {
   "codemirror_mode": {
    "name": "ipython",
    "version": 3
   },
   "file_extension": ".py",
   "mimetype": "text/x-python",
   "name": "python",
   "nbconvert_exporter": "python",
   "pygments_lexer": "ipython3",
   "version": "3.8.13"
  }
 },
 "nbformat": 4,
 "nbformat_minor": 2
}
