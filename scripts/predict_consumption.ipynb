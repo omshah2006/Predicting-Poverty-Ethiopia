{
 "cells": [
  {
   "cell_type": "markdown",
   "metadata": {},
   "source": [
    "Using the cluster_feats saved in each country's results folder, we will finally predict the metric of interest (consumption per capita). There are many ways to evaluate our results, I do the following: <br>\n",
    "1) randomized CV - use 5-fold cross validation randomly on all clusters, all countries <br>\n",
    "2) randomized CV per country - use 5-fold cross validation within a country for all countries <br>\n",
    "3) spatial CV per country - use 5-fold cross validation but folds consist of clusters that are geographically close <br>\n",
    "4) cross-country CV - we have three countries, so hold one country out and perform cross validation <br>\n",
    "\n",
    "Jean et al use the 2nd evaluation method. One important point: in their code, they use pearson R and square it to get R^2. The more conventional way is shown here: https://en.wikipedia.org/wiki/Coefficient_of_determination. I use the latter method, as in my experience this is standard for reporting R^2. Jean et al's method will likely lead to a higher \"R^2\" than the conventional method, and doing so prevents a negative R^2 whereas the conventional method allows that possibility."
   ]
  },
  {
   "cell_type": "code",
   "execution_count": 1,
   "metadata": {},
   "outputs": [],
   "source": [
    "import os\n",
    "import numpy as np\n",
    "import pandas as pd\n",
    "import pickle\n",
    "import matplotlib.pyplot as plt"
   ]
  },
  {
   "cell_type": "code",
   "execution_count": 2,
   "metadata": {},
   "outputs": [],
   "source": [
    "BASE_DIR = '..'\n",
    "\n",
    "RANDOM_SEED = 7 # for reproducibility\n",
    "COUNTRIES_DIR = os.path.join(BASE_DIR, 'data', 'countries')\n",
    "RESULTS_DIR = os.path.join(BASE_DIR, 'results')\n",
    "FIGURES_DIR = os.path.join(BASE_DIR, 'figures')"
   ]
  },
  {
   "cell_type": "code",
   "execution_count": 8,
   "metadata": {},
   "outputs": [],
   "source": [
    "import sys\n",
    "sys.path.append(BASE_DIR)\n",
    "from utils import merge_on_lat_lon, assign_groups, run_randomized_cv, run_spatial_cv"
   ]
  },
  {
   "cell_type": "markdown",
   "metadata": {},
   "source": [
    "# Predict Consumption"
   ]
  },
  {
   "cell_type": "code",
   "execution_count": 119,
   "metadata": {},
   "outputs": [],
   "source": [
    "def load_country(country):\n",
    "    '''\n",
    "    Organizes the country's dataframe so that each index corresponds to the index in the cluster features\n",
    "    Returns the cluster features and the organized dataframe\n",
    "    '''\n",
    "\n",
    "    country_processed_dir = os.path.join(COUNTRIES_DIR, country, 'processed')\n",
    "    country_results_dir = os.path.join(RESULTS_DIR, country, 'cnn')\n",
    "    x = np.load(os.path.join(country_results_dir, 'cluster_feats.npy'))\n",
    "    cluster_list = pickle.load(open(os.path.join(country_results_dir, 'cluster_order.pkl'), 'rb'))\n",
    "    cluster_list = pd.DataFrame.from_records(cluster_list, columns=['cluster_lat', 'cluster_lon'])\n",
    "    cluster_list['feat_index'] = np.arange(len(cluster_list))\n",
    "    \n",
    "    df_clusters = pd.read_csv(os.path.join(country_processed_dir, 'clusters.csv'))\n",
    "    \n",
    "    # ---WARNING--- HARDCODED DELETION \n",
    "    if country == 'malawi_2016':\n",
    "        cluster_list.drop(cluster_list.tail(70).index, inplace = True)\n",
    "        x = x[:-70, :]\n",
    "    elif country == 'ethiopia_2015':\n",
    "        cluster_list.drop(cluster_list.tail(77).index, inplace = True)\n",
    "        x = x[:-77, :]\n",
    "    elif country == 'nigeria_2015':\n",
    "        cluster_list.drop(cluster_list.tail(66).index, inplace = True)\n",
    "        x = x[:-66, :]\n",
    "        \n",
    "    assert len(df_clusters) == len(cluster_list)\n",
    "\n",
    "    df = merge_on_lat_lon(df_clusters, cluster_list, keys=['cluster_lat', 'cluster_lon'])\n",
    "    assert len(df) == len(df_clusters) == len(cluster_list)\n",
    "    df.sort_values('feat_index', ascending=True, inplace=True)\n",
    "    return x, df"
   ]
  },
  {
   "cell_type": "code",
   "execution_count": 120,
   "metadata": {},
   "outputs": [],
   "source": [
    "x_mw, df_mw = load_country('malawi_2016')\n",
    "x_eth, df_eth = load_country('ethiopia_2015')\n",
    "x_ng, df_ng = load_country('nigeria_2015')"
   ]
  },
  {
   "cell_type": "code",
   "execution_count": 121,
   "metadata": {},
   "outputs": [],
   "source": [
    "y_mw = df_mw['cons_pc'].values\n",
    "y_eth = df_eth['cons_pc'].values\n",
    "y_ng = df_ng['cons_pc'].values"
   ]
  },
  {
   "cell_type": "code",
   "execution_count": 122,
   "metadata": {},
   "outputs": [],
   "source": [
    "def test_fully_randomized_cv():\n",
    "    print(\"Testing fully randomized CV:\\n--------------\\n\")\n",
    "    x_all = np.concatenate([x_mw, x_eth, x_ng], axis=0)\n",
    "    y_all = np.concatenate([y_mw, y_eth, y_ng], axis=0)\n",
    "    r2_direct, _ = run_randomized_cv(x_all, y_all, random_seed=RANDOM_SEED, to_print=False)\n",
    "    r2_log, _ = run_randomized_cv(x_all, np.log(y_all), random_seed=RANDOM_SEED)\n",
    "    print(f\"For fully randomized cv: direct r2: {r2_direct}, log r2: {r2_log}\")\n",
    "    \n",
    "def test_randomized_cv_per_country():\n",
    "    print(\"Testing per country randomized CV:\\n--------------\\n\")\n",
    "    xs = [x_mw, x_eth, x_ng]\n",
    "    ys = [y_mw, y_eth, y_ng]\n",
    "    countries = ['malawi_2016', 'ethiopia_2015', 'nigeria_2015']\n",
    "    for x, y, c in zip(xs, ys, countries):\n",
    "        r2_direct, _ = run_randomized_cv(x, y, random_seed=RANDOM_SEED, to_print=False)\n",
    "        r2_log, _ = run_randomized_cv(x, np.log(y), random_seed=RANDOM_SEED)\n",
    "        print(f\"For {c}, direct r2: {r2_direct}, log r2: {r2_log}\")\n",
    "    \n",
    "def test_spatial_cv_per_country():\n",
    "    print(\"Testing per country spatial CV:\\n--------------\\n\")\n",
    "    xs = [x_mw, x_eth, x_ng]\n",
    "    ys = [y_mw, y_eth, y_ng]\n",
    "    dfs = [df_mw, df_eth, df_ng]\n",
    "    countries = ['malawi_2016', 'ethiopia_2015', 'nigeria_2015']\n",
    "    for x, y, df, c in zip(xs, ys, dfs, countries):\n",
    "        groups, _ = assign_groups(df, k=5, random_seed=RANDOM_SEED)\n",
    "        r2_direct, _ = run_spatial_cv(x, y, groups, random_seed=RANDOM_SEED)\n",
    "        r2_log, _ = run_spatial_cv(x, np.log(y), groups, random_seed=RANDOM_SEED)\n",
    "        print(f\"For {c}, direct r2: {r2_direct}, log r2: {r2_log}\")\n",
    "    \n",
    "def test_cross_country_cv():\n",
    "    print(\"Testing cross country CV:\\n--------------\\n\")\n",
    "    x_all = np.concatenate([x_mw, x_eth, x_ng], axis=0)\n",
    "    y_all = np.concatenate([y_mw, y_eth, y_ng], axis=0)\n",
    "    groups = np.zeros_like(y_all)\n",
    "    groups[len(y_mw) : len(y_mw) + len(y_eth)] = 1 # ethiopia indices become 1\n",
    "    groups[len(y_mw) + len(y_eth):] = 2 # nigeria indices become 2\n",
    "    r2_direct, _ = run_spatial_cv(x_all, y_all, groups, random_seed=RANDOM_SEED, k_inner=10)\n",
    "    r2_log, _ = run_spatial_cv(x_all, np.log(y_all), groups, random_seed=RANDOM_SEED, k_inner=10)\n",
    "    print(f\"For cross country cv: direct r2: {r2_direct}, log r2: {r2_log}\")"
   ]
  },
  {
   "cell_type": "code",
   "execution_count": 123,
   "metadata": {
    "scrolled": false
   },
   "outputs": [
    {
     "name": "stdout",
     "output_type": "stream",
     "text": [
      "Testing fully randomized CV:\n",
      "--------------\n",
      "\n",
      "For fully randomized cv: direct r2: 0.10891781443356792, log r2: 0.29020927452369705\n"
     ]
    }
   ],
   "source": [
    "# this concatenates all countries and runs randomized CV\n",
    "test_fully_randomized_cv()"
   ]
  },
  {
   "cell_type": "code",
   "execution_count": 124,
   "metadata": {},
   "outputs": [
    {
     "name": "stdout",
     "output_type": "stream",
     "text": [
      "Testing per country randomized CV:\n",
      "--------------\n",
      "\n",
      "For malawi_2016, direct r2: 0.07021181854622519, log r2: 0.4553432664898763\n"
     ]
    },
    {
     "name": "stderr",
     "output_type": "stream",
     "text": [
      "/root/miniconda3/envs/omtest/lib/python3.7/site-packages/sklearn/linear_model/_ridge.py:194: LinAlgWarning: Ill-conditioned matrix (rcond=3.22059e-18): result may not be accurate.\n",
      "  dual_coef = linalg.solve(K, y, sym_pos=True, overwrite_a=False)\n"
     ]
    },
    {
     "name": "stdout",
     "output_type": "stream",
     "text": [
      "For ethiopia_2015, direct r2: -0.6593470409230445, log r2: -0.2190582520739292\n"
     ]
    },
    {
     "name": "stderr",
     "output_type": "stream",
     "text": [
      "/root/miniconda3/envs/omtest/lib/python3.7/site-packages/sklearn/linear_model/_ridge.py:197: UserWarning: Singular matrix in solving dual problem. Using least-squares solution instead.\n",
      "  \"Singular matrix in solving dual problem. Using \"\n",
      "/root/miniconda3/envs/omtest/lib/python3.7/site-packages/sklearn/linear_model/_ridge.py:197: UserWarning: Singular matrix in solving dual problem. Using least-squares solution instead.\n",
      "  \"Singular matrix in solving dual problem. Using \"\n",
      "/root/miniconda3/envs/omtest/lib/python3.7/site-packages/sklearn/linear_model/_ridge.py:194: LinAlgWarning: Ill-conditioned matrix (rcond=6.6997e-19): result may not be accurate.\n",
      "  dual_coef = linalg.solve(K, y, sym_pos=True, overwrite_a=False)\n",
      "/root/miniconda3/envs/omtest/lib/python3.7/site-packages/sklearn/linear_model/_ridge.py:197: UserWarning: Singular matrix in solving dual problem. Using least-squares solution instead.\n",
      "  \"Singular matrix in solving dual problem. Using \"\n",
      "/root/miniconda3/envs/omtest/lib/python3.7/site-packages/sklearn/linear_model/_ridge.py:197: UserWarning: Singular matrix in solving dual problem. Using least-squares solution instead.\n",
      "  \"Singular matrix in solving dual problem. Using \"\n",
      "/root/miniconda3/envs/omtest/lib/python3.7/site-packages/sklearn/linear_model/_ridge.py:197: UserWarning: Singular matrix in solving dual problem. Using least-squares solution instead.\n",
      "  \"Singular matrix in solving dual problem. Using \"\n",
      "/root/miniconda3/envs/omtest/lib/python3.7/site-packages/sklearn/linear_model/_ridge.py:194: LinAlgWarning: Ill-conditioned matrix (rcond=6.6997e-19): result may not be accurate.\n",
      "  dual_coef = linalg.solve(K, y, sym_pos=True, overwrite_a=False)\n",
      "/root/miniconda3/envs/omtest/lib/python3.7/site-packages/sklearn/linear_model/_ridge.py:197: UserWarning: Singular matrix in solving dual problem. Using least-squares solution instead.\n",
      "  \"Singular matrix in solving dual problem. Using \"\n"
     ]
    },
    {
     "name": "stdout",
     "output_type": "stream",
     "text": [
      "For nigeria_2015, direct r2: -1.3050241430480467, log r2: -1.4040397633606123\n"
     ]
    }
   ],
   "source": [
    "# this runs randomized CV per country; this is how Jean et al report their results\n",
    "# we can see that the model does perform well, although how well it performs varies greatly\n",
    "# in our three countries. It is difficult to make statements about why the model \n",
    "# does better in certain countries (and why predicting the log doesn't do better in ethiopia)\n",
    "# without more analysis and more countries\n",
    "test_randomized_cv_per_country()"
   ]
  },
  {
   "cell_type": "code",
   "execution_count": 125,
   "metadata": {},
   "outputs": [
    {
     "name": "stdout",
     "output_type": "stream",
     "text": [
      "Testing per country spatial CV:\n",
      "--------------\n",
      "\n",
      "For malawi_2016, direct r2: -1.6618295975747315, log r2: -0.7875859962688319\n"
     ]
    },
    {
     "name": "stderr",
     "output_type": "stream",
     "text": [
      "/root/miniconda3/envs/omtest/lib/python3.7/site-packages/sklearn/linear_model/_ridge.py:194: LinAlgWarning: Ill-conditioned matrix (rcond=2.79008e-17): result may not be accurate.\n",
      "  dual_coef = linalg.solve(K, y, sym_pos=True, overwrite_a=False)\n",
      "/root/miniconda3/envs/omtest/lib/python3.7/site-packages/sklearn/linear_model/_ridge.py:194: LinAlgWarning: Ill-conditioned matrix (rcond=1.17513e-17): result may not be accurate.\n",
      "  dual_coef = linalg.solve(K, y, sym_pos=True, overwrite_a=False)\n",
      "/root/miniconda3/envs/omtest/lib/python3.7/site-packages/sklearn/linear_model/_ridge.py:194: LinAlgWarning: Ill-conditioned matrix (rcond=1.94997e-18): result may not be accurate.\n",
      "  dual_coef = linalg.solve(K, y, sym_pos=True, overwrite_a=False)\n"
     ]
    },
    {
     "name": "stdout",
     "output_type": "stream",
     "text": [
      "For ethiopia_2015, direct r2: -0.6226642919705593, log r2: -0.19559330343919593\n"
     ]
    },
    {
     "name": "stderr",
     "output_type": "stream",
     "text": [
      "/root/miniconda3/envs/omtest/lib/python3.7/site-packages/sklearn/linear_model/_ridge.py:197: UserWarning: Singular matrix in solving dual problem. Using least-squares solution instead.\n",
      "  \"Singular matrix in solving dual problem. Using \"\n",
      "/root/miniconda3/envs/omtest/lib/python3.7/site-packages/sklearn/linear_model/_ridge.py:194: LinAlgWarning: Ill-conditioned matrix (rcond=1.77147e-18): result may not be accurate.\n",
      "  dual_coef = linalg.solve(K, y, sym_pos=True, overwrite_a=False)\n",
      "/root/miniconda3/envs/omtest/lib/python3.7/site-packages/sklearn/linear_model/_ridge.py:197: UserWarning: Singular matrix in solving dual problem. Using least-squares solution instead.\n",
      "  \"Singular matrix in solving dual problem. Using \"\n",
      "/root/miniconda3/envs/omtest/lib/python3.7/site-packages/sklearn/linear_model/_ridge.py:194: LinAlgWarning: Ill-conditioned matrix (rcond=7.75341e-18): result may not be accurate.\n",
      "  dual_coef = linalg.solve(K, y, sym_pos=True, overwrite_a=False)\n",
      "/root/miniconda3/envs/omtest/lib/python3.7/site-packages/sklearn/linear_model/_ridge.py:194: LinAlgWarning: Ill-conditioned matrix (rcond=6.70486e-18): result may not be accurate.\n",
      "  dual_coef = linalg.solve(K, y, sym_pos=True, overwrite_a=False)\n",
      "/root/miniconda3/envs/omtest/lib/python3.7/site-packages/sklearn/linear_model/_ridge.py:197: UserWarning: Singular matrix in solving dual problem. Using least-squares solution instead.\n",
      "  \"Singular matrix in solving dual problem. Using \"\n",
      "/root/miniconda3/envs/omtest/lib/python3.7/site-packages/sklearn/linear_model/_ridge.py:194: LinAlgWarning: Ill-conditioned matrix (rcond=1.77147e-18): result may not be accurate.\n",
      "  dual_coef = linalg.solve(K, y, sym_pos=True, overwrite_a=False)\n",
      "/root/miniconda3/envs/omtest/lib/python3.7/site-packages/sklearn/linear_model/_ridge.py:197: UserWarning: Singular matrix in solving dual problem. Using least-squares solution instead.\n",
      "  \"Singular matrix in solving dual problem. Using \"\n",
      "/root/miniconda3/envs/omtest/lib/python3.7/site-packages/sklearn/linear_model/_ridge.py:194: LinAlgWarning: Ill-conditioned matrix (rcond=7.75341e-18): result may not be accurate.\n",
      "  dual_coef = linalg.solve(K, y, sym_pos=True, overwrite_a=False)\n"
     ]
    },
    {
     "name": "stdout",
     "output_type": "stream",
     "text": [
      "For nigeria_2015, direct r2: -2.3517932063510107, log r2: -1.4699443540389967\n"
     ]
    },
    {
     "name": "stderr",
     "output_type": "stream",
     "text": [
      "/root/miniconda3/envs/omtest/lib/python3.7/site-packages/sklearn/linear_model/_ridge.py:194: LinAlgWarning: Ill-conditioned matrix (rcond=6.70486e-18): result may not be accurate.\n",
      "  dual_coef = linalg.solve(K, y, sym_pos=True, overwrite_a=False)\n"
     ]
    }
   ],
   "source": [
    "# spatial CV provides very inconsistent results. this indicates that the model is \n",
    "# greatly advantaged in randomized CV, most likely because it can train on one cluster and \n",
    "# validate on a nearby cluster. this suggests there is still more to be desired for a truly generalizable model\n",
    "test_spatial_cv_per_country()"
   ]
  },
  {
   "cell_type": "code",
   "execution_count": 126,
   "metadata": {},
   "outputs": [
    {
     "name": "stdout",
     "output_type": "stream",
     "text": [
      "Testing cross country CV:\n",
      "--------------\n",
      "\n"
     ]
    },
    {
     "name": "stderr",
     "output_type": "stream",
     "text": [
      "/root/miniconda3/envs/omtest/lib/python3.7/site-packages/sklearn/linear_model/_ridge.py:194: LinAlgWarning: Ill-conditioned matrix (rcond=3.1273e-18): result may not be accurate.\n",
      "  dual_coef = linalg.solve(K, y, sym_pos=True, overwrite_a=False)\n",
      "/root/miniconda3/envs/omtest/lib/python3.7/site-packages/sklearn/linear_model/_ridge.py:194: LinAlgWarning: Ill-conditioned matrix (rcond=3.1273e-18): result may not be accurate.\n",
      "  dual_coef = linalg.solve(K, y, sym_pos=True, overwrite_a=False)\n"
     ]
    },
    {
     "name": "stdout",
     "output_type": "stream",
     "text": [
      "For cross country cv: direct r2: -58.75067261466045, log r2: -9.454248610892966\n"
     ]
    }
   ],
   "source": [
    "# the model does not generalize if trained on two countries to predict the third\n",
    "# slight tweaks to this function can show how each country faired when held out\n",
    "test_cross_country_cv()"
   ]
  },
  {
   "cell_type": "code",
   "execution_count": null,
   "metadata": {},
   "outputs": [],
   "source": []
  },
  {
   "cell_type": "markdown",
   "metadata": {},
   "source": [
    "# Plots"
   ]
  },
  {
   "cell_type": "code",
   "execution_count": 127,
   "metadata": {},
   "outputs": [],
   "source": [
    "def plot_predictions(y, yhat, r2, country, max_y=None):\n",
    "    if max_y is not None:\n",
    "        yhat = yhat[y < max_y]\n",
    "        y = y[y < max_y]\n",
    "    fig = plt.figure(figsize=(8,5))\n",
    "    plt.scatter(y, yhat, alpha=0.6)\n",
    "    plt.plot(np.unique(y), np.poly1d(np.polyfit(y, yhat, 1))(np.unique(y)), color='g')\n",
    "    plt.text(15.5, 7, f'r^2={round(r2, 2)}', size=12)\n",
    "    plt.xlabel('Actual Consumption($/day)')\n",
    "    plt.ylabel('Predicted Consumption($/day)')\n",
    "    plt.title(f'{country} Results')\n",
    "    return fig"
   ]
  },
  {
   "cell_type": "code",
   "execution_count": 128,
   "metadata": {},
   "outputs": [],
   "source": [
    "r2, yhat_mw = run_randomized_cv(x_mw, y_mw, random_seed=RANDOM_SEED, to_print=False)"
   ]
  },
  {
   "cell_type": "code",
   "execution_count": 129,
   "metadata": {},
   "outputs": [
    {
     "data": {
      "image/png": "[encoded data removed]",
      "text/plain": [
       "<Figure size 576x360 with 1 Axes>"
      ]
     },
     "metadata": {
      "needs_background": "light"
     },
     "output_type": "display_data"
    }
   ],
   "source": [
    "fig = plot_predictions(y_mw, yhat_mw, r2, 'Malawi', max_y=20)"
   ]
  },
  {
   "cell_type": "code",
   "execution_count": 110,
   "metadata": {},
   "outputs": [],
   "source": [
    "fig.savefig(os.path.join(FIGURES_DIR, 'malawi_results.png'))"
   ]
  },
  {
   "cell_type": "code",
   "execution_count": 111,
   "metadata": {},
   "outputs": [
    {
     "data": {
      "text/plain": [
       "<Figure size 432x288 with 0 Axes>"
      ]
     },
     "metadata": {},
     "output_type": "display_data"
    }
   ],
   "source": [
    "plt.savefig('malawi_results.png')"
   ]
  },
  {
   "cell_type": "code",
   "execution_count": 112,
   "metadata": {},
   "outputs": [
    {
     "name": "stderr",
     "output_type": "stream",
     "text": [
      "/root/miniconda3/envs/omtest/lib/python3.7/site-packages/sklearn/linear_model/_ridge.py:194: LinAlgWarning: Ill-conditioned matrix (rcond=3.22059e-18): result may not be accurate.\n",
      "  dual_coef = linalg.solve(K, y, sym_pos=True, overwrite_a=False)\n"
     ]
    }
   ],
   "source": [
    "r2, yhat_eth = run_randomized_cv(x_eth, y_eth, random_seed=RANDOM_SEED, to_print=False)"
   ]
  },
  {
   "cell_type": "code",
   "execution_count": 114,
   "metadata": {},
   "outputs": [
    {
     "data": {
      "image/png": "[encoded data removed]",
      "text/plain": [
       "<Figure size 576x360 with 1 Axes>"
      ]
     },
     "metadata": {
      "needs_background": "light"
     },
     "output_type": "display_data"
    }
   ],
   "source": [
    "fig = plot_predictions(y_eth, yhat_eth, r2, 'Ethiopia', max_y=30)"
   ]
  },
  {
   "cell_type": "code",
   "execution_count": 115,
   "metadata": {},
   "outputs": [],
   "source": [
    "fig.savefig(os.path.join(FIGURES_DIR, 'ethiopia_results.png'))"
   ]
  },
  {
   "cell_type": "code",
   "execution_count": 116,
   "metadata": {},
   "outputs": [
    {
     "name": "stderr",
     "output_type": "stream",
     "text": [
      "/root/miniconda3/envs/omtest/lib/python3.7/site-packages/sklearn/linear_model/_ridge.py:197: UserWarning: Singular matrix in solving dual problem. Using least-squares solution instead.\n",
      "  \"Singular matrix in solving dual problem. Using \"\n",
      "/root/miniconda3/envs/omtest/lib/python3.7/site-packages/sklearn/linear_model/_ridge.py:197: UserWarning: Singular matrix in solving dual problem. Using least-squares solution instead.\n",
      "  \"Singular matrix in solving dual problem. Using \"\n",
      "/root/miniconda3/envs/omtest/lib/python3.7/site-packages/sklearn/linear_model/_ridge.py:194: LinAlgWarning: Ill-conditioned matrix (rcond=6.6997e-19): result may not be accurate.\n",
      "  dual_coef = linalg.solve(K, y, sym_pos=True, overwrite_a=False)\n",
      "/root/miniconda3/envs/omtest/lib/python3.7/site-packages/sklearn/linear_model/_ridge.py:197: UserWarning: Singular matrix in solving dual problem. Using least-squares solution instead.\n",
      "  \"Singular matrix in solving dual problem. Using \"\n"
     ]
    }
   ],
   "source": [
    "r2, yhat_ng = run_randomized_cv(x_ng, y_ng, random_seed=RANDOM_SEED, to_print=False)"
   ]
  },
  {
   "cell_type": "code",
   "execution_count": 117,
   "metadata": {},
   "outputs": [
    {
     "data": {
      "image/png": "[encoded data removed]",
      "text/plain": [
       "<Figure size 576x360 with 1 Axes>"
      ]
     },
     "metadata": {
      "needs_background": "light"
     },
     "output_type": "display_data"
    }
   ],
   "source": [
    "fig = plot_predictions(y_ng, yhat_ng, r2, 'Nigeria', max_y=20)"
   ]
  },
  {
   "cell_type": "code",
   "execution_count": 118,
   "metadata": {},
   "outputs": [],
   "source": [
    "fig.savefig(os.path.join(FIGURES_DIR, 'nigeria_results.png'))"
   ]
  },
  {
   "cell_type": "code",
   "execution_count": null,
   "metadata": {},
   "outputs": [],
   "source": []
  }
 ],
 "metadata": {
  "environment": {
   "name": "pytorch-gpu.1-4.m46",
   "type": "gcloud",
   "uri": "gcr.io/deeplearning-platform-release/pytorch-gpu.1-4:m46"
  },
  "kernelspec": {
   "display_name": "omtest",
   "language": "python",
   "name": "omtest"
  },
  "language_info": {
   "codemirror_mode": {
    "name": "ipython",
    "version": 3
   },
   "file_extension": ".py",
   "mimetype": "text/x-python",
   "name": "python",
   "nbconvert_exporter": "python",
   "pygments_lexer": "ipython3",
   "version": "3.7.11"
  }
 },
 "nbformat": 4,
 "nbformat_minor": 2
}
