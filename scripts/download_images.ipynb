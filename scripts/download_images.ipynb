{
 "cells": [
  {
   "cell_type": "markdown",
   "metadata": {},
   "source": [
    "Skip the first two steps if you've already ran them and simply need to continue downloading images"
   ]
  },
  {
   "cell_type": "code",
   "execution_count": 1,
   "metadata": {},
   "outputs": [],
   "source": [
    "import math\n",
    "import random\n",
    "import os\n",
    "import numpy as np\n",
    "import pandas as pd\n",
    "from osgeo import gdal, osr\n",
    "from tqdm.notebook import tqdm\n",
    "\n",
    "import requests\n",
    "import matplotlib.pyplot as plt\n",
    "from io import BytesIO\n",
    "import logging\n",
    "import time"
   ]
  },
  {
   "cell_type": "code",
   "execution_count": 2,
   "metadata": {},
   "outputs": [],
   "source": [
    "BASE_DIR = '..'\n",
    "COUNTRIES_DIR = os.path.join(BASE_DIR, 'data', 'countries')\n",
    "PROCESSED_DIR = os.path.join(BASE_DIR, 'data', 'processed')\n",
    "# can try using the google downloader, in which case change this to be your google api token\n",
    "ACCESS_TOKEN_DIR = os.path.join(BASE_DIR, 'google_api_key.txt')\n",
    "\n",
    "RANDOM_SEED = 7 # for reproducibility\n",
    "\n",
    "# each cluster must have AT LEAST this many images after doing nightlights processing\n",
    "MIN_IMAGES_PER_CLUSTER = 10"
   ]
  },
  {
   "cell_type": "code",
   "execution_count": 3,
   "metadata": {},
   "outputs": [],
   "source": [
    "import sys\n",
    "sys.path.append(BASE_DIR)\n",
    "from utils import create_space"
   ]
  },
  {
   "cell_type": "markdown",
   "metadata": {},
   "source": [
    "# Generate Download Locations"
   ]
  },
  {
   "cell_type": "code",
   "execution_count": 4,
   "metadata": {},
   "outputs": [],
   "source": [
    "df_eth = pd.read_csv(os.path.join(COUNTRIES_DIR, 'ethiopia_2015', 'processed/clusters.csv'))"
   ]
  },
  {
   "cell_type": "code",
   "execution_count": 5,
   "metadata": {},
   "outputs": [],
   "source": [
    "for country in ['ethiopia_2015']:\n",
    "    os.makedirs(os.path.join(COUNTRIES_DIR, country, 'images'), exist_ok=False)"
   ]
  },
  {
   "cell_type": "code",
   "execution_count": 6,
   "metadata": {},
   "outputs": [],
   "source": [
    "def generate_download_locations(df, ipc=50):\n",
    "    '''\n",
    "    Takes a dataframe with columns cluster_lat, cluster_lon\n",
    "    Generates a 10km x 10km bounding box around the cluster and samples \n",
    "    ipc images per cluster. First samples in a grid fashion, then any \n",
    "    remaining points are randomly (uniformly) chosen\n",
    "    '''\n",
    "    np.random.seed(RANDOM_SEED) # for reproducability\n",
    "    df_download = {'image_name': [], 'image_lat': [], 'image_lon': [], 'cluster_lat': [], \n",
    "                   'cluster_lon': [], 'cons_pc': [], 'total_hv': [] }\n",
    "    \n",
    "    # side length of square for uniform distribution\n",
    "    edge_num = math.floor(math.sqrt(ipc))\n",
    "    for _, r in df.iterrows():\n",
    "        min_lat, min_lon, max_lat, max_lon = create_space(r.cluster_lat, r.cluster_lon)\n",
    "        lats = np.linspace(min_lat, max_lat, edge_num).tolist()\n",
    "        lons = np.linspace(min_lon, max_lon, edge_num).tolist()\n",
    "\n",
    "        # performs cartesian product\n",
    "        uniform_points = np.transpose([np.tile(lats, len(lons)), np.repeat(lons, len(lats))])\n",
    "        \n",
    "        lats = uniform_points[:,0].tolist()\n",
    "        lons = uniform_points[:,1].tolist()\n",
    "        \n",
    "        # fills the remainder with random points\n",
    "        for _ in range(ipc - edge_num * edge_num):\n",
    "            lat = random.uniform(min_lat, max_lat)\n",
    "            lon = random.uniform(min_lon, max_lon)\n",
    "            lats.append(lat)\n",
    "            lons.append(lon)\n",
    "        \n",
    "        # add to dict\n",
    "        for lat, lon in zip(lats, lons):\n",
    "            # image name is going to be image_lat_image_lon_cluster_lat_cluster_lon.png\n",
    "            image_name = str(lat) + '_' + str(lon) + '_' + str(r.cluster_lat) + '_' + str(r.cluster_lon) + '.png'\n",
    "            df_download['image_name'].append(image_name)\n",
    "            df_download['image_lat'].append(lat)\n",
    "            df_download['image_lon'].append(lon)\n",
    "            df_download['cluster_lat'].append(r.cluster_lat)\n",
    "            df_download['cluster_lon'].append(r.cluster_lon)\n",
    "            df_download['cons_pc'].append(r.cons_pc)\n",
    "            df_download['total_hv'].append(r.total_hv)\n",
    "        \n",
    "    return pd.DataFrame.from_dict(df_download)"
   ]
  },
  {
   "cell_type": "code",
   "execution_count": 7,
   "metadata": {},
   "outputs": [],
   "source": [
    "df_eth_download = generate_download_locations(df_eth)"
   ]
  },
  {
   "cell_type": "code",
   "execution_count": 8,
   "metadata": {},
   "outputs": [
    {
     "data": {
      "text/plain": [
       "(11650, 7)"
      ]
     },
     "execution_count": 8,
     "metadata": {},
     "output_type": "execute_result"
    }
   ],
   "source": [
    "df_eth_download.shape"
   ]
  },
  {
   "cell_type": "code",
   "execution_count": 9,
   "metadata": {},
   "outputs": [
    {
     "data": {
      "text/html": [
       "<div>\n",
       "<style scoped>\n",
       "    .dataframe tbody tr th:only-of-type {\n",
       "        vertical-align: middle;\n",
       "    }\n",
       "\n",
       "    .dataframe tbody tr th {\n",
       "        vertical-align: top;\n",
       "    }\n",
       "\n",
       "    .dataframe thead th {\n",
       "        text-align: right;\n",
       "    }\n",
       "</style>\n",
       "<table border=\"1\" class=\"dataframe\">\n",
       "  <thead>\n",
       "    <tr style=\"text-align: right;\">\n",
       "      <th></th>\n",
       "      <th>image_name</th>\n",
       "      <th>image_lat</th>\n",
       "      <th>image_lon</th>\n",
       "      <th>cluster_lat</th>\n",
       "      <th>cluster_lon</th>\n",
       "      <th>cons_pc</th>\n",
       "      <th>total_hv</th>\n",
       "    </tr>\n",
       "  </thead>\n",
       "  <tbody>\n",
       "    <tr>\n",
       "      <th>0</th>\n",
       "      <td>4.722773102424024_39.22483343759403_4.76768886...</td>\n",
       "      <td>4.722773</td>\n",
       "      <td>39.224833</td>\n",
       "      <td>4.767689</td>\n",
       "      <td>39.269749</td>\n",
       "      <td>14.111695</td>\n",
       "      <td>4200.0</td>\n",
       "    </tr>\n",
       "    <tr>\n",
       "      <th>1</th>\n",
       "      <td>4.737745023826016_39.22483343759403_4.76768886...</td>\n",
       "      <td>4.737745</td>\n",
       "      <td>39.224833</td>\n",
       "      <td>4.767689</td>\n",
       "      <td>39.269749</td>\n",
       "      <td>14.111695</td>\n",
       "      <td>4200.0</td>\n",
       "    </tr>\n",
       "    <tr>\n",
       "      <th>2</th>\n",
       "      <td>4.752716945228008_39.22483343759403_4.76768886...</td>\n",
       "      <td>4.752717</td>\n",
       "      <td>39.224833</td>\n",
       "      <td>4.767689</td>\n",
       "      <td>39.269749</td>\n",
       "      <td>14.111695</td>\n",
       "      <td>4200.0</td>\n",
       "    </tr>\n",
       "    <tr>\n",
       "      <th>3</th>\n",
       "      <td>4.76768886663_39.22483343759403_4.76768886663_...</td>\n",
       "      <td>4.767689</td>\n",
       "      <td>39.224833</td>\n",
       "      <td>4.767689</td>\n",
       "      <td>39.269749</td>\n",
       "      <td>14.111695</td>\n",
       "      <td>4200.0</td>\n",
       "    </tr>\n",
       "    <tr>\n",
       "      <th>4</th>\n",
       "      <td>4.7826607880319925_39.22483343759403_4.7676888...</td>\n",
       "      <td>4.782661</td>\n",
       "      <td>39.224833</td>\n",
       "      <td>4.767689</td>\n",
       "      <td>39.269749</td>\n",
       "      <td>14.111695</td>\n",
       "      <td>4200.0</td>\n",
       "    </tr>\n",
       "  </tbody>\n",
       "</table>\n",
       "</div>"
      ],
      "text/plain": [
       "                                          image_name  image_lat  image_lon  \\\n",
       "0  4.722773102424024_39.22483343759403_4.76768886...   4.722773  39.224833   \n",
       "1  4.737745023826016_39.22483343759403_4.76768886...   4.737745  39.224833   \n",
       "2  4.752716945228008_39.22483343759403_4.76768886...   4.752717  39.224833   \n",
       "3  4.76768886663_39.22483343759403_4.76768886663_...   4.767689  39.224833   \n",
       "4  4.7826607880319925_39.22483343759403_4.7676888...   4.782661  39.224833   \n",
       "\n",
       "   cluster_lat  cluster_lon    cons_pc  total_hv  \n",
       "0     4.767689    39.269749  14.111695    4200.0  \n",
       "1     4.767689    39.269749  14.111695    4200.0  \n",
       "2     4.767689    39.269749  14.111695    4200.0  \n",
       "3     4.767689    39.269749  14.111695    4200.0  \n",
       "4     4.767689    39.269749  14.111695    4200.0  "
      ]
     },
     "execution_count": 9,
     "metadata": {},
     "output_type": "execute_result"
    }
   ],
   "source": [
    "df_eth_download.head()"
   ]
  },
  {
   "cell_type": "code",
   "execution_count": 10,
   "metadata": {},
   "outputs": [],
   "source": [
    "df_eth_download['country'] = 'eth'"
   ]
  },
  {
   "cell_type": "code",
   "execution_count": 12,
   "metadata": {},
   "outputs": [],
   "source": [
    "# for image download purposes the country distinction is irreleveant\n",
    "df_potential_download = pd.concat([df_eth_download], axis=0)\n",
    "df_potential_download.reset_index(drop=True, inplace=True)"
   ]
  },
  {
   "cell_type": "code",
   "execution_count": 13,
   "metadata": {},
   "outputs": [
    {
     "data": {
      "text/html": [
       "<div>\n",
       "<style scoped>\n",
       "    .dataframe tbody tr th:only-of-type {\n",
       "        vertical-align: middle;\n",
       "    }\n",
       "\n",
       "    .dataframe tbody tr th {\n",
       "        vertical-align: top;\n",
       "    }\n",
       "\n",
       "    .dataframe thead th {\n",
       "        text-align: right;\n",
       "    }\n",
       "</style>\n",
       "<table border=\"1\" class=\"dataframe\">\n",
       "  <thead>\n",
       "    <tr style=\"text-align: right;\">\n",
       "      <th></th>\n",
       "      <th>image_name</th>\n",
       "      <th>image_lat</th>\n",
       "      <th>image_lon</th>\n",
       "      <th>cluster_lat</th>\n",
       "      <th>cluster_lon</th>\n",
       "      <th>cons_pc</th>\n",
       "      <th>total_hv</th>\n",
       "      <th>country</th>\n",
       "    </tr>\n",
       "  </thead>\n",
       "  <tbody>\n",
       "    <tr>\n",
       "      <th>11645</th>\n",
       "      <td>14.353816185_37.935792077205974_14.353816185_3...</td>\n",
       "      <td>14.353816</td>\n",
       "      <td>37.935792</td>\n",
       "      <td>14.353816</td>\n",
       "      <td>37.890876</td>\n",
       "      <td>8.648147</td>\n",
       "      <td>14957.0</td>\n",
       "      <td>eth</td>\n",
       "    </tr>\n",
       "    <tr>\n",
       "      <th>11646</th>\n",
       "      <td>14.368788106401992_37.935792077205974_14.35381...</td>\n",
       "      <td>14.368788</td>\n",
       "      <td>37.935792</td>\n",
       "      <td>14.353816</td>\n",
       "      <td>37.890876</td>\n",
       "      <td>8.648147</td>\n",
       "      <td>14957.0</td>\n",
       "      <td>eth</td>\n",
       "    </tr>\n",
       "    <tr>\n",
       "      <th>11647</th>\n",
       "      <td>14.383760027803984_37.935792077205974_14.35381...</td>\n",
       "      <td>14.383760</td>\n",
       "      <td>37.935792</td>\n",
       "      <td>14.353816</td>\n",
       "      <td>37.890876</td>\n",
       "      <td>8.648147</td>\n",
       "      <td>14957.0</td>\n",
       "      <td>eth</td>\n",
       "    </tr>\n",
       "    <tr>\n",
       "      <th>11648</th>\n",
       "      <td>14.398731949205976_37.935792077205974_14.35381...</td>\n",
       "      <td>14.398732</td>\n",
       "      <td>37.935792</td>\n",
       "      <td>14.353816</td>\n",
       "      <td>37.890876</td>\n",
       "      <td>8.648147</td>\n",
       "      <td>14957.0</td>\n",
       "      <td>eth</td>\n",
       "    </tr>\n",
       "    <tr>\n",
       "      <th>11649</th>\n",
       "      <td>14.33120797573382_37.886982320725494_14.353816...</td>\n",
       "      <td>14.331208</td>\n",
       "      <td>37.886982</td>\n",
       "      <td>14.353816</td>\n",
       "      <td>37.890876</td>\n",
       "      <td>8.648147</td>\n",
       "      <td>14957.0</td>\n",
       "      <td>eth</td>\n",
       "    </tr>\n",
       "  </tbody>\n",
       "</table>\n",
       "</div>"
      ],
      "text/plain": [
       "                                              image_name  image_lat  \\\n",
       "11645  14.353816185_37.935792077205974_14.353816185_3...  14.353816   \n",
       "11646  14.368788106401992_37.935792077205974_14.35381...  14.368788   \n",
       "11647  14.383760027803984_37.935792077205974_14.35381...  14.383760   \n",
       "11648  14.398731949205976_37.935792077205974_14.35381...  14.398732   \n",
       "11649  14.33120797573382_37.886982320725494_14.353816...  14.331208   \n",
       "\n",
       "       image_lon  cluster_lat  cluster_lon   cons_pc  total_hv country  \n",
       "11645  37.935792    14.353816    37.890876  8.648147   14957.0     eth  \n",
       "11646  37.935792    14.353816    37.890876  8.648147   14957.0     eth  \n",
       "11647  37.935792    14.353816    37.890876  8.648147   14957.0     eth  \n",
       "11648  37.935792    14.353816    37.890876  8.648147   14957.0     eth  \n",
       "11649  37.886982    14.353816    37.890876  8.648147   14957.0     eth  "
      ]
     },
     "execution_count": 13,
     "metadata": {},
     "output_type": "execute_result"
    }
   ],
   "source": [
    "df_potential_download.tail()"
   ]
  },
  {
   "cell_type": "markdown",
   "metadata": {},
   "source": [
    "# Filter Download Choices"
   ]
  },
  {
   "cell_type": "code",
   "execution_count": 90,
   "metadata": {},
   "outputs": [
    {
     "data": {
      "text/plain": [
       "40.519035"
      ]
     },
     "execution_count": 90,
     "metadata": {},
     "output_type": "execute_result"
    }
   ],
   "source": [
    "df_potential_download['nightlights'].max()"
   ]
  },
  {
   "cell_type": "code",
   "execution_count": 91,
   "metadata": {},
   "outputs": [
    {
     "name": "stdout",
     "output_type": "stream",
     "text": [
      "0.5361139369277721\n",
      "0.8982706002034588\n"
     ]
    }
   ],
   "source": [
    "# most nightlights are 0\n",
    "# let's download images that have nonzero nightlights to induce variety into the model\n",
    "print((df_potential_download['nightlights'] == 0).mean())\n",
    "print((df_potential_download['nightlights'] <= 2).mean())"
   ]
  },
  {
   "cell_type": "code",
   "execution_count": 92,
   "metadata": {},
   "outputs": [],
   "source": [
    "def drop_0s(df, fr=0.1):\n",
    "    \"\"\"\n",
    "        Solves for d:\n",
    "            (c_z - d)/(n - d) = fr\n",
    "        Where d = rows to drop, c_z = num rows with zero nightlights, n = num rows, fr = frac remaining\n",
    "        \n",
    "        Yields:\n",
    "        d = (c_z - n*fr) / (1 - fr)\n",
    "    \"\"\"\n",
    "    np.random.seed(RANDOM_SEED)\n",
    "    c_z = (df['nightlights']==0).sum()\n",
    "    n = len(df)\n",
    "    assert c_z / n > fr, print(f'Dataframe already has under {fr} zeros')\n",
    "    \n",
    "    d = (c_z - n * fr) / (1 - fr)\n",
    "    d = int(d)\n",
    "    print(f'dropping: {d}')\n",
    "    \n",
    "    zero_df = df[df['nightlights']==0]\n",
    "    zero_clusters = zero_df.groupby(['cluster_lat', 'cluster_lon'])\n",
    "    per_cluster_drop = int(d / len(zero_clusters))\n",
    "    print(f'Need to drop {per_cluster_drop} per cluster with 0 nightlights')\n",
    "    \n",
    "    drop_inds = []\n",
    "    for (cluster_lat, cluster_lon), group in zero_clusters:\n",
    "        z_inds = group.index\n",
    "        clust_drop = np.random.choice(z_inds, per_cluster_drop, replace=False)\n",
    "        assert len(group) - len(clust_drop) >= MIN_IMAGES_PER_CLUSTER, print(f'dropping too many in {cluster_lat}, {cluster_lon}')\n",
    "        drop_inds += clust_drop.tolist()\n",
    "    \n",
    "    # this is how you do it purely randomly but some clusters might get wiped out\n",
    "    # z_inds = np.argwhere(df['nightlights'].values == 0).reshape(-1)\n",
    "    # drop_inds = np.random.choice(z_inds, d, replace=False)\n",
    "    return df.drop(drop_inds).reset_index(drop=True)\n",
    "\n",
    "def drop_in_range(df, lower=0, upper=2, fr=0.25):\n",
    "    \"\"\"\n",
    "        Very similar to drop_0s calculation, but more generalized. Lower and upper are inclusive.\n",
    "    \"\"\"\n",
    "    np.random.seed(RANDOM_SEED)\n",
    "    boolean_idx = ((lower <= df['nightlights']) & (df['nightlights'] <= upper))\n",
    "    c_under = boolean_idx.sum()\n",
    "    n = len(df)\n",
    "    assert c_under / n > fr, print(f'Dataframe already has under {fr} rows in the given range')\n",
    "    \n",
    "    d = (c_under - n * fr) / (1 - fr)\n",
    "    d = int(d)\n",
    "    print(f'dropping: {d}')\n",
    "    \n",
    "    select_df = df[boolean_idx]\n",
    "    select_clusters = select_df.groupby(['cluster_lat', 'cluster_lon'])\n",
    "    per_cluster_drop = int(d / len(select_clusters))\n",
    "    print(f'Need to drop {per_cluster_drop} per cluster in the given range')\n",
    "    \n",
    "    drop_inds = []\n",
    "    for (cluster_lat, cluster_lon), group in select_clusters:\n",
    "        z_inds = group.index\n",
    "        clust_drop = np.random.choice(z_inds, per_cluster_drop, replace=False)\n",
    "        assert len(group) - len(clust_drop) >= MIN_IMAGES_PER_CLUSTER, print(f'dropping too many in {cluster_lat}, {cluster_lon}')\n",
    "        drop_inds += clust_drop.tolist()\n",
    "        \n",
    "    return df.drop(drop_inds).reset_index(drop=True)\n"
   ]
  },
  {
   "cell_type": "code",
   "execution_count": 93,
   "metadata": {},
   "outputs": [
    {
     "name": "stdout",
     "output_type": "stream",
     "text": [
      "dropping: 476\n",
      "Need to drop 43 per cluster with 0 nightlights\n",
      "dropping too many in -17.092351, 35.114643\n"
     ]
    },
    {
     "ename": "AssertionError",
     "evalue": "None",
     "output_type": "error",
     "traceback": [
      "\u001b[0;31m---------------------------------------------------------------------------\u001b[0m",
      "\u001b[0;31mAssertionError\u001b[0m                            Traceback (most recent call last)",
      "\u001b[0;32m/tmp/ipykernel_1372/2333241496.py\u001b[0m in \u001b[0;36m<module>\u001b[0;34m\u001b[0m\n\u001b[0;32m----> 1\u001b[0;31m \u001b[0mdf_mod_download\u001b[0m \u001b[0;34m=\u001b[0m \u001b[0mdrop_0s\u001b[0m\u001b[0;34m(\u001b[0m\u001b[0mdf_potential_download\u001b[0m\u001b[0;34m,\u001b[0m \u001b[0mfr\u001b[0m\u001b[0;34m=\u001b[0m\u001b[0;36m0.1\u001b[0m\u001b[0;34m)\u001b[0m\u001b[0;34m\u001b[0m\u001b[0;34m\u001b[0m\u001b[0m\n\u001b[0m",
      "\u001b[0;32m/tmp/ipykernel_1372/3696579382.py\u001b[0m in \u001b[0;36mdrop_0s\u001b[0;34m(df, fr)\u001b[0m\n\u001b[1;32m     26\u001b[0m         \u001b[0mz_inds\u001b[0m \u001b[0;34m=\u001b[0m \u001b[0mgroup\u001b[0m\u001b[0;34m.\u001b[0m\u001b[0mindex\u001b[0m\u001b[0;34m\u001b[0m\u001b[0;34m\u001b[0m\u001b[0m\n\u001b[1;32m     27\u001b[0m         \u001b[0mclust_drop\u001b[0m \u001b[0;34m=\u001b[0m \u001b[0mnp\u001b[0m\u001b[0;34m.\u001b[0m\u001b[0mrandom\u001b[0m\u001b[0;34m.\u001b[0m\u001b[0mchoice\u001b[0m\u001b[0;34m(\u001b[0m\u001b[0mz_inds\u001b[0m\u001b[0;34m,\u001b[0m \u001b[0mper_cluster_drop\u001b[0m\u001b[0;34m,\u001b[0m \u001b[0mreplace\u001b[0m\u001b[0;34m=\u001b[0m\u001b[0;32mFalse\u001b[0m\u001b[0;34m)\u001b[0m\u001b[0;34m\u001b[0m\u001b[0;34m\u001b[0m\u001b[0m\n\u001b[0;32m---> 28\u001b[0;31m         \u001b[0;32massert\u001b[0m \u001b[0mlen\u001b[0m\u001b[0;34m(\u001b[0m\u001b[0mgroup\u001b[0m\u001b[0;34m)\u001b[0m \u001b[0;34m-\u001b[0m \u001b[0mlen\u001b[0m\u001b[0;34m(\u001b[0m\u001b[0mclust_drop\u001b[0m\u001b[0;34m)\u001b[0m \u001b[0;34m>=\u001b[0m \u001b[0mMIN_IMAGES_PER_CLUSTER\u001b[0m\u001b[0;34m,\u001b[0m \u001b[0mprint\u001b[0m\u001b[0;34m(\u001b[0m\u001b[0;34mf'dropping too many in {cluster_lat}, {cluster_lon}'\u001b[0m\u001b[0;34m)\u001b[0m\u001b[0;34m\u001b[0m\u001b[0;34m\u001b[0m\u001b[0m\n\u001b[0m\u001b[1;32m     29\u001b[0m         \u001b[0mdrop_inds\u001b[0m \u001b[0;34m+=\u001b[0m \u001b[0mclust_drop\u001b[0m\u001b[0;34m.\u001b[0m\u001b[0mtolist\u001b[0m\u001b[0;34m(\u001b[0m\u001b[0;34m)\u001b[0m\u001b[0;34m\u001b[0m\u001b[0;34m\u001b[0m\u001b[0m\n\u001b[1;32m     30\u001b[0m \u001b[0;34m\u001b[0m\u001b[0m\n",
      "\u001b[0;31mAssertionError\u001b[0m: None"
     ]
    }
   ],
   "source": [
    "df_mod_download = drop_0s(df_potential_download, fr=0.1)"
   ]
  },
  {
   "cell_type": "code",
   "execution_count": 94,
   "metadata": {},
   "outputs": [
    {
     "data": {
      "text/plain": [
       "0.20697288323187604"
      ]
     },
     "execution_count": 94,
     "metadata": {},
     "output_type": "execute_result"
    }
   ],
   "source": [
    "(df_mod_download['nightlights'] == 0).mean()"
   ]
  },
  {
   "cell_type": "code",
   "execution_count": 95,
   "metadata": {},
   "outputs": [
    {
     "name": "stdout",
     "output_type": "stream",
     "text": [
      "dropping: 217\n",
      "Need to drop 1 per cluster in the given range\n"
     ]
    }
   ],
   "source": [
    "df_mod_download = drop_in_range(df_mod_download, lower=0.001, upper=3, fr=0.4)"
   ]
  },
  {
   "cell_type": "code",
   "execution_count": 96,
   "metadata": {},
   "outputs": [
    {
     "data": {
      "text/plain": [
       "0.4009976976208749"
      ]
     },
     "execution_count": 96,
     "metadata": {},
     "output_type": "execute_result"
    }
   ],
   "source": [
    "((0.001 <= df_mod_download['nightlights']) & (df_mod_download['nightlights'] <= 3)).mean()"
   ]
  },
  {
   "cell_type": "code",
   "execution_count": 97,
   "metadata": {},
   "outputs": [
    {
     "data": {
      "text/plain": [
       "0.21527244819646968"
      ]
     },
     "execution_count": 97,
     "metadata": {},
     "output_type": "execute_result"
    }
   ],
   "source": [
    "# this has gone up now though\n",
    "(df_mod_download['nightlights'] == 0).mean()"
   ]
  },
  {
   "cell_type": "code",
   "execution_count": 98,
   "metadata": {},
   "outputs": [
    {
     "name": "stdout",
     "output_type": "stream",
     "text": [
      "dropping: 99\n",
      "Need to drop 1 per cluster with 0 nightlights\n"
     ]
    }
   ],
   "source": [
    "df_mod_download = drop_0s(df_mod_download, fr=0.2)"
   ]
  },
  {
   "cell_type": "markdown",
   "metadata": {},
   "source": [
    "At this point the low nightlight clusters (0 and under 3) have 11 and 12 images respectively, meaning very few more images can be dropped without going under 10."
   ]
  },
  {
   "cell_type": "code",
   "execution_count": 14,
   "metadata": {},
   "outputs": [],
   "source": [
    "from sklearn.mixture import GaussianMixture as GMM\n",
    "X = df_potential_download['total_hv'].values.reshape(-1,1)\n",
    "gmm = GMM(n_components=3).fit(X)\n",
    "labels = gmm.predict(df_potential_download['total_hv'].values.reshape(-1,1))"
   ]
  },
  {
   "cell_type": "code",
   "execution_count": 15,
   "metadata": {},
   "outputs": [
    {
     "data": {
      "text/plain": [
       "(0.2703862660944206, 0.004291845493562232, 0.7253218884120172)"
      ]
     },
     "execution_count": 15,
     "metadata": {},
     "output_type": "execute_result"
    }
   ],
   "source": [
    "(labels==0).mean(), (labels==1).mean(), (labels==2).mean()"
   ]
  },
  {
   "cell_type": "code",
   "execution_count": 16,
   "metadata": {},
   "outputs": [
    {
     "data": {
      "text/plain": [
       "(101900.0, 218074.0, 10515.0)"
      ]
     },
     "execution_count": 16,
     "metadata": {},
     "output_type": "execute_result"
    }
   ],
   "source": [
    "# these are the cutoff for the labels identified by the Guassian Mixture Model\n",
    "label0_max = df_potential_download['total_hv'][labels==0].max()\n",
    "label1_max = df_potential_download['total_hv'][labels==1].max()\n",
    "label2_max = df_potential_download['total_hv'][labels==2].max()\n",
    "\n",
    "label0_max, label1_max, label2_max"
   ]
  },
  {
   "cell_type": "code",
   "execution_count": 37,
   "metadata": {},
   "outputs": [],
   "source": [
    "# I am going to hand reassign these to have better representation among all three classes\n",
    "# these are not ideal distributions obviously but the model should still be able to learn\n",
    "# something like a quantile cut might work better and be less arbitrary, but for reproducability \n",
    "# purposes I'll stick to the GMM-based approach\n",
    "label0_max = 5000\n",
    "label1_max = 12000\n",
    "label2_max = 300000"
   ]
  },
  {
   "cell_type": "code",
   "execution_count": 38,
   "metadata": {},
   "outputs": [
    {
     "name": "stdout",
     "output_type": "stream",
     "text": [
      "0.51931330472103\n",
      "0.21888412017167383\n",
      "0.26180257510729615\n"
     ]
    }
   ],
   "source": [
    "def query_df(df, lower, upper):\n",
    "    return df[((lower <= df['total_hv']) & (df['total_hv'] < upper))]\n",
    "\n",
    "print(len(query_df(df_potential_download, 0, label0_max)) / len(df_potential_download))\n",
    "print(len(query_df(df_potential_download, label0_max, label1_max)) / len(df_potential_download))\n",
    "print(len(query_df(df_potential_download, label1_max, label2_max)) / len(df_potential_download))"
   ]
  },
  {
   "cell_type": "code",
   "execution_count": 39,
   "metadata": {},
   "outputs": [
    {
     "name": "stderr",
     "output_type": "stream",
     "text": [
      "/root/miniconda3/envs/omtest/lib/python3.7/site-packages/pandas/core/indexing.py:1732: SettingWithCopyWarning: \n",
      "A value is trying to be set on a copy of a slice from a DataFrame\n",
      "\n",
      "See the caveats in the documentation: https://pandas.pydata.org/pandas-docs/stable/user_guide/indexing.html#returning-a-view-versus-a-copy\n",
      "  self._setitem_single_block(indexer, value, name)\n"
     ]
    }
   ],
   "source": [
    "def create_harvest_bin(df, cutoffs):\n",
    "    assert len(cutoffs) >= 2, print('need at least 2 bins')\n",
    "    cutoffs = sorted(cutoffs, reverse=True)\n",
    "    labels = list(range(len(cutoffs)))[::-1]\n",
    "    df['harvest_bin'] = len(cutoffs)\n",
    "    for cutoff, label in zip(cutoffs, labels):\n",
    "        df['harvest_bin'].loc[df['total_hv'] <= cutoff] = label\n",
    "\n",
    "df_download = df_potential_download.copy()\n",
    "create_harvest_bin(df_download, cutoffs=[label0_max, label1_max, label2_max])"
   ]
  },
  {
   "cell_type": "code",
   "execution_count": 40,
   "metadata": {},
   "outputs": [
    {
     "data": {
      "text/plain": [
       "(0.5236051502145923, 0.2145922746781116, 0.26180257510729615)"
      ]
     },
     "execution_count": 40,
     "metadata": {},
     "output_type": "execute_result"
    }
   ],
   "source": [
    "# these should match above\n",
    "(df_download['harvest_bin']==0).mean(), (df_download['harvest_bin']==1).mean(), (df_download['harvest_bin']==2).mean()\n"
   ]
  },
  {
   "cell_type": "code",
   "execution_count": 41,
   "metadata": {},
   "outputs": [
    {
     "data": {
      "text/plain": [
       "(11650, 9)"
      ]
     },
     "execution_count": 41,
     "metadata": {},
     "output_type": "execute_result"
    }
   ],
   "source": [
    "df_download.shape"
   ]
  },
  {
   "cell_type": "code",
   "execution_count": 42,
   "metadata": {},
   "outputs": [
    {
     "data": {
      "text/html": [
       "<div>\n",
       "<style scoped>\n",
       "    .dataframe tbody tr th:only-of-type {\n",
       "        vertical-align: middle;\n",
       "    }\n",
       "\n",
       "    .dataframe tbody tr th {\n",
       "        vertical-align: top;\n",
       "    }\n",
       "\n",
       "    .dataframe thead th {\n",
       "        text-align: right;\n",
       "    }\n",
       "</style>\n",
       "<table border=\"1\" class=\"dataframe\">\n",
       "  <thead>\n",
       "    <tr style=\"text-align: right;\">\n",
       "      <th></th>\n",
       "      <th>image_name</th>\n",
       "      <th>image_lat</th>\n",
       "      <th>image_lon</th>\n",
       "      <th>cluster_lat</th>\n",
       "      <th>cluster_lon</th>\n",
       "      <th>cons_pc</th>\n",
       "      <th>total_hv</th>\n",
       "      <th>country</th>\n",
       "      <th>harvest_bin</th>\n",
       "    </tr>\n",
       "  </thead>\n",
       "  <tbody>\n",
       "  </tbody>\n",
       "</table>\n",
       "</div>"
      ],
      "text/plain": [
       "Empty DataFrame\n",
       "Columns: [image_name, image_lat, image_lon, cluster_lat, cluster_lon, cons_pc, total_hv, country, harvest_bin]\n",
       "Index: []"
      ]
     },
     "execution_count": 42,
     "metadata": {},
     "output_type": "execute_result"
    }
   ],
   "source": [
    "df_download.loc[df_download['harvest_bin']==3]"
   ]
  },
  {
   "cell_type": "code",
   "execution_count": 43,
   "metadata": {
    "scrolled": true
   },
   "outputs": [
    {
     "data": {
      "text/html": [
       "<div>\n",
       "<style scoped>\n",
       "    .dataframe tbody tr th:only-of-type {\n",
       "        vertical-align: middle;\n",
       "    }\n",
       "\n",
       "    .dataframe tbody tr th {\n",
       "        vertical-align: top;\n",
       "    }\n",
       "\n",
       "    .dataframe thead th {\n",
       "        text-align: right;\n",
       "    }\n",
       "</style>\n",
       "<table border=\"1\" class=\"dataframe\">\n",
       "  <thead>\n",
       "    <tr style=\"text-align: right;\">\n",
       "      <th></th>\n",
       "      <th>image_name</th>\n",
       "      <th>image_lat</th>\n",
       "      <th>image_lon</th>\n",
       "      <th>cluster_lat</th>\n",
       "      <th>cluster_lon</th>\n",
       "      <th>cons_pc</th>\n",
       "      <th>total_hv</th>\n",
       "      <th>country</th>\n",
       "      <th>harvest_bin</th>\n",
       "    </tr>\n",
       "  </thead>\n",
       "  <tbody>\n",
       "    <tr>\n",
       "      <th>11645</th>\n",
       "      <td>14.353816185_37.935792077205974_14.353816185_3...</td>\n",
       "      <td>14.353816</td>\n",
       "      <td>37.935792</td>\n",
       "      <td>14.353816</td>\n",
       "      <td>37.890876</td>\n",
       "      <td>8.648147</td>\n",
       "      <td>14957.0</td>\n",
       "      <td>eth</td>\n",
       "      <td>2</td>\n",
       "    </tr>\n",
       "    <tr>\n",
       "      <th>11646</th>\n",
       "      <td>14.368788106401992_37.935792077205974_14.35381...</td>\n",
       "      <td>14.368788</td>\n",
       "      <td>37.935792</td>\n",
       "      <td>14.353816</td>\n",
       "      <td>37.890876</td>\n",
       "      <td>8.648147</td>\n",
       "      <td>14957.0</td>\n",
       "      <td>eth</td>\n",
       "      <td>2</td>\n",
       "    </tr>\n",
       "    <tr>\n",
       "      <th>11647</th>\n",
       "      <td>14.383760027803984_37.935792077205974_14.35381...</td>\n",
       "      <td>14.383760</td>\n",
       "      <td>37.935792</td>\n",
       "      <td>14.353816</td>\n",
       "      <td>37.890876</td>\n",
       "      <td>8.648147</td>\n",
       "      <td>14957.0</td>\n",
       "      <td>eth</td>\n",
       "      <td>2</td>\n",
       "    </tr>\n",
       "    <tr>\n",
       "      <th>11648</th>\n",
       "      <td>14.398731949205976_37.935792077205974_14.35381...</td>\n",
       "      <td>14.398732</td>\n",
       "      <td>37.935792</td>\n",
       "      <td>14.353816</td>\n",
       "      <td>37.890876</td>\n",
       "      <td>8.648147</td>\n",
       "      <td>14957.0</td>\n",
       "      <td>eth</td>\n",
       "      <td>2</td>\n",
       "    </tr>\n",
       "    <tr>\n",
       "      <th>11649</th>\n",
       "      <td>14.33120797573382_37.886982320725494_14.353816...</td>\n",
       "      <td>14.331208</td>\n",
       "      <td>37.886982</td>\n",
       "      <td>14.353816</td>\n",
       "      <td>37.890876</td>\n",
       "      <td>8.648147</td>\n",
       "      <td>14957.0</td>\n",
       "      <td>eth</td>\n",
       "      <td>2</td>\n",
       "    </tr>\n",
       "  </tbody>\n",
       "</table>\n",
       "</div>"
      ],
      "text/plain": [
       "                                              image_name  image_lat  \\\n",
       "11645  14.353816185_37.935792077205974_14.353816185_3...  14.353816   \n",
       "11646  14.368788106401992_37.935792077205974_14.35381...  14.368788   \n",
       "11647  14.383760027803984_37.935792077205974_14.35381...  14.383760   \n",
       "11648  14.398731949205976_37.935792077205974_14.35381...  14.398732   \n",
       "11649  14.33120797573382_37.886982320725494_14.353816...  14.331208   \n",
       "\n",
       "       image_lon  cluster_lat  cluster_lon   cons_pc  total_hv country  \\\n",
       "11645  37.935792    14.353816    37.890876  8.648147   14957.0     eth   \n",
       "11646  37.935792    14.353816    37.890876  8.648147   14957.0     eth   \n",
       "11647  37.935792    14.353816    37.890876  8.648147   14957.0     eth   \n",
       "11648  37.935792    14.353816    37.890876  8.648147   14957.0     eth   \n",
       "11649  37.886982    14.353816    37.890876  8.648147   14957.0     eth   \n",
       "\n",
       "       harvest_bin  \n",
       "11645            2  \n",
       "11646            2  \n",
       "11647            2  \n",
       "11648            2  \n",
       "11649            2  "
      ]
     },
     "execution_count": 43,
     "metadata": {},
     "output_type": "execute_result"
    }
   ],
   "source": [
    "df_download.tail()"
   ]
  },
  {
   "cell_type": "code",
   "execution_count": 44,
   "metadata": {},
   "outputs": [],
   "source": [
    "os.makedirs(PROCESSED_DIR, exist_ok=True)"
   ]
  },
  {
   "cell_type": "code",
   "execution_count": 45,
   "metadata": {},
   "outputs": [],
   "source": [
    "df_download.to_csv(os.path.join(PROCESSED_DIR, 'image_download_locs.csv'), index=False)"
   ]
  },
  {
   "cell_type": "markdown",
   "metadata": {},
   "source": [
    "# Download Images\n",
    "If the script breaks, you can restart here by uncommenting the line below and running the below code again. It won't download images you have already downloaded."
   ]
  },
  {
   "cell_type": "code",
   "execution_count": 46,
   "metadata": {},
   "outputs": [
    {
     "ename": "AttributeError",
     "evalue": "'GoogleDownloader' object has no attribute 'read_csv'",
     "output_type": "error",
     "traceback": [
      "\u001b[0;31m---------------------------------------------------------------------------\u001b[0m",
      "\u001b[0;31mAttributeError\u001b[0m                            Traceback (most recent call last)",
      "\u001b[0;32m/tmp/ipykernel_3892/2937331295.py\u001b[0m in \u001b[0;36m<module>\u001b[0;34m\u001b[0m\n\u001b[0;32m----> 1\u001b[0;31m \u001b[0mdf_download\u001b[0m \u001b[0;34m=\u001b[0m \u001b[0mpd\u001b[0m\u001b[0;34m.\u001b[0m\u001b[0mread_csv\u001b[0m\u001b[0;34m(\u001b[0m\u001b[0mos\u001b[0m\u001b[0;34m.\u001b[0m\u001b[0mpath\u001b[0m\u001b[0;34m.\u001b[0m\u001b[0mjoin\u001b[0m\u001b[0;34m(\u001b[0m\u001b[0mPROCESSED_DIR\u001b[0m\u001b[0;34m,\u001b[0m \u001b[0;34m'image_download_locs.csv'\u001b[0m\u001b[0;34m)\u001b[0m\u001b[0;34m)\u001b[0m\u001b[0;34m\u001b[0m\u001b[0;34m\u001b[0m\u001b[0m\n\u001b[0m",
      "\u001b[0;31mAttributeError\u001b[0m: 'GoogleDownloader' object has no attribute 'read_csv'"
     ]
    }
   ],
   "source": [
    "df_download = pd.read_csv(os.path.join(PROCESSED_DIR, 'image_download_locs.csv'))"
   ]
  },
  {
   "cell_type": "code",
   "execution_count": 47,
   "metadata": {},
   "outputs": [],
   "source": [
    "# you can try the google downloader if you don't have the planet API key\n",
    "# the tradeoff is that planet's data can be queried with time, but Google's images\n",
    "# are higher res\n",
    "from utils import GoogleDownloader"
   ]
  },
  {
   "cell_type": "code",
   "execution_count": 48,
   "metadata": {},
   "outputs": [],
   "source": [
    "# you can try the google downloader if you don't have the planet API key\n",
    "# the tradeoff is that planet's data can be queried with time, but Google's images\n",
    "# are higher res\n",
    "from utils import GoogleDownloader\n",
    "\n",
    "class GoogleDownloader:\n",
    "    def __init__(self, access_token):\n",
    "        self.access_token = access_token\n",
    "        self.url = 'https://maps.googleapis.com/maps/api/staticmap?center={},{}&zoom={}&size=400x400&maptype=satellite&key={}'\n",
    "    \n",
    "    def download(self, lat, long, zoom):\n",
    "        res = requests.get(self.url.format(lat, long, zoom, self.access_token))\n",
    "        # server needs to make image available, takes a few seconds\n",
    "        if res.status_code == 403:\n",
    "            return 'RETRY'\n",
    "        assert res.status_code < 400, print(f'Error - failed to download {lat}, {long}, {zoom}')\n",
    "        image = plt.imread(BytesIO(res.content))\n",
    "        return image"
   ]
  },
  {
   "cell_type": "code",
   "execution_count": 49,
   "metadata": {},
   "outputs": [
    {
     "data": {
      "text/plain": [
       "<matplotlib.image.AxesImage at 0x7f9256b54fd0>"
      ]
     },
     "execution_count": 49,
     "metadata": {},
     "output_type": "execute_result"
    },
    {
     "data": {
      "image/png": "[encoded data removed]",
      "text/plain": [
       "<Figure size 432x288 with 1 Axes>"
      ]
     },
     "metadata": {
      "needs_background": "light"
     },
     "output_type": "display_data"
    }
   ],
   "source": [
    "# this demonstrates the API call\n",
    "lat = 9.43017369454541\n",
    "lon = 35.598250977251546\n",
    "min_year = 2016\n",
    "min_month = 1\n",
    "max_year = 2016\n",
    "max_month = 12\n",
    "\n",
    "access = open(ACCESS_TOKEN_DIR, 'r').readlines()[0].strip()\n",
    "pd = GoogleDownloader(access)\n",
    "plt.imshow(pd.download(lat, lon, 16))"
   ]
  },
  {
   "cell_type": "code",
   "execution_count": 50,
   "metadata": {},
   "outputs": [],
   "source": [
    "def download_images(df):\n",
    "    \"\"\"\n",
    "    Download images using a pandas DataFrame that has \"image_lat\", \"image_lon\", \"image_name\", \"country\" as columns\n",
    "    \n",
    "    Saves images to the corresponding country's images folder\n",
    "\n",
    "    To use the Google Downloader, switch PlanetDownloader to GoogleDownloader and make imd.download_image only\n",
    "    provide lat and lon as arguments. Use zoom = 16.\n",
    "    \"\"\"\n",
    "    access = None\n",
    "    with open(ACCESS_TOKEN_DIR, 'r') as f:\n",
    "        access = f.readlines()[0]\n",
    "    imd = GoogleDownloader(access)\n",
    "    num_retries = 1\n",
    "    wait_time = 0.1 # seconds\n",
    "\n",
    "    # drops what is already downloaded\n",
    "    already_downloaded = os.listdir(os.path.join(COUNTRIES_DIR, 'ethiopia_2015', 'images'))\n",
    "    already_downloaded = list(set(already_downloaded).intersection(set(df['image_name'])))\n",
    "    print('Already downloaded ' + str(len(already_downloaded)))\n",
    "    df = df.set_index('image_name').drop(already_downloaded).reset_index()\n",
    "    print('Need to download ' + str(len(df)))\n",
    "    # use three years of images to find one that matches search critera\n",
    "    min_year = 2014\n",
    "    min_month = 1\n",
    "    max_year = 2016\n",
    "    max_month = 12\n",
    "    for _, r in tqdm(df.iterrows(), total=df.shape[0]):\n",
    "        lat = r.image_lat\n",
    "        lon = r.image_lon\n",
    "        name = r.image_name\n",
    "        country_dir = None\n",
    "        if r.country == 'eth':\n",
    "            country_dir = 'ethiopia_2015'\n",
    "        elif r.country =='mw':\n",
    "            country_dir = 'malawi_2016'\n",
    "        elif r.country == 'ng':\n",
    "            country_dir = 'nigeria_2015'\n",
    "        else:\n",
    "            print(f\"unrecognized country: {r.country}\")\n",
    "            raise ValueError()\n",
    "        image_save_path = os.path.join(COUNTRIES_DIR, country_dir, 'images', r.image_name)\n",
    "        try:\n",
    "            im = imd.download(lat, lon, 16)\n",
    "            if (type(im) == str and im == 'RETRY') or im is None:\n",
    "                resolved = False\n",
    "                for _ in range(num_retries):\n",
    "                    time.sleep(wait_time)\n",
    "                    im = imd.download(lat, lon, 16)\n",
    "                    if (type(im) == str and im == 'RETRY') or im is None:\n",
    "                        continue\n",
    "                    else:\n",
    "                        plt.imsave(image_save_path, im)\n",
    "                        resolved = True\n",
    "                        break\n",
    "                if not resolved:\n",
    "                    print(f'Could not download {lat}, {lon} despite several retries and waiting')\n",
    "                    continue\n",
    "                else:\n",
    "                    pass\n",
    "            else:\n",
    "                # no issues, save according to naming convention\n",
    "                plt.imsave(image_save_path, im)\n",
    "\n",
    "        except Exception as e:\n",
    "            logging.error(f\"Error-could not download {lat}, {lon}\", exc_info=True)\n",
    "            continue"
   ]
  },
  {
   "cell_type": "code",
   "execution_count": 51,
   "metadata": {},
   "outputs": [
    {
     "name": "stdout",
     "output_type": "stream",
     "text": [
      "Already downloaded 11650\n",
      "Need to download 0\n"
     ]
    },
    {
     "data": {
      "application/vnd.jupyter.widget-view+json": {
       "model_id": "30f92c3e81b14d55bd4271a3193fe439",
       "version_major": 2,
       "version_minor": 0
      },
      "text/plain": [
       "0it [00:00, ?it/s]"
      ]
     },
     "metadata": {},
     "output_type": "display_data"
    }
   ],
   "source": [
    "download_images(df_download)"
   ]
  },
  {
   "cell_type": "code",
   "execution_count": null,
   "metadata": {},
   "outputs": [],
   "source": []
  }
 ],
 "metadata": {
  "environment": {
   "name": "pytorch-gpu.1-4.m46",
   "type": "gcloud",
   "uri": "gcr.io/deeplearning-platform-release/pytorch-gpu.1-4:m46"
  },
  "kernelspec": {
   "display_name": "omtest",
   "language": "python",
   "name": "omtest"
  },
  "language_info": {
   "codemirror_mode": {
    "name": "ipython",
    "version": 3
   },
   "file_extension": ".py",
   "mimetype": "text/x-python",
   "name": "python",
   "nbconvert_exporter": "python",
   "pygments_lexer": "ipython3",
   "version": "3.7.11"
  }
 },
 "nbformat": 4,
 "nbformat_minor": 2
}
