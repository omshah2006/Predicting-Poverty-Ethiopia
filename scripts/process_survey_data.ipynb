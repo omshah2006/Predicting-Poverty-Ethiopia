{
 "cells": [
  {
   "cell_type": "markdown",
   "metadata": {},
   "source": [
    "Make sure you download the 2016 Household LSMS survey data for Malawi, Ethiopia, and Nigeria from https://microdata.worldbank.org/index.php/catalog/lsms and put it in `../data/countries/`. Malawi's data should be named `malawi_2016/LSMS`, Ethiopia's should be named `ethiopia_2015/LSMS`, and Nigeria's should be named `nigeria_2015/LSMS`. Nightlights data should be downloaded from https://ngdc.noaa.gov/eog/viirs/download_dnb_composites.html using the annual composite from 2015 in tile 2 and tile 5."
   ]
  },
  {
   "cell_type": "code",
   "execution_count": 3,
   "metadata": {},
   "outputs": [],
   "source": [
    "import pandas as pd\n",
    "import numpy as np\n",
    "import os\n",
    "import geoio\n",
    "import matplotlib.pyplot as plt\n",
    "\n",
    "%matplotlib inline"
   ]
  },
  {
   "cell_type": "code",
   "execution_count": 4,
   "metadata": {},
   "outputs": [],
   "source": [
    "BASE_DIR = '..'\n",
    "\n",
    "COUNTRIES_DIR = os.path.join(BASE_DIR, 'data', 'countries')"
   ]
  },
  {
   "cell_type": "code",
   "execution_count": 5,
   "metadata": {},
   "outputs": [],
   "source": [
    "import sys\n",
    "sys.path.append(BASE_DIR)\n",
    "from utils import create_space"
   ]
  },
  {
   "cell_type": "code",
   "execution_count": 8,
   "metadata": {},
   "outputs": [],
   "source": [
    "'''\n",
    "The goal of each of these functions is to output a dataframe with the following columns:\n",
    "country, cluster_lat, cluster_lon, cons_pc\n",
    "\n",
    "Each row should represent one cluster by combining the household data\n",
    "'''\n",
    "\n",
    "def process_ethiopia():\n",
    "    lsms_dir = os.path.join(COUNTRIES_DIR, 'ethiopia_2015', 'LSMS')\n",
    "    consumption_file = 'Consumption Aggregate/cons_agg_w3.csv'\n",
    "    consumption_pc_col = 'total_cons_ann' # per capita\n",
    "    hhsize_col = 'hh_size' # people in household\n",
    "\n",
    "    harvest_file = 'Post-Harvest/sect11_ph_w3.csv'\n",
    "    harvest_value_col = 'ph_s11q04'\n",
    "    \n",
    "    geovariables_file = 'Geovariables/ETH_HouseholdGeovars_y3.csv'\n",
    "    lat_col = 'lat_dd_mod'\n",
    "    lon_col = 'lon_dd_mod'\n",
    "\n",
    "    # purchasing power parity for ethiopia in 2015 (https://data.worldbank.org/indicator/PA.NUS.PRVT.PP?locations=ET)\n",
    "    ppp = 7.882\n",
    "    \n",
    "    for file in [consumption_file, geovariables_file]:\n",
    "        assert os.path.isfile(os.path.join(lsms_dir, file)), print(f'Could not find {file}')\n",
    "    \n",
    "    df_c = pd.read_csv(os.path.join(lsms_dir, consumption_file))\n",
    "    df_c['cons_ph'] = df_c[consumption_pc_col] * df_c[hhsize_col]\n",
    "    df_c['pph'] = df_c[hhsize_col]\n",
    "    df_c['cons_ph'] = df_c['cons_ph'] / ppp / 365\n",
    "    df_c = df_c[['household_id2', 'cons_ph', 'pph']]\n",
    "    \n",
    "    df_h = pd.read_csv(os.path.join(lsms_dir, harvest_file))\n",
    "    df_h['total_hv'] = df_h[harvest_value_col]\n",
    "    df_h = df_h[['household_id2', 'total_hv']]\n",
    "    \n",
    "    df = pd.merge(df_c, df_h, on='household_id2')\n",
    "\n",
    "    df_geo = pd.read_csv(os.path.join(lsms_dir, geovariables_file))\n",
    "    df_cords = df_geo[['household_id2', lat_col, lon_col]]\n",
    "    df_cords.rename(columns={lat_col: 'cluster_lat', lon_col: 'cluster_lon'}, inplace=True)\n",
    "    df_combined = pd.merge(df, df_cords, on='household_id2')\n",
    "    df_combined.drop(['household_id2'], axis=1, inplace=True)\n",
    "    df_combined.dropna(inplace=True) # can't use na values\n",
    "    \n",
    "    df_clusters = df_combined.groupby(['cluster_lat', 'cluster_lon']).sum().reset_index()\n",
    "    df_clusters['cons_pc'] = df_clusters['cons_ph'] / df_clusters['pph'] # divides total cluster income by people\n",
    "    df_clusters['country'] = 'eth'\n",
    "    return df_clusters[['country', 'cluster_lat', 'cluster_lon', 'cons_pc', 'total_hv']]"
   ]
  },
  {
   "cell_type": "code",
   "execution_count": 9,
   "metadata": {},
   "outputs": [
    {
     "name": "stderr",
     "output_type": "stream",
     "text": [
      "/root/miniconda3/envs/omtest/lib/python3.7/site-packages/pandas/core/frame.py:5047: SettingWithCopyWarning: \n",
      "A value is trying to be set on a copy of a slice from a DataFrame\n",
      "\n",
      "See the caveats in the documentation: https://pandas.pydata.org/pandas-docs/stable/user_guide/indexing.html#returning-a-view-versus-a-copy\n",
      "  errors=errors,\n"
     ]
    }
   ],
   "source": [
    "df_eth = process_ethiopia()"
   ]
  },
  {
   "cell_type": "code",
   "execution_count": 10,
   "metadata": {},
   "outputs": [
    {
     "data": {
      "text/plain": [
       "(233, 5)"
      ]
     },
     "execution_count": 10,
     "metadata": {},
     "output_type": "execute_result"
    }
   ],
   "source": [
    "df_eth.shape"
   ]
  },
  {
   "cell_type": "code",
   "execution_count": 37,
   "metadata": {},
   "outputs": [
    {
     "data": {
      "text/html": [
       "<div>\n",
       "<style scoped>\n",
       "    .dataframe tbody tr th:only-of-type {\n",
       "        vertical-align: middle;\n",
       "    }\n",
       "\n",
       "    .dataframe tbody tr th {\n",
       "        vertical-align: top;\n",
       "    }\n",
       "\n",
       "    .dataframe thead th {\n",
       "        text-align: right;\n",
       "    }\n",
       "</style>\n",
       "<table border=\"1\" class=\"dataframe\">\n",
       "  <thead>\n",
       "    <tr style=\"text-align: right;\">\n",
       "      <th></th>\n",
       "      <th>country</th>\n",
       "      <th>cluster_lat</th>\n",
       "      <th>cluster_lon</th>\n",
       "      <th>cons_pc</th>\n",
       "      <th>nightlights</th>\n",
       "    </tr>\n",
       "  </thead>\n",
       "  <tbody>\n",
       "    <tr>\n",
       "      <th>0</th>\n",
       "      <td>eth</td>\n",
       "      <td>3.455701</td>\n",
       "      <td>39.515994</td>\n",
       "      <td>14.854634</td>\n",
       "      <td>0.0</td>\n",
       "    </tr>\n",
       "    <tr>\n",
       "      <th>1</th>\n",
       "      <td>eth</td>\n",
       "      <td>3.549937</td>\n",
       "      <td>39.184234</td>\n",
       "      <td>14.312022</td>\n",
       "      <td>0.0</td>\n",
       "    </tr>\n",
       "    <tr>\n",
       "      <th>2</th>\n",
       "      <td>eth</td>\n",
       "      <td>3.864243</td>\n",
       "      <td>39.101366</td>\n",
       "      <td>12.470145</td>\n",
       "      <td>0.0</td>\n",
       "    </tr>\n",
       "    <tr>\n",
       "      <th>3</th>\n",
       "      <td>eth</td>\n",
       "      <td>3.982931</td>\n",
       "      <td>38.491368</td>\n",
       "      <td>8.336539</td>\n",
       "      <td>0.0</td>\n",
       "    </tr>\n",
       "    <tr>\n",
       "      <th>4</th>\n",
       "      <td>eth</td>\n",
       "      <td>4.048194</td>\n",
       "      <td>41.930928</td>\n",
       "      <td>4.762526</td>\n",
       "      <td>0.0</td>\n",
       "    </tr>\n",
       "  </tbody>\n",
       "</table>\n",
       "</div>"
      ],
      "text/plain": [
       "  country  cluster_lat  cluster_lon    cons_pc  nightlights\n",
       "0     eth     3.455701    39.515994  14.854634          0.0\n",
       "1     eth     3.549937    39.184234  14.312022          0.0\n",
       "2     eth     3.864243    39.101366  12.470145          0.0\n",
       "3     eth     3.982931    38.491368   8.336539          0.0\n",
       "4     eth     4.048194    41.930928   4.762526          0.0"
      ]
     },
     "execution_count": 37,
     "metadata": {},
     "output_type": "execute_result"
    }
   ],
   "source": [
    "df_eth.head()"
   ]
  },
  {
   "cell_type": "code",
   "execution_count": 11,
   "metadata": {},
   "outputs": [
    {
     "data": {
      "text/plain": [
       "11313.175965665236"
      ]
     },
     "execution_count": 11,
     "metadata": {},
     "output_type": "execute_result"
    }
   ],
   "source": [
    "df_eth['total_hv'].mean()"
   ]
  },
  {
   "cell_type": "code",
   "execution_count": 41,
   "metadata": {},
   "outputs": [
    {
     "data": {
      "image/png": "[encoded data removed]",
      "text/plain": [
       "<Figure size 432x288 with 1 Axes>"
      ]
     },
     "metadata": {
      "needs_background": "light"
     },
     "output_type": "display_data"
    }
   ],
   "source": [
    "df_eth.plot.scatter(x=\"nightlights\", y=\"cons_pc\")\n",
    "x = df_eth['nightlights']\n",
    "y = df_eth['cons_pc']\n",
    "plt.plot(np.unique(x), np.poly1d(np.polyfit(x, y, 1))(np.unique(x)))\n",
    "plt.show()"
   ]
  },
  {
   "cell_type": "code",
   "execution_count": 31,
   "metadata": {},
   "outputs": [
    {
     "data": {
      "text/html": [
       "<div>\n",
       "<style scoped>\n",
       "    .dataframe tbody tr th:only-of-type {\n",
       "        vertical-align: middle;\n",
       "    }\n",
       "\n",
       "    .dataframe tbody tr th {\n",
       "        vertical-align: top;\n",
       "    }\n",
       "\n",
       "    .dataframe thead th {\n",
       "        text-align: right;\n",
       "    }\n",
       "</style>\n",
       "<table border=\"1\" class=\"dataframe\">\n",
       "  <thead>\n",
       "    <tr style=\"text-align: right;\">\n",
       "      <th></th>\n",
       "      <th>cluster_lat</th>\n",
       "      <th>cluster_lon</th>\n",
       "      <th>cons_pc</th>\n",
       "      <th>nightlights</th>\n",
       "    </tr>\n",
       "  </thead>\n",
       "  <tbody>\n",
       "    <tr>\n",
       "      <th>cluster_lat</th>\n",
       "      <td>1.000000</td>\n",
       "      <td>-0.702793</td>\n",
       "      <td>-0.026563</td>\n",
       "      <td>-0.083273</td>\n",
       "    </tr>\n",
       "    <tr>\n",
       "      <th>cluster_lon</th>\n",
       "      <td>-0.702793</td>\n",
       "      <td>1.000000</td>\n",
       "      <td>-0.002947</td>\n",
       "      <td>-0.033367</td>\n",
       "    </tr>\n",
       "    <tr>\n",
       "      <th>cons_pc</th>\n",
       "      <td>-0.026563</td>\n",
       "      <td>-0.002947</td>\n",
       "      <td>1.000000</td>\n",
       "      <td>0.384939</td>\n",
       "    </tr>\n",
       "    <tr>\n",
       "      <th>nightlights</th>\n",
       "      <td>-0.083273</td>\n",
       "      <td>-0.033367</td>\n",
       "      <td>0.384939</td>\n",
       "      <td>1.000000</td>\n",
       "    </tr>\n",
       "  </tbody>\n",
       "</table>\n",
       "</div>"
      ],
      "text/plain": [
       "             cluster_lat  cluster_lon   cons_pc  nightlights\n",
       "cluster_lat     1.000000    -0.702793 -0.026563    -0.083273\n",
       "cluster_lon    -0.702793     1.000000 -0.002947    -0.033367\n",
       "cons_pc        -0.026563    -0.002947  1.000000     0.384939\n",
       "nightlights    -0.083273    -0.033367  0.384939     1.000000"
      ]
     },
     "execution_count": 31,
     "metadata": {},
     "output_type": "execute_result"
    }
   ],
   "source": [
    "df_mw.corr()"
   ]
  },
  {
   "cell_type": "code",
   "execution_count": 71,
   "metadata": {},
   "outputs": [
    {
     "data": {
      "text/html": [
       "<div>\n",
       "<style scoped>\n",
       "    .dataframe tbody tr th:only-of-type {\n",
       "        vertical-align: middle;\n",
       "    }\n",
       "\n",
       "    .dataframe tbody tr th {\n",
       "        vertical-align: top;\n",
       "    }\n",
       "\n",
       "    .dataframe thead th {\n",
       "        text-align: right;\n",
       "    }\n",
       "</style>\n",
       "<table border=\"1\" class=\"dataframe\">\n",
       "  <thead>\n",
       "    <tr style=\"text-align: right;\">\n",
       "      <th></th>\n",
       "      <th>cluster_lat</th>\n",
       "      <th>cluster_lon</th>\n",
       "      <th>cons_pc</th>\n",
       "      <th>nightlights</th>\n",
       "    </tr>\n",
       "  </thead>\n",
       "  <tbody>\n",
       "    <tr>\n",
       "      <th>cluster_lat</th>\n",
       "      <td>1.000000</td>\n",
       "      <td>-0.393814</td>\n",
       "      <td>-0.159620</td>\n",
       "      <td>0.276469</td>\n",
       "    </tr>\n",
       "    <tr>\n",
       "      <th>cluster_lon</th>\n",
       "      <td>-0.393814</td>\n",
       "      <td>1.000000</td>\n",
       "      <td>0.227406</td>\n",
       "      <td>-0.206171</td>\n",
       "    </tr>\n",
       "    <tr>\n",
       "      <th>cons_pc</th>\n",
       "      <td>-0.159620</td>\n",
       "      <td>0.227406</td>\n",
       "      <td>1.000000</td>\n",
       "      <td>-0.144788</td>\n",
       "    </tr>\n",
       "    <tr>\n",
       "      <th>nightlights</th>\n",
       "      <td>0.276469</td>\n",
       "      <td>-0.206171</td>\n",
       "      <td>-0.144788</td>\n",
       "      <td>1.000000</td>\n",
       "    </tr>\n",
       "  </tbody>\n",
       "</table>\n",
       "</div>"
      ],
      "text/plain": [
       "             cluster_lat  cluster_lon   cons_pc  nightlights\n",
       "cluster_lat     1.000000    -0.393814 -0.159620     0.276469\n",
       "cluster_lon    -0.393814     1.000000  0.227406    -0.206171\n",
       "cons_pc        -0.159620     0.227406  1.000000    -0.144788\n",
       "nightlights     0.276469    -0.206171 -0.144788     1.000000"
      ]
     },
     "execution_count": 71,
     "metadata": {},
     "output_type": "execute_result"
    }
   ],
   "source": [
    "df_eth.corr()"
   ]
  },
  {
   "cell_type": "code",
   "execution_count": 72,
   "metadata": {},
   "outputs": [
    {
     "data": {
      "text/html": [
       "<div>\n",
       "<style scoped>\n",
       "    .dataframe tbody tr th:only-of-type {\n",
       "        vertical-align: middle;\n",
       "    }\n",
       "\n",
       "    .dataframe tbody tr th {\n",
       "        vertical-align: top;\n",
       "    }\n",
       "\n",
       "    .dataframe thead th {\n",
       "        text-align: right;\n",
       "    }\n",
       "</style>\n",
       "<table border=\"1\" class=\"dataframe\">\n",
       "  <thead>\n",
       "    <tr style=\"text-align: right;\">\n",
       "      <th></th>\n",
       "      <th>cluster_lat</th>\n",
       "      <th>cluster_lon</th>\n",
       "      <th>cons_pc</th>\n",
       "      <th>nightlights</th>\n",
       "    </tr>\n",
       "  </thead>\n",
       "  <tbody>\n",
       "    <tr>\n",
       "      <th>cluster_lat</th>\n",
       "      <td>1.000000</td>\n",
       "      <td>0.220615</td>\n",
       "      <td>0.279542</td>\n",
       "      <td>-0.374902</td>\n",
       "    </tr>\n",
       "    <tr>\n",
       "      <th>cluster_lon</th>\n",
       "      <td>0.220615</td>\n",
       "      <td>1.000000</td>\n",
       "      <td>0.213043</td>\n",
       "      <td>-0.038491</td>\n",
       "    </tr>\n",
       "    <tr>\n",
       "      <th>cons_pc</th>\n",
       "      <td>0.279542</td>\n",
       "      <td>0.213043</td>\n",
       "      <td>1.000000</td>\n",
       "      <td>0.067457</td>\n",
       "    </tr>\n",
       "    <tr>\n",
       "      <th>nightlights</th>\n",
       "      <td>-0.374902</td>\n",
       "      <td>-0.038491</td>\n",
       "      <td>0.067457</td>\n",
       "      <td>1.000000</td>\n",
       "    </tr>\n",
       "  </tbody>\n",
       "</table>\n",
       "</div>"
      ],
      "text/plain": [
       "             cluster_lat  cluster_lon   cons_pc  nightlights\n",
       "cluster_lat     1.000000     0.220615  0.279542    -0.374902\n",
       "cluster_lon     0.220615     1.000000  0.213043    -0.038491\n",
       "cons_pc         0.279542     0.213043  1.000000     0.067457\n",
       "nightlights    -0.374902    -0.038491  0.067457     1.000000"
      ]
     },
     "execution_count": 72,
     "metadata": {},
     "output_type": "execute_result"
    }
   ],
   "source": [
    "df_ng.corr()"
   ]
  },
  {
   "cell_type": "code",
   "execution_count": 73,
   "metadata": {},
   "outputs": [],
   "source": [
    "for country in ['malawi_2016', 'ethiopia_2015', 'nigeria_2015']:\n",
    "    os.makedirs(os.path.join(COUNTRIES_DIR, country, 'processed'), exist_ok=True)"
   ]
  },
  {
   "cell_type": "code",
   "execution_count": 74,
   "metadata": {},
   "outputs": [],
   "source": [
    "df_mw.to_csv(os.path.join(COUNTRIES_DIR, 'malawi_2016', 'processed/clusters.csv'), index=False)"
   ]
  },
  {
   "cell_type": "code",
   "execution_count": 75,
   "metadata": {},
   "outputs": [],
   "source": [
    "df_eth.to_csv(os.path.join(COUNTRIES_DIR, 'ethiopia_2015', 'processed/clusters.csv'), index=False)"
   ]
  },
  {
   "cell_type": "code",
   "execution_count": 76,
   "metadata": {},
   "outputs": [],
   "source": [
    "df_ng.to_csv(os.path.join(COUNTRIES_DIR, 'nigeria_2015', 'processed/clusters.csv'), index=False)"
   ]
  },
  {
   "cell_type": "code",
   "execution_count": null,
   "metadata": {},
   "outputs": [],
   "source": []
  }
 ],
 "metadata": {
  "environment": {
   "name": "pytorch-gpu.1-4.m46",
   "type": "gcloud",
   "uri": "gcr.io/deeplearning-platform-release/pytorch-gpu.1-4:m46"
  },
  "kernelspec": {
   "display_name": "omtest",
   "language": "python",
   "name": "omtest"
  },
  "language_info": {
   "codemirror_mode": {
    "name": "ipython",
    "version": 3
   },
   "file_extension": ".py",
   "mimetype": "text/x-python",
   "name": "python",
   "nbconvert_exporter": "python",
   "pygments_lexer": "ipython3",
   "version": "3.7.11"
  }
 },
 "nbformat": 4,
 "nbformat_minor": 2
}
