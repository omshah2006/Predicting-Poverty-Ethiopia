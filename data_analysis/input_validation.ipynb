{
 "cells": [
  {
   "cell_type": "code",
   "execution_count": 1,
   "id": "23226046",
   "metadata": {},
   "outputs": [],
   "source": [
    "import numpy as np\n",
    "import tensorflow as tf\n",
    "import os"
   ]
  },
  {
   "cell_type": "code",
   "execution_count": 3,
   "id": "b4082e67",
   "metadata": {},
   "outputs": [],
   "source": [
    "import sys\n",
    "sys.path.append('..')\n",
    "from dataset import batcher"
   ]
  },
  {
   "cell_type": "code",
   "execution_count": 4,
   "id": "cd513b43",
   "metadata": {},
   "outputs": [],
   "source": [
    "INPUT_SHAPE = (224, 224, 3)\n",
    "BUCKET = False\n",
    "\n",
    "TFRECORDS_DIR = '../data/lsms_tfrecords/'"
   ]
  },
  {
   "cell_type": "code",
   "execution_count": 5,
   "id": "c11e4cad",
   "metadata": {},
   "outputs": [
    {
     "name": "stdout",
     "output_type": "stream",
     "text": [
      "Metal device set to: Apple M1 Pro\n"
     ]
    },
    {
     "name": "stderr",
     "output_type": "stream",
     "text": [
      "2023-01-29 13:59:27.296870: I tensorflow/core/common_runtime/pluggable_device/pluggable_device_factory.cc:306] Could not identify NUMA node of platform GPU ID 0, defaulting to 0. Your kernel may not have been built with NUMA support.\n",
      "2023-01-29 13:59:27.297274: I tensorflow/core/common_runtime/pluggable_device/pluggable_device_factory.cc:272] Created TensorFlow device (/job:localhost/replica:0/task:0/device:GPU:0 with 0 MB memory) -> physical PluggableDevice (device: 0, name: METAL, pci bus id: <undefined>)\n"
     ]
    }
   ],
   "source": [
    "train_batcher = batcher.Batcher(\n",
    "    image_shape=INPUT_SHAPE, bucket=BUCKET, batch_size=4559, shuffle=False, split=\"train\"\n",
    ").get_dataset()\n",
    "\n",
    "val_batcher = batcher.Batcher(\n",
    "    image_shape=INPUT_SHAPE, bucket=BUCKET, batch_size=1302, shuffle=False, split=\"val\"\n",
    ").get_dataset()\n",
    "\n",
    "test_batcher = batcher.Batcher(\n",
    "    image_shape=INPUT_SHAPE, bucket=BUCKET, batch_size=652, shuffle=False, split=\"test\"\n",
    ").get_dataset()"
   ]
  },
  {
   "cell_type": "code",
   "execution_count": null,
   "id": "094a0daa",
   "metadata": {},
   "outputs": [],
   "source": []
  }
 ],
 "metadata": {
  "kernelspec": {
   "display_name": "pypoverty38",
   "language": "python",
   "name": "pypoverty38"
  },
  "language_info": {
   "codemirror_mode": {
    "name": "ipython",
    "version": 3
   },
   "file_extension": ".py",
   "mimetype": "text/x-python",
   "name": "python",
   "nbconvert_exporter": "python",
   "pygments_lexer": "ipython3",
   "version": "3.8.15"
  }
 },
 "nbformat": 4,
 "nbformat_minor": 5
}
