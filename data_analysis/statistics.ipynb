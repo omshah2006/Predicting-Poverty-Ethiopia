{
 "cells": [
  {
   "cell_type": "code",
   "execution_count": 17,
   "id": "ccf07cd1",
   "metadata": {},
   "outputs": [],
   "source": [
    "import numpy as np\n",
    "import tensorflow as tf\n",
    "import os"
   ]
  },
  {
   "cell_type": "code",
   "execution_count": 18,
   "id": "27b686ba",
   "metadata": {},
   "outputs": [],
   "source": [
    "TFRECORDS_DIR = '../data/lsms_tfrecords/'"
   ]
  },
  {
   "cell_type": "code",
   "execution_count": 19,
   "id": "6c76a1db",
   "metadata": {},
   "outputs": [],
   "source": [
    "BANDS = ['BLUE', 'GREEN', 'RED', 'NIR', 'SW_IR1', 'SW_IR2', 'TEMP', 'avg_rad']"
   ]
  },
  {
   "cell_type": "code",
   "execution_count": 20,
   "id": "9631b5ff",
   "metadata": {},
   "outputs": [],
   "source": [
    "def create_single_feature_set(filename):\n",
    "    record = tf.data.TFRecordDataset(filenames=[filename])\n",
    "    feature_set = parse_features(record=record)\n",
    "    \n",
    "    return feature_set\n",
    "\n",
    "def parse_features(record):\n",
    "    raw_example = next(iter(record)) \n",
    "    example = tf.train.Example.FromString(raw_example.numpy())\n",
    "    \n",
    "    return example.features.feature"
   ]
  },
  {
   "cell_type": "code",
   "execution_count": 64,
   "id": "3bc69f0e",
   "metadata": {},
   "outputs": [],
   "source": [
    "tfrecords = sorted([f for f in os.listdir(TFRECORDS_DIR) if not f.startswith('.')])\n",
    "for i, file in enumerate(tfrecords):\n",
    "    tfrecords[i] = os.path.join('../data/lsms_tfrecords', file)\n",
    "num_records = len(tfrecords)\n",
    "\n",
    "def calculate_band_means():\n",
    "    band_means = {'BLUE': 0, 'GREEN': 0, 'RED': 0, 'NIR': 0, 'SW_IR1': 0, 'SW_IR2': 0, 'TEMP': 0, 'avg_rad': 0}\n",
    "\n",
    "    for tf_r in tfrecords:\n",
    "        feature_set = create_single_feature_set(filename=tf_r)\n",
    "\n",
    "        for band_name in BANDS:\n",
    "            band = np.array(feature_set[band_name].float_list.value, dtype=np.float32).reshape(255, 255)\n",
    "            band_means[band_name] += np.mean(band[:,:])\n",
    "            \n",
    "    band_means = {key: value / num_records for key, value in band_means.items()}\n",
    "    \n",
    "    return band_means        \n",
    "\n",
    "def calculate_band_stdevs(band_means):\n",
    "    band_stdevs = {'BLUE': 0, 'GREEN': 0, 'RED': 0, 'NIR': 0, 'SW_IR1': 0, 'SW_IR2': 0, 'TEMP': 0, 'avg_rad': 0}\n",
    "    \n",
    "    for tf_r in tfrecords:\n",
    "        feature_set = create_single_feature_set(filename=tf_r)\n",
    "\n",
    "        for band_name in BANDS:\n",
    "            band = np.array(feature_set[band_name].float_list.value, dtype=np.float32).reshape(255, 255)\n",
    "            band_stdevs[band_name] += ((band - band_means[band_name])**2).sum()/(band.shape[0]*band.shape[1])\n",
    "            \n",
    "    band_stdevs = {key: np.sqrt(value / num_records) for key, value in band_stdevs.items()}\n",
    "    \n",
    "    return band_stdevs\n",
    "    "
   ]
  },
  {
   "cell_type": "code",
   "execution_count": 59,
   "id": "f61a2607",
   "metadata": {},
   "outputs": [],
   "source": [
    "band_means = calculate_band_means()"
   ]
  },
  {
   "cell_type": "code",
   "execution_count": 65,
   "id": "2c64e885",
   "metadata": {},
   "outputs": [],
   "source": [
    "band_stdevs = calculate_band_stdevs(band_means)"
   ]
  },
  {
   "cell_type": "code",
   "execution_count": 66,
   "id": "f343ff6b",
   "metadata": {},
   "outputs": [
    {
     "name": "stdout",
     "output_type": "stream",
     "text": [
      "Band Means: {'BLUE': 0.05720699718743952, 'GREEN': 0.09490949383988444, 'RED': 0.11647556706520566, 'NIR': 0.25043694995276194, 'SW_IR1': 0.2392968657712096, 'SW_IR2': 0.17881930908670116, 'TEMP': 309.4823962960872, 'avg_rad': 1.8277193893627437}\n",
      "\n",
      "Band Means: {'BLUE': 0.02379879403788589, 'GREEN': 0.03264212296594092, 'RED': 0.050468921297598834, 'NIR': 0.04951648377311826, 'SW_IR1': 0.07332469136800321, 'SW_IR2': 0.07090649886221509, 'TEMP': 6.000001012494749, 'avg_rad': 4.328436715534132}\n",
      "\n"
     ]
    }
   ],
   "source": [
    "print(f'Band Means: {band_means}\\n')\n",
    "print(f'Band Means: {band_stdevs}\\n')"
   ]
  },
  {
   "cell_type": "code",
   "execution_count": null,
   "id": "41e369f6",
   "metadata": {},
   "outputs": [],
   "source": []
  }
 ],
 "metadata": {
  "kernelspec": {
   "display_name": "pypoverty38",
   "language": "python",
   "name": "pypoverty38"
  },
  "language_info": {
   "codemirror_mode": {
    "name": "ipython",
    "version": 3
   },
   "file_extension": ".py",
   "mimetype": "text/x-python",
   "name": "python",
   "nbconvert_exporter": "python",
   "pygments_lexer": "ipython3",
   "version": "3.8.15"
  }
 },
 "nbformat": 4,
 "nbformat_minor": 5
}
