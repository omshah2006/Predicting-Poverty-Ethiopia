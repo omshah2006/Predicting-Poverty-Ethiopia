{
 "cells": [
  {
   "cell_type": "code",
   "execution_count": 17,
   "id": "2738294c",
   "metadata": {},
   "outputs": [],
   "source": [
    "import numpy as np\n",
    "import tensorflow as tf\n",
    "import os"
   ]
  },
  {
   "cell_type": "code",
   "execution_count": 18,
   "id": "eb205cb4",
   "metadata": {},
   "outputs": [],
   "source": [
    "TFRECORDS_DIR = '../data/lsms_tfrecords/'"
   ]
  },
  {
   "cell_type": "code",
   "execution_count": 19,
   "id": "24f7d6d7",
   "metadata": {},
   "outputs": [],
   "source": [
    "BANDS = ['BLUE', 'GREEN', 'RED', 'NIR', 'SW_IR1', 'SW_IR2', 'TEMP', 'avg_rad']"
   ]
  },
  {
   "cell_type": "code",
   "execution_count": 20,
   "id": "1b09a7b9",
   "metadata": {},
   "outputs": [],
   "source": [
    "def create_single_feature_set(filename):\n",
    "    record = tf.data.TFRecordDataset(filenames=[filename])\n",
    "    feature_set = parse_features(record=record)\n",
    "    \n",
    "    return feature_set\n",
    "\n",
    "def parse_features(record):\n",
    "    raw_example = next(iter(record)) \n",
    "    example = tf.train.Example.FromString(raw_example.numpy())\n",
    "    \n",
    "    return example.features.feature"
   ]
  },
  {
   "cell_type": "code",
   "execution_count": 57,
   "id": "a0f6515a",
   "metadata": {},
   "outputs": [],
   "source": [
    "tfrecords = sorted([f for f in os.listdir(TFRECORDS_DIR) if not f.startswith('.')])\n",
    "for i, file in enumerate(tfrecords):\n",
    "    tfrecords[i] = os.path.join('../data/lsms_tfrecords', file)\n",
    "num_records = len(tfrecords)\n",
    "\n",
    "def calculate_band_means():\n",
    "    band_means = {'BLUE': 0, 'GREEN': 0, 'RED': 0, 'NIR': 0, 'SW_IR1': 0, 'SW_IR2': 0, 'TEMP': 0, 'avg_rad': 0}\n",
    "\n",
    "    for tf_r in tfrecords:\n",
    "        feature_set = create_single_feature_set(filename=tf_r)\n",
    "\n",
    "        for band_name in BANDS:\n",
    "            band = np.array(feature_set[band_name].float_list.value, dtype=np.float32).reshape(255, 255)\n",
    "            band_means[band_name] += np.mean(band[:,:])\n",
    "            \n",
    "    band_means = {key: value / num_records for key, value in band_means.items()}\n",
    "    \n",
    "    return band_means        "
   ]
  },
  {
   "cell_type": "code",
   "execution_count": null,
   "id": "fd4df033",
   "metadata": {},
   "outputs": [],
   "source": [
    "band_means = calculate_band_means()"
   ]
  },
  {
   "cell_type": "code",
   "execution_count": null,
   "id": "761a0d80",
   "metadata": {},
   "outputs": [],
   "source": []
  }
 ],
 "metadata": {
  "kernelspec": {
   "display_name": "pypoverty38",
   "language": "python",
   "name": "pypoverty38"
  },
  "language_info": {
   "codemirror_mode": {
    "name": "ipython",
    "version": 3
   },
   "file_extension": ".py",
   "mimetype": "text/x-python",
   "name": "python",
   "nbconvert_exporter": "python",
   "pygments_lexer": "ipython3",
   "version": "3.8.15"
  }
 },
 "nbformat": 4,
 "nbformat_minor": 5
}
