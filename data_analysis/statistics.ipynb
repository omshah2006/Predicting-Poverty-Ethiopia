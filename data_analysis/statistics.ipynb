{
 "cells": [
  {
   "cell_type": "code",
   "execution_count": 1,
   "id": "ccf07cd1",
   "metadata": {},
   "outputs": [],
   "source": [
    "import numpy as np\n",
    "import tensorflow as tf\n",
    "import os"
   ]
  },
  {
   "cell_type": "code",
   "execution_count": 12,
   "id": "27b686ba",
   "metadata": {},
   "outputs": [],
   "source": [
    "# Change to whatever directory has needed tfrecords\n",
    "TFRECORDS_DIR = '../data/nga_lsms_tfrecords/'"
   ]
  },
  {
   "cell_type": "code",
   "execution_count": 13,
   "id": "6c76a1db",
   "metadata": {},
   "outputs": [],
   "source": [
    "BANDS = ['BLUE', 'GREEN', 'RED', 'NIR', 'SW_IR1', 'SW_IR2', 'TEMP', 'VIIRS', \"DELTA_TEMP\"]"
   ]
  },
  {
   "cell_type": "code",
   "execution_count": 14,
   "id": "9631b5ff",
   "metadata": {},
   "outputs": [],
   "source": [
    "def create_single_feature_set(filename):\n",
    "    record = tf.data.TFRecordDataset(filenames=[filename])\n",
    "    feature_set = parse_features(record=record)\n",
    "    \n",
    "    return feature_set\n",
    "\n",
    "def parse_features(record):\n",
    "    raw_example = next(iter(record)) \n",
    "    example = tf.train.Example.FromString(raw_example.numpy())\n",
    "    \n",
    "    return example.features.feature"
   ]
  },
  {
   "cell_type": "code",
   "execution_count": 15,
   "id": "3bc69f0e",
   "metadata": {},
   "outputs": [],
   "source": [
    "tfrecords = sorted([f for f in os.listdir(TFRECORDS_DIR) if not f.startswith('.')])\n",
    "for i, file in enumerate(tfrecords):\n",
    "    tfrecords[i] = os.path.join(TFRECORDS_DIR, file)\n",
    "num_records = len(tfrecords)\n",
    "\n",
    "def calculate_band_means():\n",
    "    band_means = {'BLUE': 0, 'GREEN': 0, 'RED': 0, 'NIR': 0, 'SW_IR1': 0, 'SW_IR2': 0, 'TEMP': 0, 'VIIRS': 0, 'DELTA_TEMP': 0}\n",
    "\n",
    "    for tf_r in tfrecords:\n",
    "        feature_set = create_single_feature_set(filename=tf_r)\n",
    "\n",
    "        for band_name in BANDS:\n",
    "            band = np.array(feature_set[band_name].float_list.value, dtype=np.float32).reshape(255, 255)\n",
    "            band_means[band_name] += np.mean(band[:,:])\n",
    "            \n",
    "    band_means = {key: value / num_records for key, value in band_means.items()}\n",
    "    \n",
    "    return band_means        \n",
    "\n",
    "def calculate_band_stdevs(band_means):\n",
    "    band_stdevs = {'BLUE': 0, 'GREEN': 0, 'RED': 0, 'NIR': 0, 'SW_IR1': 0, 'SW_IR2': 0, 'TEMP': 0, 'VIIRS': 0, 'DELTA_TEMP': 0}\n",
    "    \n",
    "    for tf_r in tfrecords:\n",
    "        feature_set = create_single_feature_set(filename=tf_r)\n",
    "\n",
    "        for band_name in BANDS:\n",
    "            band = np.array(feature_set[band_name].float_list.value, dtype=np.float32).reshape(255, 255)\n",
    "            band_stdevs[band_name] += ((band - band_means[band_name])**2).sum()/(band.shape[0]*band.shape[1])\n",
    "            \n",
    "    band_stdevs = {key: np.sqrt(value / num_records) for key, value in band_stdevs.items()}\n",
    "    \n",
    "    return band_stdevs\n",
    "    "
   ]
  },
  {
   "cell_type": "code",
   "execution_count": 16,
   "id": "f61a2607",
   "metadata": {},
   "outputs": [],
   "source": [
    "band_means = calculate_band_means()"
   ]
  },
  {
   "cell_type": "code",
   "execution_count": 17,
   "id": "2c64e885",
   "metadata": {},
   "outputs": [],
   "source": [
    "band_stdevs = calculate_band_stdevs(band_means)"
   ]
  },
  {
   "cell_type": "code",
   "execution_count": 18,
   "id": "f343ff6b",
   "metadata": {},
   "outputs": [
    {
     "name": "stdout",
     "output_type": "stream",
     "text": [
      "Band Means: {'BLUE': 0.06394327203741834, 'GREEN': 0.11046460040106762, 'RED': 0.13331832385103914, 'NIR': 0.28515732947262695, 'SW_IR1': 0.2940725715657443, 'SW_IR2': 0.21185806173034388, 'TEMP': 309.76055477080405, 'VIIRS': 0.9838503891800041, 'DELTA_TEMP': 272.43254182862273}\n",
      "\n",
      "Band Means: {'BLUE': 0.02769227383368525, 'GREEN': 0.03875152334541102, 'RED': 0.0650641224982296, 'NIR': 0.06078692154635367, 'SW_IR1': 0.10890123369640009, 'SW_IR2': 0.10343445270835655, 'TEMP': 4.544446413905368, 'VIIRS': 7.623023631186187, 'DELTA_TEMP': 3348.9040754298007}\n",
      "\n"
     ]
    }
   ],
   "source": [
    "print(f'Band Means: {band_means}\\n')\n",
    "print(f'Band Standard Deviations: {band_stdevs}\\n')"
   ]
  },
  {
   "cell_type": "code",
   "execution_count": null,
   "id": "41e369f6",
   "metadata": {},
   "outputs": [],
   "source": []
  }
 ],
 "metadata": {
  "kernelspec": {
   "display_name": "pypoverty38",
   "language": "python",
   "name": "pypoverty38"
  },
  "language_info": {
   "codemirror_mode": {
    "name": "ipython",
    "version": 3
   },
   "file_extension": ".py",
   "mimetype": "text/x-python",
   "name": "python",
   "nbconvert_exporter": "python",
   "pygments_lexer": "ipython3",
   "version": "3.8.15"
  }
 },
 "nbformat": 4,
 "nbformat_minor": 5
}
