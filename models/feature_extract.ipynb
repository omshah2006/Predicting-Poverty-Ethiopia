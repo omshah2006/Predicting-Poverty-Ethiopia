{
 "cells": [
  {
   "cell_type": "markdown",
   "metadata": {},
   "source": [
    "Using the images marked as valid per cluster, we pass them through the CNN and extract their feature vectors. the results are stored at a per-country basis. For example, all Malawi feature extractions will go into results/malawi_2016/cnn."
   ]
  },
  {
   "cell_type": "code",
   "execution_count": 64,
   "metadata": {},
   "outputs": [],
   "source": [
    "import os\n",
    "import shutil\n",
    "import numpy as np\n",
    "import pandas as pd\n",
    "from tqdm import tqdm\n",
    "import pickle\n",
    "\n",
    "import torch\n",
    "import torch.nn as nn\n",
    "import torch.optim as optim\n",
    "import numpy as np\n",
    "import torchvision\n",
    "from torchvision import datasets, models, transforms\n",
    "import matplotlib.pyplot as plt\n",
    "import time\n",
    "import copy\n",
    "\n",
    "import matplotlib.pyplot as plt\n",
    "\n",
    "%matplotlib inline"
   ]
  },
  {
   "cell_type": "code",
   "execution_count": 65,
   "metadata": {},
   "outputs": [
    {
     "name": "stdout",
     "output_type": "stream",
     "text": [
      "True\n",
      "True\n"
     ]
    }
   ],
   "source": [
    "# this ensures that the current MacOS version is at least 12.3+\n",
    "print(torch.backends.mps.is_available())# this ensures that the current current PyTorch installation was built with MPS activated.\n",
    "print(torch.backends.mps.is_built())"
   ]
  },
  {
   "cell_type": "code",
   "execution_count": 66,
   "metadata": {},
   "outputs": [],
   "source": [
    "BASE_DIR = '..'\n",
    "COUNTRIES_DIR = os.path.join(BASE_DIR, 'data', 'countries')\n",
    "PROCESSED_DIR = os.path.join(BASE_DIR, 'data', 'processed')\n",
    "RESULTS_DIR = os.path.join(BASE_DIR, 'results')\n",
    "CNN_TRAIN_IMAGE_DIR = os.path.join(BASE_DIR, 'data', 'cnn_images')\n",
    "CNN_DIR = os.path.join(BASE_DIR, 'models', 'trained_model.pt')"
   ]
  },
  {
   "cell_type": "code",
   "execution_count": 67,
   "metadata": {},
   "outputs": [],
   "source": [
    "os.makedirs(RESULTS_DIR, exist_ok=True)\n",
    "for country in ['ethiopia_2015']:\n",
    "    os.makedirs(os.path.join(RESULTS_DIR, country), exist_ok=True)"
   ]
  },
  {
   "cell_type": "markdown",
   "metadata": {},
   "source": [
    "# Feature extract with CNN\n",
    "If you have run this step before, you can skip it and run the commented out code in the next section to quick-start."
   ]
  },
  {
   "cell_type": "code",
   "execution_count": 68,
   "metadata": {},
   "outputs": [],
   "source": [
    "df_images = pd.read_csv(os.path.join(PROCESSED_DIR, 'image_download_actual.csv'))"
   ]
  },
  {
   "cell_type": "code",
   "execution_count": 69,
   "metadata": {},
   "outputs": [
    {
     "data": {
      "text/html": [
       "<div>\n",
       "<style scoped>\n",
       "    .dataframe tbody tr th:only-of-type {\n",
       "        vertical-align: middle;\n",
       "    }\n",
       "\n",
       "    .dataframe tbody tr th {\n",
       "        vertical-align: top;\n",
       "    }\n",
       "\n",
       "    .dataframe thead th {\n",
       "        text-align: right;\n",
       "    }\n",
       "</style>\n",
       "<table border=\"1\" class=\"dataframe\">\n",
       "  <thead>\n",
       "    <tr style=\"text-align: right;\">\n",
       "      <th></th>\n",
       "      <th>image_name</th>\n",
       "      <th>image_lat</th>\n",
       "      <th>image_lon</th>\n",
       "      <th>cluster_lat</th>\n",
       "      <th>cluster_lon</th>\n",
       "      <th>cons_pc</th>\n",
       "      <th>temp</th>\n",
       "      <th>country</th>\n",
       "      <th>temp_bin</th>\n",
       "      <th>is_train</th>\n",
       "    </tr>\n",
       "  </thead>\n",
       "  <tbody>\n",
       "    <tr>\n",
       "      <th>0</th>\n",
       "      <td>3.564468534118614_38.976587684280325_3.6093842...</td>\n",
       "      <td>3.564469</td>\n",
       "      <td>38.976588</td>\n",
       "      <td>3.609384</td>\n",
       "      <td>39.021503</td>\n",
       "      <td>22.675628</td>\n",
       "      <td>2.22500</td>\n",
       "      <td>eth</td>\n",
       "      <td>1</td>\n",
       "      <td>True</td>\n",
       "    </tr>\n",
       "    <tr>\n",
       "      <th>1</th>\n",
       "      <td>3.579440455520606_38.976587684280325_3.6093842...</td>\n",
       "      <td>3.579440</td>\n",
       "      <td>38.976588</td>\n",
       "      <td>3.609384</td>\n",
       "      <td>39.021503</td>\n",
       "      <td>22.675628</td>\n",
       "      <td>2.22500</td>\n",
       "      <td>eth</td>\n",
       "      <td>1</td>\n",
       "      <td>False</td>\n",
       "    </tr>\n",
       "    <tr>\n",
       "      <th>2</th>\n",
       "      <td>3.5944123769225977_38.976587684280325_3.609384...</td>\n",
       "      <td>3.594412</td>\n",
       "      <td>38.976588</td>\n",
       "      <td>3.609384</td>\n",
       "      <td>39.021503</td>\n",
       "      <td>22.675628</td>\n",
       "      <td>2.22500</td>\n",
       "      <td>eth</td>\n",
       "      <td>1</td>\n",
       "      <td>True</td>\n",
       "    </tr>\n",
       "    <tr>\n",
       "      <th>3</th>\n",
       "      <td>3.60938429832459_38.976587684280325_3.60938429...</td>\n",
       "      <td>3.609384</td>\n",
       "      <td>38.976588</td>\n",
       "      <td>3.609384</td>\n",
       "      <td>39.021503</td>\n",
       "      <td>22.675628</td>\n",
       "      <td>2.22500</td>\n",
       "      <td>eth</td>\n",
       "      <td>1</td>\n",
       "      <td>True</td>\n",
       "    </tr>\n",
       "    <tr>\n",
       "      <th>4</th>\n",
       "      <td>3.624356219726582_38.976587684280325_3.6093842...</td>\n",
       "      <td>3.624356</td>\n",
       "      <td>38.976588</td>\n",
       "      <td>3.609384</td>\n",
       "      <td>39.021503</td>\n",
       "      <td>22.675628</td>\n",
       "      <td>2.22500</td>\n",
       "      <td>eth</td>\n",
       "      <td>1</td>\n",
       "      <td>True</td>\n",
       "    </tr>\n",
       "    <tr>\n",
       "      <th>...</th>\n",
       "      <td>...</td>\n",
       "      <td>...</td>\n",
       "      <td>...</td>\n",
       "      <td>...</td>\n",
       "      <td>...</td>\n",
       "      <td>...</td>\n",
       "      <td>...</td>\n",
       "      <td>...</td>\n",
       "      <td>...</td>\n",
       "      <td>...</td>\n",
       "    </tr>\n",
       "    <tr>\n",
       "      <th>25001</th>\n",
       "      <td>14.127445032638509_40.065734097915694_14.14241...</td>\n",
       "      <td>14.127445</td>\n",
       "      <td>40.065734</td>\n",
       "      <td>14.142417</td>\n",
       "      <td>40.050762</td>\n",
       "      <td>15.427406</td>\n",
       "      <td>1.88611</td>\n",
       "      <td>eth</td>\n",
       "      <td>0</td>\n",
       "      <td>True</td>\n",
       "    </tr>\n",
       "    <tr>\n",
       "      <th>25002</th>\n",
       "      <td>14.1424169540405_40.065734097915694_14.1424169...</td>\n",
       "      <td>14.142417</td>\n",
       "      <td>40.065734</td>\n",
       "      <td>14.142417</td>\n",
       "      <td>40.050762</td>\n",
       "      <td>15.427406</td>\n",
       "      <td>1.88611</td>\n",
       "      <td>eth</td>\n",
       "      <td>0</td>\n",
       "      <td>True</td>\n",
       "    </tr>\n",
       "    <tr>\n",
       "      <th>25003</th>\n",
       "      <td>14.157388875442493_40.065734097915694_14.14241...</td>\n",
       "      <td>14.157389</td>\n",
       "      <td>40.065734</td>\n",
       "      <td>14.142417</td>\n",
       "      <td>40.050762</td>\n",
       "      <td>15.427406</td>\n",
       "      <td>1.88611</td>\n",
       "      <td>eth</td>\n",
       "      <td>0</td>\n",
       "      <td>True</td>\n",
       "    </tr>\n",
       "    <tr>\n",
       "      <th>25004</th>\n",
       "      <td>14.097501189834524_40.08070601931768_14.142416...</td>\n",
       "      <td>14.097501</td>\n",
       "      <td>40.080706</td>\n",
       "      <td>14.142417</td>\n",
       "      <td>40.050762</td>\n",
       "      <td>15.427406</td>\n",
       "      <td>1.88611</td>\n",
       "      <td>eth</td>\n",
       "      <td>0</td>\n",
       "      <td>True</td>\n",
       "    </tr>\n",
       "    <tr>\n",
       "      <th>25005</th>\n",
       "      <td>14.1424169540405_40.08070601931768_14.14241695...</td>\n",
       "      <td>14.142417</td>\n",
       "      <td>40.080706</td>\n",
       "      <td>14.142417</td>\n",
       "      <td>40.050762</td>\n",
       "      <td>15.427406</td>\n",
       "      <td>1.88611</td>\n",
       "      <td>eth</td>\n",
       "      <td>0</td>\n",
       "      <td>True</td>\n",
       "    </tr>\n",
       "  </tbody>\n",
       "</table>\n",
       "<p>25006 rows × 10 columns</p>\n",
       "</div>"
      ],
      "text/plain": [
       "                                              image_name  image_lat  \\\n",
       "0      3.564468534118614_38.976587684280325_3.6093842...   3.564469   \n",
       "1      3.579440455520606_38.976587684280325_3.6093842...   3.579440   \n",
       "2      3.5944123769225977_38.976587684280325_3.609384...   3.594412   \n",
       "3      3.60938429832459_38.976587684280325_3.60938429...   3.609384   \n",
       "4      3.624356219726582_38.976587684280325_3.6093842...   3.624356   \n",
       "...                                                  ...        ...   \n",
       "25001  14.127445032638509_40.065734097915694_14.14241...  14.127445   \n",
       "25002  14.1424169540405_40.065734097915694_14.1424169...  14.142417   \n",
       "25003  14.157388875442493_40.065734097915694_14.14241...  14.157389   \n",
       "25004  14.097501189834524_40.08070601931768_14.142416...  14.097501   \n",
       "25005  14.1424169540405_40.08070601931768_14.14241695...  14.142417   \n",
       "\n",
       "       image_lon  cluster_lat  cluster_lon    cons_pc     temp country  \\\n",
       "0      38.976588     3.609384    39.021503  22.675628  2.22500     eth   \n",
       "1      38.976588     3.609384    39.021503  22.675628  2.22500     eth   \n",
       "2      38.976588     3.609384    39.021503  22.675628  2.22500     eth   \n",
       "3      38.976588     3.609384    39.021503  22.675628  2.22500     eth   \n",
       "4      38.976588     3.609384    39.021503  22.675628  2.22500     eth   \n",
       "...          ...          ...          ...        ...      ...     ...   \n",
       "25001  40.065734    14.142417    40.050762  15.427406  1.88611     eth   \n",
       "25002  40.065734    14.142417    40.050762  15.427406  1.88611     eth   \n",
       "25003  40.065734    14.142417    40.050762  15.427406  1.88611     eth   \n",
       "25004  40.080706    14.142417    40.050762  15.427406  1.88611     eth   \n",
       "25005  40.080706    14.142417    40.050762  15.427406  1.88611     eth   \n",
       "\n",
       "       temp_bin  is_train  \n",
       "0             1      True  \n",
       "1             1     False  \n",
       "2             1      True  \n",
       "3             1      True  \n",
       "4             1      True  \n",
       "...         ...       ...  \n",
       "25001         0      True  \n",
       "25002         0      True  \n",
       "25003         0      True  \n",
       "25004         0      True  \n",
       "25005         0      True  \n",
       "\n",
       "[25006 rows x 10 columns]"
      ]
     },
     "execution_count": 69,
     "metadata": {},
     "output_type": "execute_result"
    }
   ],
   "source": [
    "df_images"
   ]
  },
  {
   "cell_type": "code",
   "execution_count": 70,
   "metadata": {},
   "outputs": [
    {
     "name": "stdout",
     "output_type": "stream",
     "text": [
      "Using mps as backend\n"
     ]
    }
   ],
   "source": [
    "# device = torch.device('cuda' if torch.cuda.is_available() else 'cpu')\n",
    "device = torch.device(\"mps\" if torch.backends.mps.is_available() else \"cpu\")\n",
    "print(f'Using {device} as backend')\n",
    "model = torch.load(CNN_DIR, map_location=device)"
   ]
  },
  {
   "cell_type": "code",
   "execution_count": 71,
   "metadata": {},
   "outputs": [
    {
     "data": {
      "text/plain": [
       "Sequential(\n",
       "  (0): Linear(in_features=25088, out_features=4096, bias=True)\n",
       "  (1): ReLU(inplace=True)\n",
       "  (2): Dropout(p=0.5, inplace=False)\n",
       "  (3): Linear(in_features=4096, out_features=4096, bias=True)\n",
       "  (4): ReLU(inplace=True)\n",
       "  (5): Dropout(p=0.5, inplace=False)\n",
       "  (6): Linear(in_features=4096, out_features=3, bias=True)\n",
       ")"
      ]
     },
     "execution_count": 71,
     "metadata": {},
     "output_type": "execute_result"
    }
   ],
   "source": [
    "model.classifier"
   ]
  },
  {
   "cell_type": "code",
   "execution_count": 72,
   "metadata": {},
   "outputs": [],
   "source": [
    "# rip off the final layers\n",
    "model.classifier = model.classifier[:4]"
   ]
  },
  {
   "cell_type": "code",
   "execution_count": 73,
   "metadata": {},
   "outputs": [
    {
     "data": {
      "text/plain": [
       "Sequential(\n",
       "  (0): Linear(in_features=25088, out_features=4096, bias=True)\n",
       "  (1): ReLU(inplace=True)\n",
       "  (2): Dropout(p=0.5, inplace=False)\n",
       "  (3): Linear(in_features=4096, out_features=4096, bias=True)\n",
       ")"
      ]
     },
     "execution_count": 73,
     "metadata": {},
     "output_type": "execute_result"
    }
   ],
   "source": [
    "model.classifier"
   ]
  },
  {
   "cell_type": "code",
   "execution_count": 74,
   "metadata": {},
   "outputs": [
    {
     "name": "stderr",
     "output_type": "stream",
     "text": [
      "100%|████████████████████████████████████████████████████████████████████████████████████████████████████████████████████████| 160/160 [00:58<00:00,  2.75it/s]\n",
      "100%|████████████████████████████████████████████████████████████████████████████████████████████████████████████████████████| 168/168 [00:59<00:00,  2.82it/s]\n",
      "100%|████████████████████████████████████████████████████████████████████████████████████████████████████████████████████████| 299/299 [01:44<00:00,  2.85it/s]\n"
     ]
    }
   ],
   "source": [
    "transformer = transforms.Compose([\n",
    "            transforms.ToTensor(),\n",
    "            transforms.Normalize([0.485, 0.456, 0.406], [0.229, 0.224, 0.225])\n",
    "        ])\n",
    "\n",
    "# custom dataset for fast image loading and processing\n",
    "# does not follow the usual style of folder -> folder for each class -> image\n",
    "# we just want one folder with images\n",
    "class ForwardPassDataset(torch.utils.data.Dataset):\n",
    "    def __init__(self, image_dir, transformer):\n",
    "        self.image_dir = image_dir\n",
    "        self.image_list = os.listdir(self.image_dir)\n",
    "        self.transformer = transformer\n",
    "\n",
    "    def __len__(self):\n",
    "        return len(self.image_list)\n",
    "\n",
    "    def __getitem__(self, index):\n",
    "        image_name = self.image_list[index]\n",
    "\n",
    "        # Load image\n",
    "        X = self.filename_to_im_tensor(self.image_dir + '/' + image_name)\n",
    "        \n",
    "        # dataloaders need to return a label, but for the forward pass we don't really care\n",
    "        return X, -1\n",
    "    \n",
    "    def filename_to_im_tensor(self, file):\n",
    "        im = plt.imread(file)[:,:,:3]\n",
    "        im = self.transformer(im)\n",
    "        return im\n",
    "\n",
    "model.eval()  \n",
    "classes = [0, 1, 2]\n",
    "# shape of final array will be (num_validation_images, 4096)\n",
    "# we also want to record the image each index represents\n",
    "feats = np.zeros(((~df_images['is_train']).sum(), 4096))\n",
    "image_order = []\n",
    "i = 0\n",
    "for c in classes:\n",
    "    # use the validation images to do the forward pass\n",
    "    dataset = ForwardPassDataset(os.path.join(CNN_TRAIN_IMAGE_DIR, 'valid', str(c)), transformer)\n",
    "    dataloader = torch.utils.data.DataLoader(dataset, batch_size=8, shuffle=False, num_workers=0)\n",
    "    image_order += dataset.image_list\n",
    "    # forward pass for this class\n",
    "    for inputs, _ in tqdm(dataloader):\n",
    "        inputs = inputs.to(device)\n",
    "        outputs = model(inputs)\n",
    "        feats[i:i+len(inputs),:] = outputs.cpu().detach().numpy()\n",
    "        i += len(inputs)"
   ]
  },
  {
   "cell_type": "code",
   "execution_count": 75,
   "metadata": {},
   "outputs": [
    {
     "data": {
      "text/plain": [
       "array([[-0.37035093,  0.18736616, -0.11472473, ..., -0.00369852,\n",
       "         0.17772731,  0.06980067],\n",
       "       [-0.12282076, -0.32994726, -1.80904484, ...,  0.87539107,\n",
       "         0.56029922, -2.5734129 ],\n",
       "       [-0.87969863,  0.68923247, -1.13142157, ..., -0.85573703,\n",
       "        -1.55176711,  3.35198593],\n",
       "       ...,\n",
       "       [-0.24296668, -0.88987929, -0.08499654, ..., -0.28247315,\n",
       "         0.2275289 , -0.7540285 ],\n",
       "       [ 1.01985097,  0.54063064,  1.07586372, ...,  0.12865628,\n",
       "        -0.25694788, -0.36633614],\n",
       "       [ 0.14138356,  0.64489275, -0.28117204, ..., -0.22912198,\n",
       "        -0.02400123, -0.10313562]])"
      ]
     },
     "execution_count": 75,
     "metadata": {},
     "output_type": "execute_result"
    }
   ],
   "source": [
    "feats"
   ]
  },
  {
   "cell_type": "code",
   "execution_count": 76,
   "metadata": {},
   "outputs": [
    {
     "data": {
      "text/html": [
       "<div>\n",
       "<style scoped>\n",
       "    .dataframe tbody tr th:only-of-type {\n",
       "        vertical-align: middle;\n",
       "    }\n",
       "\n",
       "    .dataframe tbody tr th {\n",
       "        vertical-align: top;\n",
       "    }\n",
       "\n",
       "    .dataframe thead th {\n",
       "        text-align: right;\n",
       "    }\n",
       "</style>\n",
       "<table border=\"1\" class=\"dataframe\">\n",
       "  <thead>\n",
       "    <tr style=\"text-align: right;\">\n",
       "      <th></th>\n",
       "      <th>image_name</th>\n",
       "      <th>feat_index</th>\n",
       "    </tr>\n",
       "  </thead>\n",
       "  <tbody>\n",
       "    <tr>\n",
       "      <th>0</th>\n",
       "      <td>11.749162096893384_41.00496520510868_11.719218...</td>\n",
       "      <td>0</td>\n",
       "    </tr>\n",
       "    <tr>\n",
       "      <th>1</th>\n",
       "      <td>9.350834014811435_34.50303456325966_9.35627365...</td>\n",
       "      <td>1</td>\n",
       "    </tr>\n",
       "    <tr>\n",
       "      <th>2</th>\n",
       "      <td>13.483192832595824_39.5778388977051_13.5281085...</td>\n",
       "      <td>2</td>\n",
       "    </tr>\n",
       "    <tr>\n",
       "      <th>3</th>\n",
       "      <td>10.451476485855023_36.18495101686099_10.496392...</td>\n",
       "      <td>3</td>\n",
       "    </tr>\n",
       "    <tr>\n",
       "      <th>4</th>\n",
       "      <td>12.102688601058908_39.95773543826298_12.117660...</td>\n",
       "      <td>4</td>\n",
       "    </tr>\n",
       "  </tbody>\n",
       "</table>\n",
       "</div>"
      ],
      "text/plain": [
       "                                          image_name  feat_index\n",
       "0  11.749162096893384_41.00496520510868_11.719218...           0\n",
       "1  9.350834014811435_34.50303456325966_9.35627365...           1\n",
       "2  13.483192832595824_39.5778388977051_13.5281085...           2\n",
       "3  10.451476485855023_36.18495101686099_10.496392...           3\n",
       "4  12.102688601058908_39.95773543826298_12.117660...           4"
      ]
     },
     "execution_count": 76,
     "metadata": {},
     "output_type": "execute_result"
    }
   ],
   "source": [
    "forward_pass_df = pd.DataFrame.from_dict({'image_name': image_order, 'feat_index': np.arange(len(image_order))})\n",
    "forward_pass_df.head()"
   ]
  },
  {
   "cell_type": "code",
   "execution_count": 77,
   "metadata": {},
   "outputs": [],
   "source": [
    "df_consumption = pd.merge(left=df_images, right=forward_pass_df, on='image_name')"
   ]
  },
  {
   "cell_type": "code",
   "execution_count": 78,
   "metadata": {},
   "outputs": [],
   "source": [
    "# have we maintained all validation images?\n",
    "assert len(df_consumption) == (~df_images['is_train']).sum()"
   ]
  },
  {
   "cell_type": "code",
   "execution_count": 79,
   "metadata": {},
   "outputs": [
    {
     "data": {
      "text/html": [
       "<div>\n",
       "<style scoped>\n",
       "    .dataframe tbody tr th:only-of-type {\n",
       "        vertical-align: middle;\n",
       "    }\n",
       "\n",
       "    .dataframe tbody tr th {\n",
       "        vertical-align: top;\n",
       "    }\n",
       "\n",
       "    .dataframe thead th {\n",
       "        text-align: right;\n",
       "    }\n",
       "</style>\n",
       "<table border=\"1\" class=\"dataframe\">\n",
       "  <thead>\n",
       "    <tr style=\"text-align: right;\">\n",
       "      <th></th>\n",
       "      <th>image_name</th>\n",
       "      <th>image_lat</th>\n",
       "      <th>image_lon</th>\n",
       "      <th>cluster_lat</th>\n",
       "      <th>cluster_lon</th>\n",
       "      <th>cons_pc</th>\n",
       "      <th>temp</th>\n",
       "      <th>country</th>\n",
       "      <th>temp_bin</th>\n",
       "      <th>is_train</th>\n",
       "      <th>feat_index</th>\n",
       "    </tr>\n",
       "  </thead>\n",
       "  <tbody>\n",
       "    <tr>\n",
       "      <th>4998</th>\n",
       "      <td>14.187332718246477_40.02081833370972_14.142416...</td>\n",
       "      <td>14.187333</td>\n",
       "      <td>40.020818</td>\n",
       "      <td>14.142417</td>\n",
       "      <td>40.050762</td>\n",
       "      <td>15.427406</td>\n",
       "      <td>1.88611</td>\n",
       "      <td>eth</td>\n",
       "      <td>0</td>\n",
       "      <td>False</td>\n",
       "      <td>539</td>\n",
       "    </tr>\n",
       "    <tr>\n",
       "      <th>4999</th>\n",
       "      <td>14.112473111236516_40.035790255111706_14.14241...</td>\n",
       "      <td>14.112473</td>\n",
       "      <td>40.035790</td>\n",
       "      <td>14.142417</td>\n",
       "      <td>40.050762</td>\n",
       "      <td>15.427406</td>\n",
       "      <td>1.88611</td>\n",
       "      <td>eth</td>\n",
       "      <td>0</td>\n",
       "      <td>False</td>\n",
       "      <td>484</td>\n",
       "    </tr>\n",
       "    <tr>\n",
       "      <th>5000</th>\n",
       "      <td>14.157388875442493_40.035790255111706_14.14241...</td>\n",
       "      <td>14.157389</td>\n",
       "      <td>40.035790</td>\n",
       "      <td>14.142417</td>\n",
       "      <td>40.050762</td>\n",
       "      <td>15.427406</td>\n",
       "      <td>1.88611</td>\n",
       "      <td>eth</td>\n",
       "      <td>0</td>\n",
       "      <td>False</td>\n",
       "      <td>494</td>\n",
       "    </tr>\n",
       "    <tr>\n",
       "      <th>5001</th>\n",
       "      <td>14.187332718246477_40.035790255111706_14.14241...</td>\n",
       "      <td>14.187333</td>\n",
       "      <td>40.035790</td>\n",
       "      <td>14.142417</td>\n",
       "      <td>40.050762</td>\n",
       "      <td>15.427406</td>\n",
       "      <td>1.88611</td>\n",
       "      <td>eth</td>\n",
       "      <td>0</td>\n",
       "      <td>False</td>\n",
       "      <td>967</td>\n",
       "    </tr>\n",
       "    <tr>\n",
       "      <th>5002</th>\n",
       "      <td>14.157388875442493_40.0507621765137_14.1424169...</td>\n",
       "      <td>14.157389</td>\n",
       "      <td>40.050762</td>\n",
       "      <td>14.142417</td>\n",
       "      <td>40.050762</td>\n",
       "      <td>15.427406</td>\n",
       "      <td>1.88611</td>\n",
       "      <td>eth</td>\n",
       "      <td>0</td>\n",
       "      <td>False</td>\n",
       "      <td>1244</td>\n",
       "    </tr>\n",
       "  </tbody>\n",
       "</table>\n",
       "</div>"
      ],
      "text/plain": [
       "                                             image_name  image_lat  image_lon  \\\n",
       "4998  14.187332718246477_40.02081833370972_14.142416...  14.187333  40.020818   \n",
       "4999  14.112473111236516_40.035790255111706_14.14241...  14.112473  40.035790   \n",
       "5000  14.157388875442493_40.035790255111706_14.14241...  14.157389  40.035790   \n",
       "5001  14.187332718246477_40.035790255111706_14.14241...  14.187333  40.035790   \n",
       "5002  14.157388875442493_40.0507621765137_14.1424169...  14.157389  40.050762   \n",
       "\n",
       "      cluster_lat  cluster_lon    cons_pc     temp country  temp_bin  \\\n",
       "4998    14.142417    40.050762  15.427406  1.88611     eth         0   \n",
       "4999    14.142417    40.050762  15.427406  1.88611     eth         0   \n",
       "5000    14.142417    40.050762  15.427406  1.88611     eth         0   \n",
       "5001    14.142417    40.050762  15.427406  1.88611     eth         0   \n",
       "5002    14.142417    40.050762  15.427406  1.88611     eth         0   \n",
       "\n",
       "      is_train  feat_index  \n",
       "4998     False         539  \n",
       "4999     False         484  \n",
       "5000     False         494  \n",
       "5001     False         967  \n",
       "5002     False        1244  "
      ]
     },
     "execution_count": 79,
     "metadata": {},
     "output_type": "execute_result"
    }
   ],
   "source": [
    "df_consumption.tail()"
   ]
  },
  {
   "cell_type": "code",
   "execution_count": 80,
   "metadata": {},
   "outputs": [
    {
     "data": {
      "image/png": "[encoded data removed]",
      "text/plain": [
       "<Figure size 640x480 with 1 Axes>"
      ]
     },
     "metadata": {},
     "output_type": "display_data"
    }
   ],
   "source": [
    "df_consumption.plot.scatter(x=\"temp_bin\", y=\"feat_index\")\n",
    "x = df_consumption['temp_bin']\n",
    "y = df_consumption['feat_index']\n",
    "plt.plot(np.unique(x), np.poly1d(np.polyfit(x, y, 1))(np.unique(x)))\n",
    "plt.show()"
   ]
  },
  {
   "cell_type": "markdown",
   "metadata": {},
   "source": [
    "## Aggregate Features\n",
    "For each country, we aggregate the image features per cluster and save them to results/country/cnn"
   ]
  },
  {
   "cell_type": "code",
   "execution_count": 81,
   "metadata": {},
   "outputs": [],
   "source": [
    "country_abbrv = ['eth']\n",
    "country_dir = ['ethiopia_2015']\n",
    "\n",
    "for ca, cd in zip(country_abbrv, country_dir):\n",
    "    df_c = df_consumption[df_consumption['country'] == ca]\n",
    "    group = df_c.groupby(['cluster_lat', 'cluster_lon'])\n",
    "    x = np.zeros((len(group), 4096))\n",
    "    cluster_list = [] # the corresponding clusters (lat, lon) to the x aggregate feature array\n",
    "    for i, g in enumerate(group):\n",
    "        lat, lon = g[0]\n",
    "        im_sub = df_consumption[(df_consumption['cluster_lat'] == lat) & (df_consumption['cluster_lon'] == lon)].reset_index(drop=True)\n",
    "        agg_feats = np.zeros((len(im_sub), 4096))\n",
    "        for j, d in im_sub.iterrows():\n",
    "            agg_feats[j,:] = feats[d.feat_index]\n",
    "        agg_feats = agg_feats.mean(axis=0) # averages the features across all images in the cluster\n",
    "\n",
    "        x[i,:] = agg_feats\n",
    "        cluster_list.append([lat, lon])\n",
    "    # save to the correct directory\n",
    "    save_dir = os.path.join(RESULTS_DIR, cd, 'cnn')\n",
    "    os.makedirs(save_dir, exist_ok=True)\n",
    "    np.save(os.path.join(save_dir, 'cluster_feats.npy'), x)\n",
    "    pickle.dump(cluster_list, open(os.path.join(save_dir, 'cluster_order.pkl'), 'wb')) \n",
    "    "
   ]
  },
  {
   "cell_type": "code",
   "execution_count": null,
   "metadata": {},
   "outputs": [],
   "source": []
  }
 ],
 "metadata": {
  "environment": {
   "name": "pytorch-gpu.1-4.m46",
   "type": "gcloud",
   "uri": "gcr.io/deeplearning-platform-release/pytorch-gpu.1-4:m46"
  },
  "kernelspec": {
   "display_name": "pypoverty38",
   "language": "python",
   "name": "pypoverty38"
  },
  "language_info": {
   "codemirror_mode": {
    "name": "ipython",
    "version": 3
   },
   "file_extension": ".py",
   "mimetype": "text/x-python",
   "name": "python",
   "nbconvert_exporter": "python",
   "pygments_lexer": "ipython3",
   "version": "3.8.13"
  }
 },
 "nbformat": 4,
 "nbformat_minor": 2
}
