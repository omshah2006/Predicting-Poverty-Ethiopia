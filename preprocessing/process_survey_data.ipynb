{
 "cells": [
  {
   "cell_type": "markdown",
   "metadata": {},
   "source": [
    "Make sure you download the 2016 Household LSMS survey data for Malawi, Ethiopia, and Nigeria from https://microdata.worldbank.org/index.php/catalog/lsms and put it in `../data/countries/`. Malawi's data should be named `malawi_2016/LSMS`, Ethiopia's should be named `ethiopia_2015/LSMS`, and Nigeria's should be named `nigeria_2015/LSMS`. Nightlights data should be downloaded from https://ngdc.noaa.gov/eog/viirs/download_dnb_composites.html using the annual composite from 2015 in tile 2 and tile 5."
   ]
  },
  {
   "cell_type": "code",
   "execution_count": 1,
   "metadata": {},
   "outputs": [],
   "source": [
    "import pandas as pd\n",
    "import numpy as np\n",
    "import os\n",
    "import geoio\n",
    "import matplotlib.pyplot as plt\n",
    "\n",
    "%matplotlib inline"
   ]
  },
  {
   "cell_type": "code",
   "execution_count": 2,
   "metadata": {},
   "outputs": [],
   "source": [
    "BASE_DIR = '..'\n",
    "\n",
    "COUNTRIES_DIR = os.path.join(BASE_DIR, 'data', 'countries')"
   ]
  },
  {
   "cell_type": "code",
   "execution_count": 3,
   "metadata": {},
   "outputs": [],
   "source": [
    "import sys\n",
    "sys.path.append(BASE_DIR)\n",
    "from utils import create_space"
   ]
  },
  {
   "cell_type": "code",
   "execution_count": 4,
   "metadata": {},
   "outputs": [],
   "source": [
    "'''\n",
    "The goal of each of these functions is to output a dataframe with the following columns:\n",
    "country, cluster_lat, cluster_lon, cons_pc\n",
    "\n",
    "Each row should represent one cluster by combining the household data\n",
    "'''\n",
    "\n",
    "def process_ethiopia():\n",
    "    lsms_dir = os.path.join(COUNTRIES_DIR, 'ethiopia_2015', 'LSMS')\n",
    "    consumption_file = 'Consumption Aggregate/cons_agg_w3.csv'\n",
    "    consumption_pc_col = 'total_cons_ann' # per capita\n",
    "    hhsize_col = 'hh_size' # people in household\n",
    "\n",
    "    harvest_file = 'Post-Harvest/sect12_ph_w3.csv'\n",
    "    harvest_value_col = 'ph_s12q19_f'\n",
    "    \n",
    "    geovariables_file = 'Geovariables/ETH_HouseholdGeovars_y3.csv'\n",
    "    lat_col = 'lat_dd_mod'\n",
    "    lon_col = 'lon_dd_mod'\n",
    "\n",
    "    # purchasing power parity for ethiopia in 2015 (https://data.worldbank.org/indicator/PA.NUS.PRVT.PP?locations=ET)\n",
    "    ppp = 7.882\n",
    "    \n",
    "    for file in [consumption_file, geovariables_file]:\n",
    "        assert os.path.isfile(os.path.join(lsms_dir, file)), print(f'Could not find {file}')\n",
    "    \n",
    "    df_c = pd.read_csv(os.path.join(lsms_dir, consumption_file))\n",
    "    df_c['cons_ph'] = df_c[consumption_pc_col] * df_c[hhsize_col]\n",
    "    df_c['pph'] = df_c[hhsize_col]\n",
    "    df_c['cons_ph'] = df_c['cons_ph'] / ppp / 365\n",
    "    df_c = df_c[['household_id2', 'cons_ph', 'pph']]\n",
    "    \n",
    "    df_h = pd.read_csv(os.path.join(lsms_dir, harvest_file))\n",
    "    df_h['total_hv'] = df_h[harvest_value_col]\n",
    "    df_h = df_h[['household_id2', 'total_hv']]\n",
    "    \n",
    "    df = pd.merge(df_c, df_h, on='household_id2')\n",
    "\n",
    "    df_geo = pd.read_csv(os.path.join(lsms_dir, geovariables_file))\n",
    "    df_cords = df_geo[['household_id2', lat_col, lon_col]]\n",
    "    df_cords.rename(columns={lat_col: 'cluster_lat', lon_col: 'cluster_lon'}, inplace=True)\n",
    "    df_combined = pd.merge(df, df_cords, on='household_id2')\n",
    "    df_combined.drop(['household_id2'], axis=1, inplace=True)\n",
    "    df_combined.dropna(inplace=True) # can't use na values\n",
    "    \n",
    "    df_clusters = df_combined.groupby(['cluster_lat', 'cluster_lon']).sum().reset_index()\n",
    "    df_clusters['cons_pc'] = df_clusters['cons_ph'] / df_clusters['pph'] # divides total cluster income by people\n",
    "    #df_clusters['total_hv'] = df_clusters['total_hv']\n",
    "    df_clusters['country'] = 'eth'\n",
    "    return df_clusters[['country', 'cluster_lat', 'cluster_lon', 'cons_pc', 'total_hv']]"
   ]
  },
  {
   "cell_type": "code",
   "execution_count": 5,
   "metadata": {},
   "outputs": [
    {
     "name": "stderr",
     "output_type": "stream",
     "text": [
      "/root/miniconda3/envs/omtest/lib/python3.7/site-packages/pandas/core/frame.py:5047: SettingWithCopyWarning: \n",
      "A value is trying to be set on a copy of a slice from a DataFrame\n",
      "\n",
      "See the caveats in the documentation: https://pandas.pydata.org/pandas-docs/stable/user_guide/indexing.html#returning-a-view-versus-a-copy\n",
      "  errors=errors,\n"
     ]
    }
   ],
   "source": [
    "df_eth = process_ethiopia()"
   ]
  },
  {
   "cell_type": "code",
   "execution_count": 6,
   "metadata": {},
   "outputs": [
    {
     "data": {
      "text/plain": [
       "(287, 5)"
      ]
     },
     "execution_count": 6,
     "metadata": {},
     "output_type": "execute_result"
    }
   ],
   "source": [
    "df_eth.shape"
   ]
  },
  {
   "cell_type": "code",
   "execution_count": 7,
   "metadata": {},
   "outputs": [
    {
     "data": {
      "text/html": [
       "<div>\n",
       "<style scoped>\n",
       "    .dataframe tbody tr th:only-of-type {\n",
       "        vertical-align: middle;\n",
       "    }\n",
       "\n",
       "    .dataframe tbody tr th {\n",
       "        vertical-align: top;\n",
       "    }\n",
       "\n",
       "    .dataframe thead th {\n",
       "        text-align: right;\n",
       "    }\n",
       "</style>\n",
       "<table border=\"1\" class=\"dataframe\">\n",
       "  <thead>\n",
       "    <tr style=\"text-align: right;\">\n",
       "      <th></th>\n",
       "      <th>country</th>\n",
       "      <th>cluster_lat</th>\n",
       "      <th>cluster_lon</th>\n",
       "      <th>cons_pc</th>\n",
       "      <th>total_hv</th>\n",
       "    </tr>\n",
       "  </thead>\n",
       "  <tbody>\n",
       "    <tr>\n",
       "      <th>0</th>\n",
       "      <td>eth</td>\n",
       "      <td>4.281844</td>\n",
       "      <td>41.875076</td>\n",
       "      <td>21.417653</td>\n",
       "      <td>200</td>\n",
       "    </tr>\n",
       "    <tr>\n",
       "      <th>1</th>\n",
       "      <td>eth</td>\n",
       "      <td>4.807098</td>\n",
       "      <td>36.081840</td>\n",
       "      <td>4.699677</td>\n",
       "      <td>280</td>\n",
       "    </tr>\n",
       "    <tr>\n",
       "      <th>2</th>\n",
       "      <td>eth</td>\n",
       "      <td>4.879055</td>\n",
       "      <td>39.195379</td>\n",
       "      <td>13.086579</td>\n",
       "      <td>490</td>\n",
       "    </tr>\n",
       "    <tr>\n",
       "      <th>3</th>\n",
       "      <td>eth</td>\n",
       "      <td>5.252955</td>\n",
       "      <td>37.427177</td>\n",
       "      <td>3.031409</td>\n",
       "      <td>40</td>\n",
       "    </tr>\n",
       "    <tr>\n",
       "      <th>4</th>\n",
       "      <td>eth</td>\n",
       "      <td>5.299477</td>\n",
       "      <td>37.482618</td>\n",
       "      <td>3.135011</td>\n",
       "      <td>800</td>\n",
       "    </tr>\n",
       "  </tbody>\n",
       "</table>\n",
       "</div>"
      ],
      "text/plain": [
       "  country  cluster_lat  cluster_lon    cons_pc  total_hv\n",
       "0     eth     4.281844    41.875076  21.417653       200\n",
       "1     eth     4.807098    36.081840   4.699677       280\n",
       "2     eth     4.879055    39.195379  13.086579       490\n",
       "3     eth     5.252955    37.427177   3.031409        40\n",
       "4     eth     5.299477    37.482618   3.135011       800"
      ]
     },
     "execution_count": 7,
     "metadata": {},
     "output_type": "execute_result"
    }
   ],
   "source": [
    "df_eth.head()"
   ]
  },
  {
   "cell_type": "code",
   "execution_count": 8,
   "metadata": {},
   "outputs": [
    {
     "data": {
      "text/plain": [
       "630.7839721254355"
      ]
     },
     "execution_count": 8,
     "metadata": {},
     "output_type": "execute_result"
    }
   ],
   "source": [
    "df_eth['total_hv'].mean()"
   ]
  },
  {
   "cell_type": "code",
   "execution_count": 10,
   "metadata": {},
   "outputs": [
    {
     "data": {
      "image/png": "[encoded data removed]",
      "text/plain": [
       "<Figure size 432x288 with 1 Axes>"
      ]
     },
     "metadata": {
      "needs_background": "light"
     },
     "output_type": "display_data"
    }
   ],
   "source": [
    "df_eth.plot.scatter(x=\"total_hv\", y=\"cons_pc\")\n",
    "x = df_eth['total_hv']\n",
    "y = df_eth['cons_pc']\n",
    "plt.plot(np.unique(x), np.poly1d(np.polyfit(x, y, 1))(np.unique(x)))\n",
    "# plt.xlim([0, ])\n",
    "plt.ylim() \n",
    "plt.show()"
   ]
  },
  {
   "cell_type": "code",
   "execution_count": 20,
   "metadata": {},
   "outputs": [
    {
     "data": {
      "text/html": [
       "<div>\n",
       "<style scoped>\n",
       "    .dataframe tbody tr th:only-of-type {\n",
       "        vertical-align: middle;\n",
       "    }\n",
       "\n",
       "    .dataframe tbody tr th {\n",
       "        vertical-align: top;\n",
       "    }\n",
       "\n",
       "    .dataframe thead th {\n",
       "        text-align: right;\n",
       "    }\n",
       "</style>\n",
       "<table border=\"1\" class=\"dataframe\">\n",
       "  <thead>\n",
       "    <tr style=\"text-align: right;\">\n",
       "      <th></th>\n",
       "      <th>cluster_lat</th>\n",
       "      <th>cluster_lon</th>\n",
       "      <th>cons_pc</th>\n",
       "      <th>total_hv</th>\n",
       "    </tr>\n",
       "  </thead>\n",
       "  <tbody>\n",
       "    <tr>\n",
       "      <th>cluster_lat</th>\n",
       "      <td>1.000000</td>\n",
       "      <td>0.170235</td>\n",
       "      <td>-0.023695</td>\n",
       "      <td>0.101218</td>\n",
       "    </tr>\n",
       "    <tr>\n",
       "      <th>cluster_lon</th>\n",
       "      <td>0.170235</td>\n",
       "      <td>1.000000</td>\n",
       "      <td>0.245103</td>\n",
       "      <td>-0.036371</td>\n",
       "    </tr>\n",
       "    <tr>\n",
       "      <th>cons_pc</th>\n",
       "      <td>-0.023695</td>\n",
       "      <td>0.245103</td>\n",
       "      <td>1.000000</td>\n",
       "      <td>0.101549</td>\n",
       "    </tr>\n",
       "    <tr>\n",
       "      <th>total_hv</th>\n",
       "      <td>0.101218</td>\n",
       "      <td>-0.036371</td>\n",
       "      <td>0.101549</td>\n",
       "      <td>1.000000</td>\n",
       "    </tr>\n",
       "  </tbody>\n",
       "</table>\n",
       "</div>"
      ],
      "text/plain": [
       "             cluster_lat  cluster_lon   cons_pc  total_hv\n",
       "cluster_lat     1.000000     0.170235 -0.023695  0.101218\n",
       "cluster_lon     0.170235     1.000000  0.245103 -0.036371\n",
       "cons_pc        -0.023695     0.245103  1.000000  0.101549\n",
       "total_hv        0.101218    -0.036371  0.101549  1.000000"
      ]
     },
     "execution_count": 20,
     "metadata": {},
     "output_type": "execute_result"
    }
   ],
   "source": [
    "df_eth.corr()"
   ]
  },
  {
   "cell_type": "code",
   "execution_count": 73,
   "metadata": {},
   "outputs": [],
   "source": [
    "for country in ['malawi_2016', 'ethiopia_2015', 'nigeria_2015']:\n",
    "    os.makedirs(os.path.join(COUNTRIES_DIR, country, 'processed'), exist_ok=True)"
   ]
  },
  {
   "cell_type": "code",
   "execution_count": 75,
   "metadata": {},
   "outputs": [],
   "source": [
    "df_eth.to_csv(os.path.join(COUNTRIES_DIR, 'ethiopia_2015', 'processed/clusters.csv'), index=False)"
   ]
  }
 ],
 "metadata": {
  "environment": {
   "name": "pytorch-gpu.1-4.m46",
   "type": "gcloud",
   "uri": "gcr.io/deeplearning-platform-release/pytorch-gpu.1-4:m46"
  },
  "kernelspec": {
   "display_name": "pypoverty38",
   "language": "python",
   "name": "pypoverty38"
  },
  "language_info": {
   "codemirror_mode": {
    "name": "ipython",
    "version": 3
   },
   "file_extension": ".py",
   "mimetype": "text/x-python",
   "name": "python",
   "nbconvert_exporter": "python",
   "pygments_lexer": "ipython3",
   "version": "3.8.13"
  }
 },
 "nbformat": 4,
 "nbformat_minor": 2
}
