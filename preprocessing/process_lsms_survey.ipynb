{
 "cells": [
  {
   "cell_type": "code",
   "execution_count": 1,
   "id": "cc6bfd94",
   "metadata": {},
   "outputs": [],
   "source": [
    "# Imports\n",
    "import pandas as pd\n",
    "import numpy as np\n",
    "import os"
   ]
  },
  {
   "cell_type": "code",
   "execution_count": 24,
   "id": "87b3f555",
   "metadata": {},
   "outputs": [],
   "source": [
    "# Directory setup\n",
    "BASE_DIR = \"..\"\n",
    "COUNTRIES_DIR = os.path.join(BASE_DIR, 'data', 'countries')\n",
    "OUTPUT_DIR = \"../data/\""
   ]
  },
  {
   "cell_type": "code",
   "execution_count": 25,
   "id": "42c9d2be",
   "metadata": {},
   "outputs": [],
   "source": [
    "# Countries to process lsms data for\n",
    "countries = [\"eth\"]\n",
    "\n",
    "# Purchasing Power Parity\n",
    "ppp = {\"eth\": 10.74}\n",
    "\n",
    "# LSMS column names\n",
    "survey_cols = [\"household_id\", \"saq14\", \"hh_size\", \"total_cons_ann\"]\n",
    "geo_cols = [\"household_id\", \"lat_mod\", \"lon_mod\"]"
   ]
  },
  {
   "cell_type": "code",
   "execution_count": 26,
   "id": "d65b7d60",
   "metadata": {},
   "outputs": [],
   "source": [
    "def process_survey(country):\n",
    "    consumption_file = country + \"_consumption_lsms_raw.csv\"\n",
    "    geovariables_file = country + \"_householdgeovariables_lsms_raw.csv\"\n",
    "    \n",
    "    df_consumption = pd.read_csv(os.path.join(COUNTRIES_DIR, country, consumption_file))\n",
    "    df_geovars = pd.read_csv(os.path.join(COUNTRIES_DIR, country, geovariables_file))\n",
    "    \n",
    "    df_consumption = df_consumption[survey_cols]\n",
    "    # Calculate per capita daily household consumption: \n",
    "    df_consumption[\"cons_pc\"] = df_consumption[\"total_cons_ann\"] / df_consumption[\"hh_size\"] / ppp[country] / 365 \n",
    "    \n",
    "    df_geovars = df_geovars[geo_cols]\n",
    "    df_merged = pd.merge(df_consumption, df_geovars, on='household_id')\n",
    "    df_merged[\"country\"] = \"ethiopia\"\n",
    "    \n",
    "    # URBAN = 0, RURAL = 1\n",
    "    df_merged[\"saq14\"].replace(['URBAN', 'RURAL'], [0, 1], inplace=True)\n",
    "    df_merged.rename(columns={'saq14': 'density', 'lat_mod': 'lat', 'lon_mod': 'lon', 'cons_pc': 'consumption'}, inplace=True)\n",
    "    return df_merged[[\"country\", \"consumption\", \"density\", \"lat\", \"lon\"]]"
   ]
  },
  {
   "cell_type": "code",
   "execution_count": 34,
   "id": "fe0d1e5e",
   "metadata": {},
   "outputs": [],
   "source": [
    "df_eth = process_survey(countries[0])"
   ]
  },
  {
   "cell_type": "code",
   "execution_count": 35,
   "id": "f11027f8",
   "metadata": {},
   "outputs": [
    {
     "data": {
      "text/plain": [
       "334"
      ]
     },
     "execution_count": 35,
     "metadata": {},
     "output_type": "execute_result"
    }
   ],
   "source": [
    "# Returns total number of NaN values\n",
    "df_eth.isnull().sum().sum()"
   ]
  },
  {
   "cell_type": "code",
   "execution_count": 36,
   "id": "6985c6c7",
   "metadata": {},
   "outputs": [],
   "source": [
    "# Drops any rows with NaN values\n",
    "df_eth = df_eth.dropna()"
   ]
  },
  {
   "cell_type": "code",
   "execution_count": 37,
   "id": "3319756e",
   "metadata": {
    "scrolled": false
   },
   "outputs": [
    {
     "data": {
      "text/html": [
       "<div>\n",
       "<style scoped>\n",
       "    .dataframe tbody tr th:only-of-type {\n",
       "        vertical-align: middle;\n",
       "    }\n",
       "\n",
       "    .dataframe tbody tr th {\n",
       "        vertical-align: top;\n",
       "    }\n",
       "\n",
       "    .dataframe thead th {\n",
       "        text-align: right;\n",
       "    }\n",
       "</style>\n",
       "<table border=\"1\" class=\"dataframe\">\n",
       "  <thead>\n",
       "    <tr style=\"text-align: right;\">\n",
       "      <th></th>\n",
       "      <th>country</th>\n",
       "      <th>consumption</th>\n",
       "      <th>density</th>\n",
       "      <th>lat</th>\n",
       "      <th>lon</th>\n",
       "    </tr>\n",
       "  </thead>\n",
       "  <tbody>\n",
       "    <tr>\n",
       "      <th>0</th>\n",
       "      <td>ethiopia</td>\n",
       "      <td>7.114359</td>\n",
       "      <td>0</td>\n",
       "      <td>13.522697</td>\n",
       "      <td>39.440907</td>\n",
       "    </tr>\n",
       "    <tr>\n",
       "      <th>1</th>\n",
       "      <td>ethiopia</td>\n",
       "      <td>6.933497</td>\n",
       "      <td>1</td>\n",
       "      <td>9.602403</td>\n",
       "      <td>41.866592</td>\n",
       "    </tr>\n",
       "    <tr>\n",
       "      <th>2</th>\n",
       "      <td>ethiopia</td>\n",
       "      <td>7.354854</td>\n",
       "      <td>1</td>\n",
       "      <td>11.294477</td>\n",
       "      <td>36.448727</td>\n",
       "    </tr>\n",
       "    <tr>\n",
       "      <th>3</th>\n",
       "      <td>ethiopia</td>\n",
       "      <td>1.129382</td>\n",
       "      <td>1</td>\n",
       "      <td>9.503581</td>\n",
       "      <td>42.070496</td>\n",
       "    </tr>\n",
       "    <tr>\n",
       "      <th>4</th>\n",
       "      <td>ethiopia</td>\n",
       "      <td>1.924262</td>\n",
       "      <td>1</td>\n",
       "      <td>8.970294</td>\n",
       "      <td>36.525711</td>\n",
       "    </tr>\n",
       "    <tr>\n",
       "      <th>...</th>\n",
       "      <td>...</td>\n",
       "      <td>...</td>\n",
       "      <td>...</td>\n",
       "      <td>...</td>\n",
       "      <td>...</td>\n",
       "    </tr>\n",
       "    <tr>\n",
       "      <th>6675</th>\n",
       "      <td>ethiopia</td>\n",
       "      <td>4.283961</td>\n",
       "      <td>1</td>\n",
       "      <td>9.600062</td>\n",
       "      <td>41.245560</td>\n",
       "    </tr>\n",
       "    <tr>\n",
       "      <th>6676</th>\n",
       "      <td>ethiopia</td>\n",
       "      <td>2.158788</td>\n",
       "      <td>0</td>\n",
       "      <td>9.062462</td>\n",
       "      <td>38.757240</td>\n",
       "    </tr>\n",
       "    <tr>\n",
       "      <th>6677</th>\n",
       "      <td>ethiopia</td>\n",
       "      <td>1.986287</td>\n",
       "      <td>0</td>\n",
       "      <td>10.821666</td>\n",
       "      <td>40.187645</td>\n",
       "    </tr>\n",
       "    <tr>\n",
       "      <th>6678</th>\n",
       "      <td>ethiopia</td>\n",
       "      <td>2.943372</td>\n",
       "      <td>1</td>\n",
       "      <td>11.800598</td>\n",
       "      <td>37.128471</td>\n",
       "    </tr>\n",
       "    <tr>\n",
       "      <th>6679</th>\n",
       "      <td>ethiopia</td>\n",
       "      <td>2.032065</td>\n",
       "      <td>1</td>\n",
       "      <td>13.424566</td>\n",
       "      <td>39.214527</td>\n",
       "    </tr>\n",
       "  </tbody>\n",
       "</table>\n",
       "<p>6513 rows × 5 columns</p>\n",
       "</div>"
      ],
      "text/plain": [
       "       country  consumption  density        lat        lon\n",
       "0     ethiopia     7.114359        0  13.522697  39.440907\n",
       "1     ethiopia     6.933497        1   9.602403  41.866592\n",
       "2     ethiopia     7.354854        1  11.294477  36.448727\n",
       "3     ethiopia     1.129382        1   9.503581  42.070496\n",
       "4     ethiopia     1.924262        1   8.970294  36.525711\n",
       "...        ...          ...      ...        ...        ...\n",
       "6675  ethiopia     4.283961        1   9.600062  41.245560\n",
       "6676  ethiopia     2.158788        0   9.062462  38.757240\n",
       "6677  ethiopia     1.986287        0  10.821666  40.187645\n",
       "6678  ethiopia     2.943372        1  11.800598  37.128471\n",
       "6679  ethiopia     2.032065        1  13.424566  39.214527\n",
       "\n",
       "[6513 rows x 5 columns]"
      ]
     },
     "metadata": {},
     "output_type": "display_data"
    }
   ],
   "source": [
    "display(df_eth)"
   ]
  },
  {
   "cell_type": "code",
   "execution_count": 38,
   "id": "85c207c1",
   "metadata": {},
   "outputs": [
    {
     "data": {
      "text/html": [
       "<div>\n",
       "<style scoped>\n",
       "    .dataframe tbody tr th:only-of-type {\n",
       "        vertical-align: middle;\n",
       "    }\n",
       "\n",
       "    .dataframe tbody tr th {\n",
       "        vertical-align: top;\n",
       "    }\n",
       "\n",
       "    .dataframe thead th {\n",
       "        text-align: right;\n",
       "    }\n",
       "</style>\n",
       "<table border=\"1\" class=\"dataframe\">\n",
       "  <thead>\n",
       "    <tr style=\"text-align: right;\">\n",
       "      <th></th>\n",
       "      <th>country</th>\n",
       "      <th>consumption</th>\n",
       "      <th>density</th>\n",
       "      <th>lat</th>\n",
       "      <th>lon</th>\n",
       "    </tr>\n",
       "  </thead>\n",
       "  <tbody>\n",
       "    <tr>\n",
       "      <th>5499</th>\n",
       "      <td>ethiopia</td>\n",
       "      <td>0.061442</td>\n",
       "      <td>1</td>\n",
       "      <td>14.029943</td>\n",
       "      <td>38.541546</td>\n",
       "    </tr>\n",
       "    <tr>\n",
       "      <th>6368</th>\n",
       "      <td>ethiopia</td>\n",
       "      <td>0.065432</td>\n",
       "      <td>1</td>\n",
       "      <td>14.029943</td>\n",
       "      <td>38.541546</td>\n",
       "    </tr>\n",
       "    <tr>\n",
       "      <th>539</th>\n",
       "      <td>ethiopia</td>\n",
       "      <td>0.112242</td>\n",
       "      <td>1</td>\n",
       "      <td>9.328209</td>\n",
       "      <td>42.142937</td>\n",
       "    </tr>\n",
       "    <tr>\n",
       "      <th>297</th>\n",
       "      <td>ethiopia</td>\n",
       "      <td>0.123466</td>\n",
       "      <td>1</td>\n",
       "      <td>7.879094</td>\n",
       "      <td>37.580292</td>\n",
       "    </tr>\n",
       "    <tr>\n",
       "      <th>2583</th>\n",
       "      <td>ethiopia</td>\n",
       "      <td>0.214926</td>\n",
       "      <td>1</td>\n",
       "      <td>6.375622</td>\n",
       "      <td>42.246292</td>\n",
       "    </tr>\n",
       "    <tr>\n",
       "      <th>...</th>\n",
       "      <td>...</td>\n",
       "      <td>...</td>\n",
       "      <td>...</td>\n",
       "      <td>...</td>\n",
       "      <td>...</td>\n",
       "    </tr>\n",
       "    <tr>\n",
       "      <th>3059</th>\n",
       "      <td>ethiopia</td>\n",
       "      <td>48.304890</td>\n",
       "      <td>0</td>\n",
       "      <td>8.968655</td>\n",
       "      <td>38.755150</td>\n",
       "    </tr>\n",
       "    <tr>\n",
       "      <th>4166</th>\n",
       "      <td>ethiopia</td>\n",
       "      <td>51.741537</td>\n",
       "      <td>0</td>\n",
       "      <td>8.978013</td>\n",
       "      <td>40.152702</td>\n",
       "    </tr>\n",
       "    <tr>\n",
       "      <th>1750</th>\n",
       "      <td>ethiopia</td>\n",
       "      <td>55.944543</td>\n",
       "      <td>0</td>\n",
       "      <td>13.490549</td>\n",
       "      <td>39.473690</td>\n",
       "    </tr>\n",
       "    <tr>\n",
       "      <th>1014</th>\n",
       "      <td>ethiopia</td>\n",
       "      <td>58.324226</td>\n",
       "      <td>0</td>\n",
       "      <td>8.987993</td>\n",
       "      <td>38.758446</td>\n",
       "    </tr>\n",
       "    <tr>\n",
       "      <th>5517</th>\n",
       "      <td>ethiopia</td>\n",
       "      <td>98.604962</td>\n",
       "      <td>0</td>\n",
       "      <td>9.346658</td>\n",
       "      <td>42.075893</td>\n",
       "    </tr>\n",
       "  </tbody>\n",
       "</table>\n",
       "<p>6513 rows × 5 columns</p>\n",
       "</div>"
      ],
      "text/plain": [
       "       country  consumption  density        lat        lon\n",
       "5499  ethiopia     0.061442        1  14.029943  38.541546\n",
       "6368  ethiopia     0.065432        1  14.029943  38.541546\n",
       "539   ethiopia     0.112242        1   9.328209  42.142937\n",
       "297   ethiopia     0.123466        1   7.879094  37.580292\n",
       "2583  ethiopia     0.214926        1   6.375622  42.246292\n",
       "...        ...          ...      ...        ...        ...\n",
       "3059  ethiopia    48.304890        0   8.968655  38.755150\n",
       "4166  ethiopia    51.741537        0   8.978013  40.152702\n",
       "1750  ethiopia    55.944543        0  13.490549  39.473690\n",
       "1014  ethiopia    58.324226        0   8.987993  38.758446\n",
       "5517  ethiopia    98.604962        0   9.346658  42.075893\n",
       "\n",
       "[6513 rows x 5 columns]"
      ]
     },
     "metadata": {},
     "output_type": "display_data"
    }
   ],
   "source": [
    "df_eth = df_eth.sort_values('consumption')\n",
    "display(df_eth)"
   ]
  },
  {
   "cell_type": "code",
   "execution_count": 22,
   "id": "858e2557",
   "metadata": {},
   "outputs": [
    {
     "name": "stdout",
     "output_type": "stream",
     "text": [
      "       country  consumption  density        lat        lon\n",
      "5499  ethiopia     0.061442        1  14.029943  38.541546\n",
      "6368  ethiopia     0.065432        1  14.029943  38.541546\n",
      "539   ethiopia     0.112242        1   9.328209  42.142937\n",
      "297   ethiopia     0.123466        1   7.879094  37.580292\n",
      "2583  ethiopia     0.214926        1   6.375622  42.246292\n",
      "...        ...          ...      ...        ...        ...\n",
      "3059  ethiopia    48.304890        0   8.968655  38.755150\n",
      "4166  ethiopia    51.741537        0   8.978013  40.152702\n",
      "1750  ethiopia    55.944543        0  13.490549  39.473690\n",
      "1014  ethiopia    58.324226        0   8.987993  38.758446\n",
      "5517  ethiopia    98.604962        0   9.346658  42.075893\n",
      "\n",
      "[6513 rows x 5 columns]\n",
      "Mean: 4.64419991542738\n",
      "STD: 4.717155116197405\n",
      "Distribution of consumption:\n"
     ]
    },
    {
     "data": {
      "text/plain": [
       "<AxesSubplot: ylabel='Frequency'>"
      ]
     },
     "execution_count": 22,
     "metadata": {},
     "output_type": "execute_result"
    },
    {
     "data": {
      "image/png": "[encoded data removed]",
      "text/plain": [
       "<Figure size 640x480 with 1 Axes>"
      ]
     },
     "metadata": {},
     "output_type": "display_data"
    }
   ],
   "source": [
    "consumption = df_eth['consumption'].values.tolist()\n",
    "\n",
    "print(df_eth)\n",
    "\n",
    "print(f'Mean: {np.mean(consumption)}')\n",
    "print(f'STD: {np.std(consumption)}')\n",
    "print(f'Distribution of consumption:')\n",
    "df_eth['consumption'].plot(kind='hist')"
   ]
  },
  {
   "cell_type": "code",
   "execution_count": 20,
   "id": "98319442",
   "metadata": {},
   "outputs": [],
   "source": [
    "df_eth.to_csv(os.path.join(OUTPUT_DIR, 'lsms_clusters.csv'), index=False)"
   ]
  },
  {
   "cell_type": "code",
   "execution_count": null,
   "id": "9d9b59ef",
   "metadata": {},
   "outputs": [],
   "source": []
  }
 ],
 "metadata": {
  "kernelspec": {
   "display_name": "pypoverty38",
   "language": "python",
   "name": "pypoverty38"
  },
  "language_info": {
   "codemirror_mode": {
    "name": "ipython",
    "version": 3
   },
   "file_extension": ".py",
   "mimetype": "text/x-python",
   "name": "python",
   "nbconvert_exporter": "python",
   "pygments_lexer": "ipython3",
   "version": "3.8.15"
  }
 },
 "nbformat": 4,
 "nbformat_minor": 5
}
