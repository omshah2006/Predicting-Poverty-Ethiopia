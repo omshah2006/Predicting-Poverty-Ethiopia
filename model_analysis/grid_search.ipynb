{
 "cells": [
  {
   "cell_type": "code",
   "execution_count": 1,
   "id": "2979e2f9",
   "metadata": {},
   "outputs": [],
   "source": [
    "%load_ext autoreload\n",
    "%autoreload 2"
   ]
  },
  {
   "cell_type": "code",
   "execution_count": 2,
   "id": "9718f39a",
   "metadata": {},
   "outputs": [],
   "source": [
    "import tensorflow as tf\n",
    "import numpy as np\n",
    "import pandas as pd\n",
    "from scipy.stats import pearsonr\n",
    "import matplotlib.pyplot as plt\n",
    "%matplotlib inline"
   ]
  },
  {
   "cell_type": "code",
   "execution_count": 3,
   "id": "0bc4a1fc",
   "metadata": {},
   "outputs": [],
   "source": [
    "import sys\n",
    "sys.path.append('..')\n",
    "from dataset import batcher"
   ]
  },
  {
   "cell_type": "code",
   "execution_count": 36,
   "id": "5fa6bb11",
   "metadata": {},
   "outputs": [],
   "source": [
    "MODEL_DIR = '../saved_models/grid_search/'\n",
    "LOSS = 'MeanSquaredError'\n",
    "METRICS = ['RootMeanSquaredError']\n",
    "# COUNTRIES = ['ethiopia-2018', 'nigeria-2018', 'malawi-2016']\n",
    "COUNTRIES = ['ethiopia-2018', 'pollution-2018']"
   ]
  },
  {
   "cell_type": "code",
   "execution_count": 31,
   "id": "5bc12bc1",
   "metadata": {},
   "outputs": [],
   "source": [
    "# Get test split\n",
    "bands = ['BLUE', 'GREEN', 'RED', 'NIR', 'SW_IR1', 'SW_IR2', 'TEMP', 'VIIRS', 'DELTA_TEMP', 'CO']\n",
    "# bands = ['VIIRS']\n",
    "def batch(country_year):\n",
    "    test_batcher = batcher.Batcher(bands, country_year=country_year, bucket=False, shuffle=False, split='custom', repeat=1, batch_size=3000).get_dataset()\n",
    "    x_true = []\n",
    "    y_true = []\n",
    "    for x, y in test_batcher:\n",
    "        x_true.append(x)\n",
    "        y_true.append(y)\n",
    "\n",
    "    y_true = np.squeeze(y_true)\n",
    "    return x_true, y_true"
   ]
  },
  {
   "cell_type": "code",
   "execution_count": 32,
   "id": "0c6bda34",
   "metadata": {},
   "outputs": [],
   "source": [
    "# Load model\n",
    "def load_model_from_dir(model_name):\n",
    "    model_path = MODEL_DIR + model_name + '.h5'\n",
    "    model = tf.keras.models.load_model(model_path, compile=False)\n",
    "    \n",
    "    return model"
   ]
  },
  {
   "cell_type": "code",
   "execution_count": 33,
   "id": "3e6c4ac6",
   "metadata": {},
   "outputs": [],
   "source": [
    "# Testing purposes only\n",
    "# grid_search_results = pd.DataFrame(columns=['experiment', 'epoch', 'learning_rate', 'r2'])\n",
    "# results = {'experiment': \"imagery_sample_cnn_regression_0.01_40\", 'epoch': 50, 'learning_rate': 1e-2, 'r2': 0.23}\n",
    "# grid_search_results = grid_search_results.append(results, ignore_index = True)\n",
    "# display(grid_search_results)"
   ]
  },
  {
   "cell_type": "code",
   "execution_count": 37,
   "id": "f712bf7e",
   "metadata": {},
   "outputs": [],
   "source": [
    "# Hyperparamters tested\n",
    "lrs = [1e-1, 1e-2, 1e-3, 1e-4]\n",
    "# epochs = [10, 50, 100, 200]\n",
    "models = ['sample_cnn', 'deep_sample_cnn']\n",
    "\n",
    "def run_grid_search(country_year):\n",
    "    grid_search_results = pd.DataFrame(columns=['experiment', 'model', 'learning_rate', 'r2'])\n",
    "    x_true, y_true = batch(country_year)\n",
    "\n",
    "    for m in models:\n",
    "        for l in lrs:\n",
    "            experiment_name='imagery_' + m + '_regression' + '_' + str(l)\n",
    "\n",
    "            # Set hyperparamters\n",
    "            lr_rate = l\n",
    "            opt = tf.keras.optimizers.Adam(learning_rate=lr_rate)\n",
    "\n",
    "            # Get consumption predictions\n",
    "            trained_model = load_model_from_dir(experiment_name)\n",
    "            trained_model.compile(\n",
    "                        loss=LOSS,\n",
    "                        optimizer=opt,\n",
    "                        metrics=METRICS,\n",
    "            )\n",
    "\n",
    "            y_preds = trained_model.predict_on_batch(x_true)\n",
    "            y_preds = np.squeeze(y_preds)\n",
    "            r2 = pearsonr(y_true, y_preds)[0]\n",
    "\n",
    "            results = {'experiment': experiment_name, 'model': m, 'learning_rate': l, 'r2': r2}\n",
    "            grid_search_results = grid_search_results.append(results, ignore_index = True)\n",
    "            \n",
    "    return grid_search_results\n"
   ]
  },
  {
   "cell_type": "code",
   "execution_count": 38,
   "id": "f4a19e17",
   "metadata": {},
   "outputs": [
    {
     "name": "stderr",
     "output_type": "stream",
     "text": [
      "2023-02-23 10:52:13.820828: I tensorflow/core/grappler/optimizers/custom_graph_optimizer_registry.cc:114] Plugin optimizer for device_type GPU is enabled.\n",
      "/var/folders/yw/3z56n_vx4vq9g05qrxzrr4m40000gn/T/ipykernel_7792/128539193.py:31: FutureWarning: The frame.append method is deprecated and will be removed from pandas in a future version. Use pandas.concat instead.\n",
      "  grid_search_results = grid_search_results.append(results, ignore_index = True)\n",
      "2023-02-23 10:52:17.323798: I tensorflow/core/grappler/optimizers/custom_graph_optimizer_registry.cc:114] Plugin optimizer for device_type GPU is enabled.\n",
      "/var/folders/yw/3z56n_vx4vq9g05qrxzrr4m40000gn/T/ipykernel_7792/128539193.py:31: FutureWarning: The frame.append method is deprecated and will be removed from pandas in a future version. Use pandas.concat instead.\n",
      "  grid_search_results = grid_search_results.append(results, ignore_index = True)\n",
      "2023-02-23 10:52:20.559369: I tensorflow/core/grappler/optimizers/custom_graph_optimizer_registry.cc:114] Plugin optimizer for device_type GPU is enabled.\n",
      "/var/folders/yw/3z56n_vx4vq9g05qrxzrr4m40000gn/T/ipykernel_7792/128539193.py:31: FutureWarning: The frame.append method is deprecated and will be removed from pandas in a future version. Use pandas.concat instead.\n",
      "  grid_search_results = grid_search_results.append(results, ignore_index = True)\n",
      "2023-02-23 10:52:23.592506: I tensorflow/core/grappler/optimizers/custom_graph_optimizer_registry.cc:114] Plugin optimizer for device_type GPU is enabled.\n",
      "/var/folders/yw/3z56n_vx4vq9g05qrxzrr4m40000gn/T/ipykernel_7792/128539193.py:31: FutureWarning: The frame.append method is deprecated and will be removed from pandas in a future version. Use pandas.concat instead.\n",
      "  grid_search_results = grid_search_results.append(results, ignore_index = True)\n",
      "2023-02-23 10:52:26.766221: I tensorflow/core/grappler/optimizers/custom_graph_optimizer_registry.cc:114] Plugin optimizer for device_type GPU is enabled.\n",
      "/var/folders/yw/3z56n_vx4vq9g05qrxzrr4m40000gn/T/ipykernel_7792/128539193.py:31: FutureWarning: The frame.append method is deprecated and will be removed from pandas in a future version. Use pandas.concat instead.\n",
      "  grid_search_results = grid_search_results.append(results, ignore_index = True)\n",
      "2023-02-23 10:52:30.125343: I tensorflow/core/grappler/optimizers/custom_graph_optimizer_registry.cc:114] Plugin optimizer for device_type GPU is enabled.\n",
      "/var/folders/yw/3z56n_vx4vq9g05qrxzrr4m40000gn/T/ipykernel_7792/128539193.py:31: FutureWarning: The frame.append method is deprecated and will be removed from pandas in a future version. Use pandas.concat instead.\n",
      "  grid_search_results = grid_search_results.append(results, ignore_index = True)\n",
      "2023-02-23 10:52:33.495387: I tensorflow/core/grappler/optimizers/custom_graph_optimizer_registry.cc:114] Plugin optimizer for device_type GPU is enabled.\n",
      "/var/folders/yw/3z56n_vx4vq9g05qrxzrr4m40000gn/T/ipykernel_7792/128539193.py:31: FutureWarning: The frame.append method is deprecated and will be removed from pandas in a future version. Use pandas.concat instead.\n",
      "  grid_search_results = grid_search_results.append(results, ignore_index = True)\n",
      "2023-02-23 10:52:36.914695: I tensorflow/core/grappler/optimizers/custom_graph_optimizer_registry.cc:114] Plugin optimizer for device_type GPU is enabled.\n",
      "/var/folders/yw/3z56n_vx4vq9g05qrxzrr4m40000gn/T/ipykernel_7792/128539193.py:31: FutureWarning: The frame.append method is deprecated and will be removed from pandas in a future version. Use pandas.concat instead.\n",
      "  grid_search_results = grid_search_results.append(results, ignore_index = True)\n"
     ]
    },
    {
     "name": "stdout",
     "output_type": "stream",
     "text": [
      "ethiopia-2018:\n",
      "                                  experiment            model  learning_rate  \\\n",
      "7  imagery_deep_sample_cnn_regression_0.0001  deep_sample_cnn         0.0001   \n",
      "2        imagery_sample_cnn_regression_0.001       sample_cnn         0.0010   \n",
      "4     imagery_deep_sample_cnn_regression_0.1  deep_sample_cnn         0.1000   \n",
      "1         imagery_sample_cnn_regression_0.01       sample_cnn         0.0100   \n",
      "5    imagery_deep_sample_cnn_regression_0.01  deep_sample_cnn         0.0100   \n",
      "6   imagery_deep_sample_cnn_regression_0.001  deep_sample_cnn         0.0010   \n",
      "0          imagery_sample_cnn_regression_0.1       sample_cnn         0.1000   \n",
      "3       imagery_sample_cnn_regression_0.0001       sample_cnn         0.0001   \n",
      "\n",
      "         r2  \n",
      "7 -0.047942  \n",
      "2 -0.017220  \n",
      "4 -0.016994  \n",
      "1  0.021644  \n",
      "5  0.044883  \n",
      "6  0.050797  \n",
      "0  0.058763  \n",
      "3  0.082905  \n"
     ]
    },
    {
     "name": "stderr",
     "output_type": "stream",
     "text": [
      "2023-02-23 10:52:43.220647: I tensorflow/core/grappler/optimizers/custom_graph_optimizer_registry.cc:114] Plugin optimizer for device_type GPU is enabled.\n",
      "/var/folders/yw/3z56n_vx4vq9g05qrxzrr4m40000gn/T/ipykernel_7792/128539193.py:31: FutureWarning: The frame.append method is deprecated and will be removed from pandas in a future version. Use pandas.concat instead.\n",
      "  grid_search_results = grid_search_results.append(results, ignore_index = True)\n",
      "2023-02-23 10:52:46.510942: I tensorflow/core/grappler/optimizers/custom_graph_optimizer_registry.cc:114] Plugin optimizer for device_type GPU is enabled.\n",
      "/var/folders/yw/3z56n_vx4vq9g05qrxzrr4m40000gn/T/ipykernel_7792/128539193.py:31: FutureWarning: The frame.append method is deprecated and will be removed from pandas in a future version. Use pandas.concat instead.\n",
      "  grid_search_results = grid_search_results.append(results, ignore_index = True)\n",
      "2023-02-23 10:52:49.674150: I tensorflow/core/grappler/optimizers/custom_graph_optimizer_registry.cc:114] Plugin optimizer for device_type GPU is enabled.\n",
      "/var/folders/yw/3z56n_vx4vq9g05qrxzrr4m40000gn/T/ipykernel_7792/128539193.py:31: FutureWarning: The frame.append method is deprecated and will be removed from pandas in a future version. Use pandas.concat instead.\n",
      "  grid_search_results = grid_search_results.append(results, ignore_index = True)\n",
      "2023-02-23 10:52:53.590457: I tensorflow/core/grappler/optimizers/custom_graph_optimizer_registry.cc:114] Plugin optimizer for device_type GPU is enabled.\n",
      "/var/folders/yw/3z56n_vx4vq9g05qrxzrr4m40000gn/T/ipykernel_7792/128539193.py:31: FutureWarning: The frame.append method is deprecated and will be removed from pandas in a future version. Use pandas.concat instead.\n",
      "  grid_search_results = grid_search_results.append(results, ignore_index = True)\n",
      "2023-02-23 10:52:56.660578: I tensorflow/core/grappler/optimizers/custom_graph_optimizer_registry.cc:114] Plugin optimizer for device_type GPU is enabled.\n",
      "/var/folders/yw/3z56n_vx4vq9g05qrxzrr4m40000gn/T/ipykernel_7792/128539193.py:31: FutureWarning: The frame.append method is deprecated and will be removed from pandas in a future version. Use pandas.concat instead.\n",
      "  grid_search_results = grid_search_results.append(results, ignore_index = True)\n",
      "2023-02-23 10:53:00.020824: I tensorflow/core/grappler/optimizers/custom_graph_optimizer_registry.cc:114] Plugin optimizer for device_type GPU is enabled.\n",
      "/var/folders/yw/3z56n_vx4vq9g05qrxzrr4m40000gn/T/ipykernel_7792/128539193.py:31: FutureWarning: The frame.append method is deprecated and will be removed from pandas in a future version. Use pandas.concat instead.\n",
      "  grid_search_results = grid_search_results.append(results, ignore_index = True)\n",
      "2023-02-23 10:53:03.324137: I tensorflow/core/grappler/optimizers/custom_graph_optimizer_registry.cc:114] Plugin optimizer for device_type GPU is enabled.\n",
      "/var/folders/yw/3z56n_vx4vq9g05qrxzrr4m40000gn/T/ipykernel_7792/128539193.py:31: FutureWarning: The frame.append method is deprecated and will be removed from pandas in a future version. Use pandas.concat instead.\n",
      "  grid_search_results = grid_search_results.append(results, ignore_index = True)\n",
      "2023-02-23 10:53:06.669947: I tensorflow/core/grappler/optimizers/custom_graph_optimizer_registry.cc:114] Plugin optimizer for device_type GPU is enabled.\n"
     ]
    },
    {
     "name": "stdout",
     "output_type": "stream",
     "text": [
      "pollution-2018:\n",
      "                                  experiment            model  learning_rate  \\\n",
      "2        imagery_sample_cnn_regression_0.001       sample_cnn         0.0010   \n",
      "7  imagery_deep_sample_cnn_regression_0.0001  deep_sample_cnn         0.0001   \n",
      "4     imagery_deep_sample_cnn_regression_0.1  deep_sample_cnn         0.1000   \n",
      "0          imagery_sample_cnn_regression_0.1       sample_cnn         0.1000   \n",
      "6   imagery_deep_sample_cnn_regression_0.001  deep_sample_cnn         0.0010   \n",
      "5    imagery_deep_sample_cnn_regression_0.01  deep_sample_cnn         0.0100   \n",
      "3       imagery_sample_cnn_regression_0.0001       sample_cnn         0.0001   \n",
      "1         imagery_sample_cnn_regression_0.01       sample_cnn         0.0100   \n",
      "\n",
      "         r2  \n",
      "2 -0.081229  \n",
      "7 -0.071906  \n",
      "4 -0.058509  \n",
      "0 -0.011386  \n",
      "6  0.006295  \n",
      "5  0.010773  \n",
      "3  0.028033  \n",
      "1  0.040370  \n"
     ]
    },
    {
     "name": "stderr",
     "output_type": "stream",
     "text": [
      "/var/folders/yw/3z56n_vx4vq9g05qrxzrr4m40000gn/T/ipykernel_7792/128539193.py:31: FutureWarning: The frame.append method is deprecated and will be removed from pandas in a future version. Use pandas.concat instead.\n",
      "  grid_search_results = grid_search_results.append(results, ignore_index = True)\n"
     ]
    }
   ],
   "source": [
    "for country_year in COUNTRIES:  \n",
    "    country_grid_search_results = run_grid_search(country_year)\n",
    "    print(f'{country_year}:')\n",
    "    print(country_grid_search_results.sort_values(by=['r2']))"
   ]
  },
  {
   "cell_type": "code",
   "execution_count": null,
   "id": "1191413c",
   "metadata": {},
   "outputs": [],
   "source": [
    "\"\"\"\n",
    "Results:\n",
    "\n",
    "\"\"\""
   ]
  }
 ],
 "metadata": {
  "kernelspec": {
   "display_name": "pypoverty38",
   "language": "python",
   "name": "pypoverty38"
  },
  "language_info": {
   "codemirror_mode": {
    "name": "ipython",
    "version": 3
   },
   "file_extension": ".py",
   "mimetype": "text/x-python",
   "name": "python",
   "nbconvert_exporter": "python",
   "pygments_lexer": "ipython3",
   "version": "3.8.15"
  }
 },
 "nbformat": 4,
 "nbformat_minor": 5
}
