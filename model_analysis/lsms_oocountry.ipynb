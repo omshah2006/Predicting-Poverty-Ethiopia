{
 "cells": [
  {
   "cell_type": "code",
   "execution_count": 2,
   "id": "3456b127",
   "metadata": {},
   "outputs": [],
   "source": [
    "%load_ext autoreload\n",
    "%autoreload 2"
   ]
  },
  {
   "cell_type": "code",
   "execution_count": 3,
   "id": "9718f39a",
   "metadata": {},
   "outputs": [],
   "source": [
    "import tensorflow as tf\n",
    "import numpy as np\n",
    "from scipy.stats import pearsonr\n",
    "import matplotlib.pyplot as plt\n",
    "%matplotlib inline"
   ]
  },
  {
   "cell_type": "code",
   "execution_count": 4,
   "id": "0bc4a1fc",
   "metadata": {},
   "outputs": [],
   "source": [
    "import sys\n",
    "sys.path.append('..')\n",
    "from dataset import batcher"
   ]
  },
  {
   "cell_type": "code",
   "execution_count": 187,
   "id": "5fa6bb11",
   "metadata": {},
   "outputs": [],
   "source": [
    "MODEL_DIR = '../saved_models/'\n",
    "LR_RATE = 0.0001\n",
    "OPT = tf.keras.optimizers.Adam(learning_rate=LR_RATE)\n",
    "LOSS = 'MeanSquaredError'\n",
    "METRICS = ['RootMeanSquaredError']"
   ]
  },
  {
   "cell_type": "code",
   "execution_count": 197,
   "id": "5bc12bc1",
   "metadata": {},
   "outputs": [
    {
     "name": "stdout",
     "output_type": "stream",
     "text": [
      "(1, 652, 224, 224, 10)\n"
     ]
    }
   ],
   "source": [
    "# Get test split\n",
    "# bands = ['BLUE', 'GREEN', 'RED', 'NIR', 'SW_IR1', 'SW_IR2', 'TEMP', 'VIIRS']\n",
    "bands = ['BLUE', 'GREEN', 'RED', 'NIR', 'SW_IR1', 'SW_IR2', 'TEMP', 'VIIRS', 'DELTA_TEMP', 'CO']\n",
    "test_batcher = batcher.Batcher(bands, country_year='nigeria-2018', bucket=False, shuffle=False, split='custom', repeat=1, batch_size=3511).get_dataset()\n",
    "x_true = []\n",
    "y_true = []\n",
    "for x, y in test_batcher:\n",
    "    x_true.append(x)\n",
    "    y_true.append(y)\n",
    "\n",
    "print(np.shape(x_true))"
   ]
  },
  {
   "cell_type": "code",
   "execution_count": 198,
   "id": "0c6bda34",
   "metadata": {},
   "outputs": [],
   "source": [
    "# Load model\n",
    "experiments = ['imagery_sample_cnn_regression_GS_ALL']\n",
    "\n",
    "def load_model_from_dir(model_name):\n",
    "    model_path = MODEL_DIR + model_name + '.h5'\n",
    "    model = tf.keras.models.load_model(model_path, compile=False)\n",
    "    \n",
    "    return model"
   ]
  },
  {
   "cell_type": "code",
   "execution_count": null,
   "id": "58e819da",
   "metadata": {},
   "outputs": [
    {
     "name": "stderr",
     "output_type": "stream",
     "text": [
      "2023-02-25 19:18:13.614373: I tensorflow/core/grappler/optimizers/custom_graph_optimizer_registry.cc:114] Plugin optimizer for device_type GPU is enabled.\n"
     ]
    },
    {
     "name": "stdout",
     "output_type": "stream",
     "text": [
      " 6/21 [=======>......................] - ETA: 2s"
     ]
    }
   ],
   "source": [
    "# Get consumption predictions\n",
    "trained_model = load_model_from_dir(experiments[0])\n",
    "trained_model.compile(\n",
    "    loss=LOSS,\n",
    "    optimizer=OPT,\n",
    "    metrics=METRICS,\n",
    ")\n",
    "\n",
    "y_preds = trained_model.predict(x_true)\n",
    "print(y_preds)"
   ]
  },
  {
   "cell_type": "code",
   "execution_count": null,
   "id": "0f8f633a",
   "metadata": {},
   "outputs": [],
   "source": [
    "# Find r-squared\n",
    "y_true = np.squeeze(y_true)\n",
    "y_preds = np.squeeze(y_preds)\n",
    "\n",
    "# Plot histograms\n",
    "fig, ax = plt.subplots(figsize =(10, 7))\n",
    "ax.hist(y_true, bins = 100)\n",
    "plt.show()\n",
    "\n",
    "fig, ax = plt.subplots(figsize =(10, 7))\n",
    "ax.hist(y_preds, bins = 100)\n",
    "plt.show()\n",
    "\n",
    "y_true = 2 * ((y_true - min(y_true)) / (max(y_true) - min(y_true))) - 1\n",
    "y_preds =2 * ((y_preds - min(y_preds)) / (max(y_preds) - min(y_preds))) - 1\n",
    "\n",
    "\n",
    "r2 = pearsonr(y_true, y_preds)[0]"
   ]
  },
  {
   "cell_type": "code",
   "execution_count": null,
   "id": "11edc123",
   "metadata": {},
   "outputs": [],
   "source": [
    "# Plot predictions\n",
    "country = 'Malawi'\n",
    "fig = plt.figure(figsize=(8,5))\n",
    "plt.scatter(y_true, y_preds, alpha=0.6)\n",
    "plt.plot(np.unique(y_true), np.poly1d(np.polyfit(y_true, y_preds, 1))(np.unique(y_true)), color='red')\n",
    "plt.text(0.5, 0.5, f'r^2={round(r2, 2)}', ha='left', va='top', size=12, transform=ax.transAxes)\n",
    "plt.xlabel('Actual Consumption per Capita ($/day)', fontsize=15)\n",
    "plt.ylabel('Predicted Consumption per Capita ($/day)', fontsize=15)\n",
    "plt.title(f'{country} Cross Validation Results', fontsize=20)\n",
    "# plt.xlim([np.min(y_true), 10])\n",
    "# plt.ylim([np.min(y_true), 10])\n",
    "plt.show()"
   ]
  },
  {
   "cell_type": "code",
   "execution_count": null,
   "id": "4fb03ec4",
   "metadata": {},
   "outputs": [],
   "source": []
  }
 ],
 "metadata": {
  "kernelspec": {
   "display_name": "pypoverty38",
   "language": "python",
   "name": "pypoverty38"
  },
  "language_info": {
   "codemirror_mode": {
    "name": "ipython",
    "version": 3
   },
   "file_extension": ".py",
   "mimetype": "text/x-python",
   "name": "python",
   "nbconvert_exporter": "python",
   "pygments_lexer": "ipython3",
   "version": "3.8.15"
  }
 },
 "nbformat": 4,
 "nbformat_minor": 5
}
