{
 "cells": [
  {
   "cell_type": "code",
   "execution_count": 29,
   "id": "e0bad302",
   "metadata": {},
   "outputs": [
    {
     "name": "stdout",
     "output_type": "stream",
     "text": [
      "The autoreload extension is already loaded. To reload it, use:\n",
      "  %reload_ext autoreload\n"
     ]
    }
   ],
   "source": [
    "%load_ext autoreload\n",
    "%autoreload 2"
   ]
  },
  {
   "cell_type": "code",
   "execution_count": 87,
   "id": "885b1b94",
   "metadata": {},
   "outputs": [],
   "source": [
    "# Imports\n",
    "import ee\n",
    "import pandas as pd\n",
    "import gee_utils\n",
    "import numpy as np\n",
    "\n",
    "import math"
   ]
  },
  {
   "cell_type": "code",
   "execution_count": 10,
   "id": "9befaf21",
   "metadata": {},
   "outputs": [
    {
     "data": {
      "text/html": [
       "<p>To authorize access needed by Earth Engine, open the following\n",
       "        URL in a web browser and follow the instructions:</p>\n",
       "        <p><a href=https://code.earthengine.google.com/client-auth?scopes=https%3A//www.googleapis.com/auth/earthengine%20https%3A//www.googleapis.com/auth/devstorage.full_control&request_id=jdyoSoeiqdFihON9tjODoTRHq9LxB_06bMVrzst8PR4&tc=02rjMqsrEGVT7hfWWD-LMUIbZAUdeA2aX14hgYsJhzo&cc=4KQfI1YabthmJ37WtxHGEn7i1xi2dOjY2zq4_zFb7Kc>https://code.earthengine.google.com/client-auth?scopes=https%3A//www.googleapis.com/auth/earthengine%20https%3A//www.googleapis.com/auth/devstorage.full_control&request_id=jdyoSoeiqdFihON9tjODoTRHq9LxB_06bMVrzst8PR4&tc=02rjMqsrEGVT7hfWWD-LMUIbZAUdeA2aX14hgYsJhzo&cc=4KQfI1YabthmJ37WtxHGEn7i1xi2dOjY2zq4_zFb7Kc</a></p>\n",
       "        <p>The authorization workflow will generate a code, which you should paste in the box below.</p>\n",
       "        "
      ],
      "text/plain": [
       "<IPython.core.display.HTML object>"
      ]
     },
     "metadata": {},
     "output_type": "display_data"
    },
    {
     "name": "stdout",
     "output_type": "stream",
     "text": [
      "Enter verification code: 4/1AWtgzh6VjkptUy4T_7CNL7KGxZfpg2hxvbFLNtAyxRhkLKsDC8Aqi1qXH30\n",
      "\n",
      "Successfully saved authorization token.\n"
     ]
    }
   ],
   "source": [
    "# Trigger the authentication flow.\n",
    "ee.Authenticate()"
   ]
  },
  {
   "cell_type": "code",
   "execution_count": 60,
   "id": "aa6c8cac",
   "metadata": {},
   "outputs": [],
   "source": [
    "# Initialize the library.\n",
    "ee.Initialize()"
   ]
  },
  {
   "cell_type": "code",
   "execution_count": 84,
   "id": "ca2dc0f2",
   "metadata": {},
   "outputs": [],
   "source": [
    "# Export parameters\n",
    "EXPORT = 'drive'\n",
    "BUCKET = None\n",
    "\n",
    "# Directory setup\n",
    "LSMS_EXPORT_FOLDER = 'pollution_lsms_tfrecords_raw'\n",
    "LSMS_CSV_PATH = '../data/pollution_lsms_clusters.csv'"
   ]
  },
  {
   "cell_type": "code",
   "execution_count": 85,
   "id": "339cc5e7",
   "metadata": {},
   "outputs": [
    {
     "name": "stdout",
     "output_type": "stream",
     "text": [
      "       country  consumption  density        lat        lon\n",
      "0     ethiopia     1.663807        1   8.970294  36.525711\n",
      "1     ethiopia     3.794884        1   7.006350  40.995022\n",
      "2     ethiopia     7.641642        0   9.612397  41.871620\n",
      "3     ethiopia     9.291895        1  14.477154  39.540272\n",
      "4     ethiopia     2.056143        0   8.368388  33.434830\n",
      "...        ...          ...      ...        ...        ...\n",
      "2995    malawi     1.242456        1 -13.946321  33.186604\n",
      "2996    malawi     0.615833        1 -15.804177  35.793425\n",
      "2997    malawi     7.533418        0 -13.982346  33.806385\n",
      "2998    malawi     3.969582        1 -15.403323  34.682855\n",
      "2999    malawi    13.591838        0 -15.744234  35.098483\n",
      "\n",
      "[3000 rows x 5 columns]\n"
     ]
    }
   ],
   "source": [
    "df_lsms = pd.read_csv(LSMS_CSV_PATH)\n",
    "\n",
    "# df_lsms_eth = df_lsms_eth.head(1)\n",
    "print(df_lsms)"
   ]
  },
  {
   "cell_type": "code",
   "execution_count": 88,
   "id": "9cc8a30f",
   "metadata": {},
   "outputs": [
    {
     "name": "stdout",
     "output_type": "stream",
     "text": [
      "Mean: 3.9194884489386665\n",
      "STD: 3.818122106900523\n"
     ]
    },
    {
     "name": "stderr",
     "output_type": "stream",
     "text": [
      "/var/folders/yw/3z56n_vx4vq9g05qrxzrr4m40000gn/T/ipykernel_4336/1975521575.py:8: FutureWarning: The frame.append method is deprecated and will be removed from pandas in a future version. Use pandas.concat instead.\n",
      "  df_lsms_to_download = df_lsms_to_download.append(df_country_lsms_samples)\n",
      "/var/folders/yw/3z56n_vx4vq9g05qrxzrr4m40000gn/T/ipykernel_4336/1975521575.py:8: FutureWarning: The frame.append method is deprecated and will be removed from pandas in a future version. Use pandas.concat instead.\n",
      "  df_lsms_to_download = df_lsms_to_download.append(df_country_lsms_samples)\n",
      "/var/folders/yw/3z56n_vx4vq9g05qrxzrr4m40000gn/T/ipykernel_4336/1975521575.py:8: FutureWarning: The frame.append method is deprecated and will be removed from pandas in a future version. Use pandas.concat instead.\n",
      "  df_lsms_to_download = df_lsms_to_download.append(df_country_lsms_samples)\n"
     ]
    }
   ],
   "source": [
    "# For handling dataframe with multiple countries only, the hacky way\n",
    "countries = ['ethiopia', 'nigeria', 'malawi']\n",
    "df_lsms_to_download = pd.DataFrame(columns=['country', 'consumption', 'density', 'lat', 'lon'])\n",
    "for c in countries:\n",
    "    df_country_lsms = df_lsms.loc[df_lsms['country'] == c]\n",
    "    # Sample 1000 locations from each country\n",
    "    df_country_lsms_samples = df_country_lsms.sample(n=1000)\n",
    "    df_lsms_to_download = df_lsms_to_download.append(df_country_lsms_samples)\n",
    "\n",
    "df_lsms = df_lsms_to_download\n",
    "df_lsms.reset_index(drop=True, inplace=True)\n",
    "\n",
    "consumption = df_lsms['consumption'].values.tolist()\n",
    "print(f'Mean: {np.mean(consumption)}')\n",
    "print(f'STD: {np.std(consumption)}')\n",
    "\n",
    "# Uncomment to save\n",
    "# df_lsms.to_csv('ENTER_NAME_lsms_clusters.csv', index=False)"
   ]
  },
  {
   "cell_type": "code",
   "execution_count": 80,
   "id": "154a2e37",
   "metadata": {},
   "outputs": [],
   "source": [
    "MS_BANDS = ['BLUE', 'GREEN', 'RED', 'NIR', 'SW_IR1', 'SW_IR2', 'TEMP']\n",
    "\n",
    "PROJECTION = 'EPSG:3857'\n",
    "SCALE = 30              \n",
    "EXPORT_TILE_RADIUS = 127  # image dimension = (2*EXPORT_TILE_RADIUS) + 1 = 255px\n",
    "CHUNK_SIZE = 25         # set to a small number (<= 50) if Google Earth Engine reports memory errors"
   ]
  },
  {
   "cell_type": "code",
   "execution_count": 81,
   "id": "d8b78cd7",
   "metadata": {
    "pycharm": {
     "name": "#%%\n"
    }
   },
   "outputs": [],
   "source": [
    "def export_images(df, country, export_folder, chunk_size):\n",
    "    num_chunks = int(math.ceil(len(df) / chunk_size))\n",
    "    tasks = {}\n",
    "\n",
    "    for i in range(num_chunks):\n",
    "        chunk_slice = slice(i * chunk_size, (i+1) * chunk_size - 1)\n",
    "        fc = gee_utils.create_fc(df.loc[chunk_slice, :])\n",
    "\n",
    "        roi = fc.geometry()\n",
    "        composite_img = gee_utils.create_ms_img(roi).select(MS_BANDS)\n",
    "\n",
    "        # Add relevant bands\n",
    "        composite_img = gee_utils.add_latlon_band(composite_img)\n",
    "        composite_img = gee_utils.add_nl_band(composite_img)\n",
    "        composite_img = gee_utils.add_deltatemp_band(composite_img)\n",
    "        composite_img = gee_utils.add_pollution_band(composite_img)\n",
    "                \n",
    "        fname = f'{country}_{i:02d}'\n",
    "        tasks[(export_folder, country, i)] = gee_utils.make_tiles(\n",
    "            img=composite_img, scale=SCALE, ksize=EXPORT_TILE_RADIUS,\n",
    "            points=fc, export='drive',\n",
    "            prefix=export_folder, fname=fname,\n",
    "            bucket=None)\n",
    "    return tasks"
   ]
  },
  {
   "cell_type": "code",
   "execution_count": 82,
   "id": "7a8a6cc8",
   "metadata": {
    "pycharm": {
     "name": "#%%\n"
    },
    "scrolled": false
   },
   "outputs": [],
   "source": [
    "#Change country param when downloading imagery\n",
    "new_task = export_images(df_lsms, country='ethiopia', export_folder=LSMS_EXPORT_FOLDER, chunk_size=CHUNK_SIZE)"
   ]
  },
  {
   "cell_type": "code",
   "execution_count": null,
   "id": "be87e057",
   "metadata": {},
   "outputs": [],
   "source": []
  }
 ],
 "metadata": {
  "kernelspec": {
   "display_name": "pypoverty38",
   "language": "python",
   "name": "pypoverty38"
  },
  "language_info": {
   "codemirror_mode": {
    "name": "ipython",
    "version": 3
   },
   "file_extension": ".py",
   "mimetype": "text/x-python",
   "name": "python",
   "nbconvert_exporter": "python",
   "pygments_lexer": "ipython3",
   "version": "3.8.15"
  }
 },
 "nbformat": 4,
 "nbformat_minor": 5
}
