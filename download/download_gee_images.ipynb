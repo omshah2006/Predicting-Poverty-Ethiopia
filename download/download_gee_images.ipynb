{
 "cells": [
  {
   "cell_type": "code",
   "execution_count": 2,
   "id": "e0bad302",
   "metadata": {},
   "outputs": [],
   "source": [
    "%load_ext autoreload\n",
    "%autoreload 2"
   ]
  },
  {
   "cell_type": "code",
   "execution_count": 3,
   "id": "885b1b94",
   "metadata": {},
   "outputs": [],
   "source": [
    "# Imports\n",
    "import ee\n",
    "import pandas as pd\n",
    "import gee_utils\n",
    "\n",
    "import math"
   ]
  },
  {
   "cell_type": "code",
   "execution_count": 10,
   "id": "9befaf21",
   "metadata": {},
   "outputs": [
    {
     "data": {
      "text/html": [
       "<p>To authorize access needed by Earth Engine, open the following\n",
       "        URL in a web browser and follow the instructions:</p>\n",
       "        <p><a href=https://code.earthengine.google.com/client-auth?scopes=https%3A//www.googleapis.com/auth/earthengine%20https%3A//www.googleapis.com/auth/devstorage.full_control&request_id=jdyoSoeiqdFihON9tjODoTRHq9LxB_06bMVrzst8PR4&tc=02rjMqsrEGVT7hfWWD-LMUIbZAUdeA2aX14hgYsJhzo&cc=4KQfI1YabthmJ37WtxHGEn7i1xi2dOjY2zq4_zFb7Kc>https://code.earthengine.google.com/client-auth?scopes=https%3A//www.googleapis.com/auth/earthengine%20https%3A//www.googleapis.com/auth/devstorage.full_control&request_id=jdyoSoeiqdFihON9tjODoTRHq9LxB_06bMVrzst8PR4&tc=02rjMqsrEGVT7hfWWD-LMUIbZAUdeA2aX14hgYsJhzo&cc=4KQfI1YabthmJ37WtxHGEn7i1xi2dOjY2zq4_zFb7Kc</a></p>\n",
       "        <p>The authorization workflow will generate a code, which you should paste in the box below.</p>\n",
       "        "
      ],
      "text/plain": [
       "<IPython.core.display.HTML object>"
      ]
     },
     "metadata": {},
     "output_type": "display_data"
    },
    {
     "name": "stdout",
     "output_type": "stream",
     "text": [
      "Enter verification code: 4/1AWtgzh6VjkptUy4T_7CNL7KGxZfpg2hxvbFLNtAyxRhkLKsDC8Aqi1qXH30\n",
      "\n",
      "Successfully saved authorization token.\n"
     ]
    }
   ],
   "source": [
    "# Trigger the authentication flow.\n",
    "ee.Authenticate()"
   ]
  },
  {
   "cell_type": "code",
   "execution_count": 11,
   "id": "aa6c8cac",
   "metadata": {},
   "outputs": [],
   "source": [
    "# Initialize the library.\n",
    "ee.Initialize()"
   ]
  },
  {
   "cell_type": "code",
   "execution_count": 24,
   "id": "ca2dc0f2",
   "metadata": {},
   "outputs": [],
   "source": [
    "# Export parameters\n",
    "EXPORT = 'drive'\n",
    "BUCKET = None\n",
    "\n",
    "# Directory setup\n",
    "LSMS_EXPORT_FOLDER = 'nga_lsms_tfrecords_raw'\n",
    "LSMS_CSV_PATH = '../data/nga_lsms_clusters.csv'"
   ]
  },
  {
   "cell_type": "code",
   "execution_count": 26,
   "id": "339cc5e7",
   "metadata": {},
   "outputs": [
    {
     "name": "stdout",
     "output_type": "stream",
     "text": [
      "     country  consumption  density        lat       lon\n",
      "0        nga     0.535630        1   9.981020  9.549433\n",
      "1        nga     0.540830        1   9.537398  9.502645\n",
      "2        nga     0.596685        1  12.797703  9.065058\n",
      "3        nga     0.611105        1   9.083250  9.875452\n",
      "4        nga     0.618506        1  11.288002  5.919781\n",
      "...      ...          ...      ...        ...       ...\n",
      "4971     nga    46.973923        1   4.581487  7.960590\n",
      "4972     nga    48.650224        0   9.138173  7.318500\n",
      "4973     nga    53.263423        0   9.064088  7.478182\n",
      "4974     nga    68.399484        0   6.241538  6.936828\n",
      "4975     nga    70.363489        1   5.669323  6.964301\n",
      "\n",
      "[4976 rows x 5 columns]\n"
     ]
    }
   ],
   "source": [
    "df_lsms_eth = pd.read_csv(LSMS_CSV_PATH)\n",
    "\n",
    "# df_lsms_eth = df_lsms_eth.head(1)\n",
    "print(df_lsms_eth)"
   ]
  },
  {
   "cell_type": "code",
   "execution_count": 27,
   "id": "154a2e37",
   "metadata": {},
   "outputs": [],
   "source": [
    "MS_BANDS = ['BLUE', 'GREEN', 'RED', 'NIR', 'SW_IR1', 'SW_IR2', 'TEMP']\n",
    "\n",
    "PROJECTION = 'EPSG:3857'\n",
    "SCALE = 30              \n",
    "EXPORT_TILE_RADIUS = 127  # image dimension = (2*EXPORT_TILE_RADIUS) + 1 = 255px\n",
    "CHUNK_SIZE = 25         # set to a small number (<= 50) if Google Earth Engine reports memory errors"
   ]
  },
  {
   "cell_type": "code",
   "execution_count": 22,
   "id": "d8b78cd7",
   "metadata": {
    "pycharm": {
     "name": "#%%\n"
    }
   },
   "outputs": [],
   "source": [
    "def export_images(df, country, export_folder, chunk_size):\n",
    "    num_chunks = int(math.ceil(len(df) / chunk_size))\n",
    "    tasks = {}\n",
    "\n",
    "    for i in range(num_chunks):\n",
    "        chunk_slice = slice(i * chunk_size, (i+1) * chunk_size - 1)\n",
    "        fc = gee_utils.create_fc(df.loc[chunk_slice, :])\n",
    "\n",
    "        roi = fc.geometry()\n",
    "        composite_img = gee_utils.create_ms_img(roi).select(MS_BANDS)\n",
    "\n",
    "        composite_img = gee_utils.add_latlon_band(composite_img)\n",
    "        composite_img = gee_utils.add_nl_band(composite_img)\n",
    "        composite_img = gee_utils.add_deltatemp_band(composite_img)\n",
    "                \n",
    "        fname = f'{country}_{i:02d}'\n",
    "        tasks[(export_folder, country, i)] = gee_utils.make_tiles(\n",
    "            img=composite_img, scale=SCALE, ksize=EXPORT_TILE_RADIUS,\n",
    "            points=fc, export='drive',\n",
    "            prefix=export_folder, fname=fname,\n",
    "            bucket=None)\n",
    "    return tasks"
   ]
  },
  {
   "cell_type": "code",
   "execution_count": 28,
   "id": "7a8a6cc8",
   "metadata": {
    "pycharm": {
     "name": "#%%\n"
    },
    "scrolled": false
   },
   "outputs": [
    {
     "ename": "EEException",
     "evalue": "A different Operation was already started with the given request_id.",
     "output_type": "error",
     "traceback": [
      "\u001b[0;31m---------------------------------------------------------------------------\u001b[0m",
      "\u001b[0;31mHttpError\u001b[0m                                 Traceback (most recent call last)",
      "File \u001b[0;32m~/opt/anaconda3/envs/pypoverty38/lib/python3.8/site-packages/ee/data.py:328\u001b[0m, in \u001b[0;36m_execute_cloud_call\u001b[0;34m(call, num_retries)\u001b[0m\n\u001b[1;32m    327\u001b[0m \u001b[38;5;28;01mtry\u001b[39;00m:\n\u001b[0;32m--> 328\u001b[0m   \u001b[38;5;28;01mreturn\u001b[39;00m \u001b[43mcall\u001b[49m\u001b[38;5;241;43m.\u001b[39;49m\u001b[43mexecute\u001b[49m\u001b[43m(\u001b[49m\u001b[43mnum_retries\u001b[49m\u001b[38;5;241;43m=\u001b[39;49m\u001b[43mnum_retries\u001b[49m\u001b[43m)\u001b[49m\n\u001b[1;32m    329\u001b[0m \u001b[38;5;28;01mexcept\u001b[39;00m googleapiclient\u001b[38;5;241m.\u001b[39merrors\u001b[38;5;241m.\u001b[39mHttpError \u001b[38;5;28;01mas\u001b[39;00m e:\n",
      "File \u001b[0;32m~/opt/anaconda3/envs/pypoverty38/lib/python3.8/site-packages/googleapiclient/_helpers.py:134\u001b[0m, in \u001b[0;36mpositional.<locals>.positional_decorator.<locals>.positional_wrapper\u001b[0;34m(*args, **kwargs)\u001b[0m\n\u001b[1;32m    133\u001b[0m         logger\u001b[38;5;241m.\u001b[39mwarning(message)\n\u001b[0;32m--> 134\u001b[0m \u001b[38;5;28;01mreturn\u001b[39;00m \u001b[43mwrapped\u001b[49m\u001b[43m(\u001b[49m\u001b[38;5;241;43m*\u001b[39;49m\u001b[43margs\u001b[49m\u001b[43m,\u001b[49m\u001b[43m \u001b[49m\u001b[38;5;241;43m*\u001b[39;49m\u001b[38;5;241;43m*\u001b[39;49m\u001b[43mkwargs\u001b[49m\u001b[43m)\u001b[49m\n",
      "File \u001b[0;32m~/opt/anaconda3/envs/pypoverty38/lib/python3.8/site-packages/googleapiclient/http.py:915\u001b[0m, in \u001b[0;36mHttpRequest.execute\u001b[0;34m(self, http, num_retries)\u001b[0m\n\u001b[1;32m    914\u001b[0m \u001b[38;5;28;01mif\u001b[39;00m resp\u001b[38;5;241m.\u001b[39mstatus \u001b[38;5;241m>\u001b[39m\u001b[38;5;241m=\u001b[39m \u001b[38;5;241m300\u001b[39m:\n\u001b[0;32m--> 915\u001b[0m     \u001b[38;5;28;01mraise\u001b[39;00m HttpError(resp, content, uri\u001b[38;5;241m=\u001b[39m\u001b[38;5;28mself\u001b[39m\u001b[38;5;241m.\u001b[39muri)\n\u001b[1;32m    916\u001b[0m \u001b[38;5;28;01mreturn\u001b[39;00m \u001b[38;5;28mself\u001b[39m\u001b[38;5;241m.\u001b[39mpostproc(resp, content)\n",
      "\u001b[0;31mHttpError\u001b[0m: <HttpError 400 when requesting https://earthengine.googleapis.com/v1alpha/projects/earthengine-legacy/table:export?alt=json returned \"A different Operation was already started with the given request_id.\". Details: \"A different Operation was already started with the given request_id.\">",
      "\nDuring handling of the above exception, another exception occurred:\n",
      "\u001b[0;31mEEException\u001b[0m                               Traceback (most recent call last)",
      "Cell \u001b[0;32mIn [28], line 2\u001b[0m\n\u001b[1;32m      1\u001b[0m \u001b[38;5;66;03m#Change country param when downloading imagery\u001b[39;00m\n\u001b[0;32m----> 2\u001b[0m new_task \u001b[38;5;241m=\u001b[39m \u001b[43mexport_images\u001b[49m\u001b[43m(\u001b[49m\u001b[43mdf_lsms_eth\u001b[49m\u001b[43m,\u001b[49m\u001b[43m \u001b[49m\u001b[43mcountry\u001b[49m\u001b[38;5;241;43m=\u001b[39;49m\u001b[38;5;124;43m'\u001b[39;49m\u001b[38;5;124;43mnigeria\u001b[39;49m\u001b[38;5;124;43m'\u001b[39;49m\u001b[43m,\u001b[49m\u001b[43m \u001b[49m\u001b[43mexport_folder\u001b[49m\u001b[38;5;241;43m=\u001b[39;49m\u001b[43mLSMS_EXPORT_FOLDER\u001b[49m\u001b[43m,\u001b[49m\u001b[43m \u001b[49m\u001b[43mchunk_size\u001b[49m\u001b[38;5;241;43m=\u001b[39;49m\u001b[43mCHUNK_SIZE\u001b[49m\u001b[43m)\u001b[49m\n",
      "Cell \u001b[0;32mIn [22], line 17\u001b[0m, in \u001b[0;36mexport_images\u001b[0;34m(df, country, export_folder, chunk_size)\u001b[0m\n\u001b[1;32m     14\u001b[0m     composite_img \u001b[38;5;241m=\u001b[39m gee_utils\u001b[38;5;241m.\u001b[39madd_deltatemp_band(composite_img)\n\u001b[1;32m     16\u001b[0m     fname \u001b[38;5;241m=\u001b[39m \u001b[38;5;124mf\u001b[39m\u001b[38;5;124m'\u001b[39m\u001b[38;5;132;01m{\u001b[39;00mcountry\u001b[38;5;132;01m}\u001b[39;00m\u001b[38;5;124m_\u001b[39m\u001b[38;5;132;01m{\u001b[39;00mi\u001b[38;5;132;01m:\u001b[39;00m\u001b[38;5;124m02d\u001b[39m\u001b[38;5;132;01m}\u001b[39;00m\u001b[38;5;124m'\u001b[39m\n\u001b[0;32m---> 17\u001b[0m     tasks[(export_folder, country, i)] \u001b[38;5;241m=\u001b[39m \u001b[43mgee_utils\u001b[49m\u001b[38;5;241;43m.\u001b[39;49m\u001b[43mmake_tiles\u001b[49m\u001b[43m(\u001b[49m\n\u001b[1;32m     18\u001b[0m \u001b[43m        \u001b[49m\u001b[43mimg\u001b[49m\u001b[38;5;241;43m=\u001b[39;49m\u001b[43mcomposite_img\u001b[49m\u001b[43m,\u001b[49m\u001b[43m \u001b[49m\u001b[43mscale\u001b[49m\u001b[38;5;241;43m=\u001b[39;49m\u001b[43mSCALE\u001b[49m\u001b[43m,\u001b[49m\u001b[43m \u001b[49m\u001b[43mksize\u001b[49m\u001b[38;5;241;43m=\u001b[39;49m\u001b[43mEXPORT_TILE_RADIUS\u001b[49m\u001b[43m,\u001b[49m\n\u001b[1;32m     19\u001b[0m \u001b[43m        \u001b[49m\u001b[43mpoints\u001b[49m\u001b[38;5;241;43m=\u001b[39;49m\u001b[43mfc\u001b[49m\u001b[43m,\u001b[49m\u001b[43m \u001b[49m\u001b[43mexport\u001b[49m\u001b[38;5;241;43m=\u001b[39;49m\u001b[38;5;124;43m'\u001b[39;49m\u001b[38;5;124;43mdrive\u001b[39;49m\u001b[38;5;124;43m'\u001b[39;49m\u001b[43m,\u001b[49m\n\u001b[1;32m     20\u001b[0m \u001b[43m        \u001b[49m\u001b[43mprefix\u001b[49m\u001b[38;5;241;43m=\u001b[39;49m\u001b[43mexport_folder\u001b[49m\u001b[43m,\u001b[49m\u001b[43m \u001b[49m\u001b[43mfname\u001b[49m\u001b[38;5;241;43m=\u001b[39;49m\u001b[43mfname\u001b[49m\u001b[43m,\u001b[49m\n\u001b[1;32m     21\u001b[0m \u001b[43m        \u001b[49m\u001b[43mbucket\u001b[49m\u001b[38;5;241;43m=\u001b[39;49m\u001b[38;5;28;43;01mNone\u001b[39;49;00m\u001b[43m)\u001b[49m\n\u001b[1;32m     22\u001b[0m \u001b[38;5;28;01mreturn\u001b[39;00m tasks\n",
      "File \u001b[0;32m~/PovertyPredictionProject/Predicting-Poverty-Ethiopia/download/gee_utils.py:88\u001b[0m, in \u001b[0;36mmake_tiles\u001b[0;34m(img, scale, ksize, points, export, prefix, fname, selectors, dropselectors, bucket)\u001b[0m\n\u001b[1;32m     84\u001b[0m patches_array \u001b[38;5;241m=\u001b[39m img\u001b[38;5;241m.\u001b[39mneighborhoodToArray(kern)\n\u001b[1;32m     86\u001b[0m samples \u001b[38;5;241m=\u001b[39m points\u001b[38;5;241m.\u001b[39mmap(\u001b[38;5;28;01mlambda\u001b[39;00m pt: make_sample_tile(pt, patches_array, scale))\n\u001b[0;32m---> 88\u001b[0m \u001b[38;5;28;01mreturn\u001b[39;00m \u001b[43mexport_tiles\u001b[49m\u001b[43m(\u001b[49m\n\u001b[1;32m     89\u001b[0m \u001b[43m    \u001b[49m\u001b[43mcollection\u001b[49m\u001b[38;5;241;43m=\u001b[39;49m\u001b[43msamples\u001b[49m\u001b[43m,\u001b[49m\n\u001b[1;32m     90\u001b[0m \u001b[43m    \u001b[49m\u001b[43mexport\u001b[49m\u001b[38;5;241;43m=\u001b[39;49m\u001b[43mexport\u001b[49m\u001b[43m,\u001b[49m\n\u001b[1;32m     91\u001b[0m \u001b[43m    \u001b[49m\u001b[43mprefix\u001b[49m\u001b[38;5;241;43m=\u001b[39;49m\u001b[43mprefix\u001b[49m\u001b[43m,\u001b[49m\n\u001b[1;32m     92\u001b[0m \u001b[43m    \u001b[49m\u001b[43mfname\u001b[49m\u001b[38;5;241;43m=\u001b[39;49m\u001b[43mfname\u001b[49m\u001b[43m,\u001b[49m\n\u001b[1;32m     93\u001b[0m \u001b[43m    \u001b[49m\u001b[43mselectors\u001b[49m\u001b[38;5;241;43m=\u001b[39;49m\u001b[43mselectors\u001b[49m\u001b[43m,\u001b[49m\n\u001b[1;32m     94\u001b[0m \u001b[43m    \u001b[49m\u001b[43mdropselectors\u001b[49m\u001b[38;5;241;43m=\u001b[39;49m\u001b[43mdropselectors\u001b[49m\u001b[43m,\u001b[49m\n\u001b[1;32m     95\u001b[0m \u001b[43m    \u001b[49m\u001b[43mbucket\u001b[49m\u001b[38;5;241;43m=\u001b[39;49m\u001b[43mbucket\u001b[49m\u001b[43m,\u001b[49m\n\u001b[1;32m     96\u001b[0m \u001b[43m\u001b[49m\u001b[43m)\u001b[49m\n",
      "File \u001b[0;32m~/PovertyPredictionProject/Predicting-Poverty-Ethiopia/download/gee_utils.py:53\u001b[0m, in \u001b[0;36mexport_tiles\u001b[0;34m(collection, export, prefix, fname, selectors, dropselectors, bucket)\u001b[0m\n\u001b[1;32m     50\u001b[0m \u001b[38;5;28;01melse\u001b[39;00m:\n\u001b[1;32m     51\u001b[0m     \u001b[38;5;28;01mraise\u001b[39;00m \u001b[38;5;167;01mValueError\u001b[39;00m(\u001b[38;5;124mf\u001b[39m\u001b[38;5;124m'\u001b[39m\u001b[38;5;124mexport \u001b[39m\u001b[38;5;124m\"\u001b[39m\u001b[38;5;132;01m{\u001b[39;00mexport\u001b[38;5;132;01m}\u001b[39;00m\u001b[38;5;124m\"\u001b[39m\u001b[38;5;124m is not one of [\u001b[39m\u001b[38;5;124m\"\u001b[39m\u001b[38;5;124mgcs\u001b[39m\u001b[38;5;124m\"\u001b[39m\u001b[38;5;124m, \u001b[39m\u001b[38;5;124m\"\u001b[39m\u001b[38;5;124mdrive\u001b[39m\u001b[38;5;124m\"\u001b[39m\u001b[38;5;124m]\u001b[39m\u001b[38;5;124m'\u001b[39m)\n\u001b[0;32m---> 53\u001b[0m \u001b[43mtask\u001b[49m\u001b[38;5;241;43m.\u001b[39;49m\u001b[43mstart\u001b[49m\u001b[43m(\u001b[49m\u001b[43m)\u001b[49m\n\u001b[1;32m     55\u001b[0m \u001b[38;5;28;01mreturn\u001b[39;00m task\n",
      "File \u001b[0;32m~/opt/anaconda3/envs/pypoverty38/lib/python3.8/site-packages/ee/batch.py:95\u001b[0m, in \u001b[0;36mTask.start\u001b[0;34m(self)\u001b[0m\n\u001b[1;32m     93\u001b[0m   result \u001b[38;5;241m=\u001b[39m data\u001b[38;5;241m.\u001b[39mexportMap(\u001b[38;5;28mself\u001b[39m\u001b[38;5;241m.\u001b[39m_request_id, \u001b[38;5;28mself\u001b[39m\u001b[38;5;241m.\u001b[39mconfig)\n\u001b[1;32m     94\u001b[0m \u001b[38;5;28;01melif\u001b[39;00m \u001b[38;5;28mself\u001b[39m\u001b[38;5;241m.\u001b[39mtask_type \u001b[38;5;241m==\u001b[39m Task\u001b[38;5;241m.\u001b[39mType\u001b[38;5;241m.\u001b[39mEXPORT_TABLE:\n\u001b[0;32m---> 95\u001b[0m   result \u001b[38;5;241m=\u001b[39m \u001b[43mdata\u001b[49m\u001b[38;5;241;43m.\u001b[39;49m\u001b[43mexportTable\u001b[49m\u001b[43m(\u001b[49m\u001b[38;5;28;43mself\u001b[39;49m\u001b[38;5;241;43m.\u001b[39;49m\u001b[43m_request_id\u001b[49m\u001b[43m,\u001b[49m\u001b[43m \u001b[49m\u001b[38;5;28;43mself\u001b[39;49m\u001b[38;5;241;43m.\u001b[39;49m\u001b[43mconfig\u001b[49m\u001b[43m)\u001b[49m\n\u001b[1;32m     96\u001b[0m \u001b[38;5;28;01melif\u001b[39;00m \u001b[38;5;28mself\u001b[39m\u001b[38;5;241m.\u001b[39mtask_type \u001b[38;5;241m==\u001b[39m Task\u001b[38;5;241m.\u001b[39mType\u001b[38;5;241m.\u001b[39mEXPORT_VIDEO:\n\u001b[1;32m     97\u001b[0m   result \u001b[38;5;241m=\u001b[39m data\u001b[38;5;241m.\u001b[39mexportVideo(\u001b[38;5;28mself\u001b[39m\u001b[38;5;241m.\u001b[39m_request_id, \u001b[38;5;28mself\u001b[39m\u001b[38;5;241m.\u001b[39mconfig)\n",
      "File \u001b[0;32m~/opt/anaconda3/envs/pypoverty38/lib/python3.8/site-packages/ee/data.py:1346\u001b[0m, in \u001b[0;36mexportTable\u001b[0;34m(request_id, params)\u001b[0m\n\u001b[1;32m   1325\u001b[0m \u001b[38;5;124;03m\"\"\"Starts a table export task running.\u001b[39;00m\n\u001b[1;32m   1326\u001b[0m \n\u001b[1;32m   1327\u001b[0m \u001b[38;5;124;03mThis is a low-level method. The higher-level ee.batch.Export.table object\u001b[39;00m\n\u001b[0;32m   (...)\u001b[0m\n\u001b[1;32m   1343\u001b[0m \u001b[38;5;124;03m  If you are using the cloud API, this will be an Operation.\u001b[39;00m\n\u001b[1;32m   1344\u001b[0m \u001b[38;5;124;03m\"\"\"\u001b[39;00m\n\u001b[1;32m   1345\u001b[0m params \u001b[38;5;241m=\u001b[39m params\u001b[38;5;241m.\u001b[39mcopy()\n\u001b[0;32m-> 1346\u001b[0m \u001b[38;5;28;01mreturn\u001b[39;00m \u001b[43m_prepare_and_run_export\u001b[49m\u001b[43m(\u001b[49m\n\u001b[1;32m   1347\u001b[0m \u001b[43m    \u001b[49m\u001b[43mrequest_id\u001b[49m\u001b[43m,\u001b[49m\u001b[43m \u001b[49m\u001b[43mparams\u001b[49m\u001b[43m,\u001b[49m\n\u001b[1;32m   1348\u001b[0m \u001b[43m    \u001b[49m\u001b[43m_get_cloud_api_resource\u001b[49m\u001b[43m(\u001b[49m\u001b[43m)\u001b[49m\u001b[38;5;241;43m.\u001b[39;49m\u001b[43mprojects\u001b[49m\u001b[43m(\u001b[49m\u001b[43m)\u001b[49m\u001b[38;5;241;43m.\u001b[39;49m\u001b[43mtable\u001b[49m\u001b[43m(\u001b[49m\u001b[43m)\u001b[49m\u001b[38;5;241;43m.\u001b[39;49m\u001b[43mexport\u001b[49m\u001b[43m)\u001b[49m\n",
      "File \u001b[0;32m~/opt/anaconda3/envs/pypoverty38/lib/python3.8/site-packages/ee/data.py:1440\u001b[0m, in \u001b[0;36m_prepare_and_run_export\u001b[0;34m(request_id, params, export_endpoint)\u001b[0m\n\u001b[1;32m   1437\u001b[0m   params[\u001b[38;5;124m'\u001b[39m\u001b[38;5;124mexpression\u001b[39m\u001b[38;5;124m'\u001b[39m] \u001b[38;5;241m=\u001b[39m serializer\u001b[38;5;241m.\u001b[39mencode(\n\u001b[1;32m   1438\u001b[0m       params[\u001b[38;5;124m'\u001b[39m\u001b[38;5;124mexpression\u001b[39m\u001b[38;5;124m'\u001b[39m], for_cloud_api\u001b[38;5;241m=\u001b[39m\u001b[38;5;28;01mTrue\u001b[39;00m)\n\u001b[1;32m   1439\u001b[0m num_retries \u001b[38;5;241m=\u001b[39m MAX_RETRIES \u001b[38;5;28;01mif\u001b[39;00m request_id \u001b[38;5;28;01melse\u001b[39;00m \u001b[38;5;241m0\u001b[39m\n\u001b[0;32m-> 1440\u001b[0m \u001b[38;5;28;01mreturn\u001b[39;00m \u001b[43m_execute_cloud_call\u001b[49m\u001b[43m(\u001b[49m\n\u001b[1;32m   1441\u001b[0m \u001b[43m    \u001b[49m\u001b[43mexport_endpoint\u001b[49m\u001b[43m(\u001b[49m\u001b[43mproject\u001b[49m\u001b[38;5;241;43m=\u001b[39;49m\u001b[43m_get_projects_path\u001b[49m\u001b[43m(\u001b[49m\u001b[43m)\u001b[49m\u001b[43m,\u001b[49m\u001b[43m \u001b[49m\u001b[43mbody\u001b[49m\u001b[38;5;241;43m=\u001b[39;49m\u001b[43mparams\u001b[49m\u001b[43m)\u001b[49m\u001b[43m,\u001b[49m\n\u001b[1;32m   1442\u001b[0m \u001b[43m    \u001b[49m\u001b[43mnum_retries\u001b[49m\u001b[38;5;241;43m=\u001b[39;49m\u001b[43mnum_retries\u001b[49m\u001b[43m)\u001b[49m\n",
      "File \u001b[0;32m~/opt/anaconda3/envs/pypoverty38/lib/python3.8/site-packages/ee/data.py:330\u001b[0m, in \u001b[0;36m_execute_cloud_call\u001b[0;34m(call, num_retries)\u001b[0m\n\u001b[1;32m    328\u001b[0m   \u001b[38;5;28;01mreturn\u001b[39;00m call\u001b[38;5;241m.\u001b[39mexecute(num_retries\u001b[38;5;241m=\u001b[39mnum_retries)\n\u001b[1;32m    329\u001b[0m \u001b[38;5;28;01mexcept\u001b[39;00m googleapiclient\u001b[38;5;241m.\u001b[39merrors\u001b[38;5;241m.\u001b[39mHttpError \u001b[38;5;28;01mas\u001b[39;00m e:\n\u001b[0;32m--> 330\u001b[0m   \u001b[38;5;28;01mraise\u001b[39;00m _translate_cloud_exception(e)\n",
      "\u001b[0;31mEEException\u001b[0m: A different Operation was already started with the given request_id."
     ]
    }
   ],
   "source": [
    "#Change country param when downloading imagery\n",
    "new_task = export_images(df_lsms_eth, country='nigeria', export_folder=LSMS_EXPORT_FOLDER, chunk_size=CHUNK_SIZE)"
   ]
  },
  {
   "cell_type": "code",
   "execution_count": null,
   "id": "be87e057",
   "metadata": {},
   "outputs": [],
   "source": []
  }
 ],
 "metadata": {
  "kernelspec": {
   "display_name": "pypoverty38",
   "language": "python",
   "name": "pypoverty38"
  },
  "language_info": {
   "codemirror_mode": {
    "name": "ipython",
    "version": 3
   },
   "file_extension": ".py",
   "mimetype": "text/x-python",
   "name": "python",
   "nbconvert_exporter": "python",
   "pygments_lexer": "ipython3",
   "version": "3.8.15"
  }
 },
 "nbformat": 4,
 "nbformat_minor": 5
}
