{
 "cells": [
  {
   "cell_type": "code",
   "execution_count": 22,
   "id": "885b1b94",
   "metadata": {},
   "outputs": [],
   "source": [
    "import ee\n",
    "import pandas as pd\n",
    "\n",
    "import matplotlib.pyplot as plt\n",
    "import numpy as np\n",
    "from scipy import optimize\n",
    "%matplotlib inline\n",
    "\n",
    "from IPython.display import Image"
   ]
  },
  {
   "cell_type": "code",
   "execution_count": 6,
   "id": "9befaf21",
   "metadata": {},
   "outputs": [
    {
     "data": {
      "text/html": [
       "<p>To authorize access needed by Earth Engine, open the following\n",
       "        URL in a web browser and follow the instructions:</p>\n",
       "        <p><a href=https://code.earthengine.google.com/client-auth?scopes=https%3A//www.googleapis.com/auth/earthengine%20https%3A//www.googleapis.com/auth/devstorage.full_control&request_id=rg5QTyABFCvwpYXYjKCvXUgg-7gdjK0PTSwoQT3OHw0&tc=0JBYhIu_uRAKntbWjcfnc8Ytld7Fy_fSOt85_TiPhPM&cc=lNYploGi7PbDIGXJIVU-aLjNTrdutjo49rc3kiI1bN0>https://code.earthengine.google.com/client-auth?scopes=https%3A//www.googleapis.com/auth/earthengine%20https%3A//www.googleapis.com/auth/devstorage.full_control&request_id=rg5QTyABFCvwpYXYjKCvXUgg-7gdjK0PTSwoQT3OHw0&tc=0JBYhIu_uRAKntbWjcfnc8Ytld7Fy_fSOt85_TiPhPM&cc=lNYploGi7PbDIGXJIVU-aLjNTrdutjo49rc3kiI1bN0</a></p>\n",
       "        <p>The authorization workflow will generate a code, which you should paste in the box below.</p>\n",
       "        "
      ],
      "text/plain": [
       "<IPython.core.display.HTML object>"
      ]
     },
     "metadata": {},
     "output_type": "display_data"
    },
    {
     "name": "stdout",
     "output_type": "stream",
     "text": [
      "Enter verification code: 4/1AfgeXvtE7ilw6oCTG17nFMacUjeKUM8HtzMxAJZ96JmMvK9yiGQcemOOjIo\n",
      "\n",
      "Successfully saved authorization token.\n"
     ]
    }
   ],
   "source": [
    "# Trigger the authentication flow.\n",
    "ee.Authenticate()"
   ]
  },
  {
   "cell_type": "code",
   "execution_count": 7,
   "id": "aa6c8cac",
   "metadata": {},
   "outputs": [],
   "source": [
    "# Initialize the library.\n",
    "ee.Initialize()"
   ]
  },
  {
   "cell_type": "code",
   "execution_count": 29,
   "id": "816e112d",
   "metadata": {},
   "outputs": [],
   "source": [
    "# Import the LANDSAT surface reflectance colelction.\n",
    "ls_sr = ee.ImageCollection(\"LANDSAT/LC08/C02/T1_L2\")"
   ]
  },
  {
   "cell_type": "code",
   "execution_count": 42,
   "id": "bc234d1a",
   "metadata": {},
   "outputs": [],
   "source": [
    "# Define the urban location of interest as a point near Lyon, France.\n",
    "u_lon = 4.8148\n",
    "u_lat = 45.7758\n",
    "u_poi = ee.Geometry.Point(u_lon, u_lat)\n",
    "\n",
    "# Define the rural location of interest as a point away from the city.\n",
    "r_lon = 5.175964\n",
    "r_lat = 45.574064\n",
    "r_poi = ee.Geometry.Point(r_lon, r_lat)"
   ]
  },
  {
   "cell_type": "code",
   "execution_count": 43,
   "id": "5a3da07e",
   "metadata": {},
   "outputs": [],
   "source": [
    "# Initial date of interest (inclusive).\n",
    "i_date = '2017-01-01'\n",
    "\n",
    "# Final date of interest (exclusive).\n",
    "f_date = '2020-01-01'\n",
    "\n",
    "ls_sr = ls_sr.select('SR_B4', 'SR_B3', 'SR_B2').filterBounds(u_poi).filterDate(i_date, f_date)"
   ]
  },
  {
   "cell_type": "code",
   "execution_count": 44,
   "id": "b8517b40",
   "metadata": {},
   "outputs": [
    {
     "data": {
      "text/plain": [
       "['SR_B4', 'SR_B3', 'SR_B2']"
      ]
     },
     "execution_count": 44,
     "metadata": {},
     "output_type": "execute_result"
    }
   ],
   "source": [
    "first_image = ls_sr.first()\n",
    "first_image.bandNames().getInfo()"
   ]
  },
  {
   "cell_type": "code",
   "execution_count": 48,
   "id": "301c9a10",
   "metadata": {},
   "outputs": [],
   "source": [
    "first_image = first_image.toFloat()"
   ]
  },
  {
   "cell_type": "code",
   "execution_count": 70,
   "id": "edfa6dc7",
   "metadata": {},
   "outputs": [
    {
     "data": {
      "text/html": [
       "<img src=\"https://earthengine.googleapis.com/v1alpha/projects/earthengine-legacy/thumbnails/357676fe1cb80272af316e3289c4df9e-6fdfc438a2d644255158c37c7664052d:getPixels\"/>"
      ],
      "text/plain": [
       "<IPython.core.display.Image object>"
      ]
     },
     "execution_count": 70,
     "metadata": {},
     "output_type": "execute_result"
    }
   ],
   "source": [
    "roi = u_poi.buffer(distance=9.2e5)\n",
    "dataset = ee.ImageCollection(\"LANDSAT/LC08/C02/T1_L2\")\n",
    "dataset = dataset.select('SR_B4', 'SR_B3', 'SR_B2')\n",
    "\n",
    "date_filter = ee.Filter.date('2021-05-01', '2021-06-01')\n",
    "dataset = dataset.filter(date_filter)\n",
    "\n",
    "# def applyScaleFactors(image):\n",
    "#     opticalBands = image.select('SR_B.').multiply(0.0000275).add(-0.2)\n",
    "#     thermalBands = image.select('ST_B.*').multiply(0.00341802).add(149.0)\n",
    "#     return image.addBands(opticalBands, None, True).addBands(thermalBands, None, True)\n",
    "\n",
    "\n",
    "# dataset = dataset.map(applyScaleFactors);\n",
    "\n",
    "image = dataset.mean()\n",
    "\n",
    "visualisation_params = { \n",
    "  'min': 8,\n",
    "  'max': 40,\n",
    "  'dimensions': 620,\n",
    "  'region': roi,\n",
    "}\n",
    "url = image.getThumbUrl(visualisation_params)\n",
    "\n",
    "Image(url=url)"
   ]
  },
  {
   "cell_type": "code",
   "execution_count": null,
   "id": "fc1a9063",
   "metadata": {},
   "outputs": [],
   "source": [
    "ee.Initialize()\n",
    "\n",
    "poi = ee.Geometry.Point([122.1247, 13.2735]) # [long, lat]\n",
    "roi = poi.buffer(distance=9.2e5)\n",
    "\n",
    "dataset = ee.ImageCollection(\"MODIS/006/MOD11A1\")\n",
    "dataset = dataset.select('LST_Day_1km')\n",
    "\n",
    "date_filter = ee.Filter.date('2021-01-01', '2022-01-01')\n",
    "dataset = dataset.filter(date_filter)\n",
    "\n",
    "image = dataset.mean()\n",
    "image = image.multiply(0.02).add(-273.15)\n",
    "visualisation_params = { \n",
    "  'min': 8,\n",
    "  'max': 40,\n",
    "  'dimensions': 620,\n",
    "  'region': roi,\n",
    "  'palette': ['blue', 'yellow', 'red']\n",
    "}\n",
    "url = image.getThumbUrl(visualisation_params)\n",
    "\n",
    "Image(url=url)"
   ]
  },
  {
   "cell_type": "code",
   "execution_count": null,
   "id": "1dff086f",
   "metadata": {},
   "outputs": [],
   "source": []
  }
 ],
 "metadata": {
  "kernelspec": {
   "display_name": "pypoverty38",
   "language": "python",
   "name": "pypoverty38"
  },
  "language_info": {
   "codemirror_mode": {
    "name": "ipython",
    "version": 3
   },
   "file_extension": ".py",
   "mimetype": "text/x-python",
   "name": "python",
   "nbconvert_exporter": "python",
   "pygments_lexer": "ipython3",
   "version": "3.8.13"
  }
 },
 "nbformat": 4,
 "nbformat_minor": 5
}
