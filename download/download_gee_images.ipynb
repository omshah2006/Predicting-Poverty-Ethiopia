{
 "cells": [
  {
   "cell_type": "code",
   "execution_count": 30,
   "id": "e0bad302",
   "metadata": {},
   "outputs": [
    {
     "name": "stdout",
     "output_type": "stream",
     "text": [
      "The autoreload extension is already loaded. To reload it, use:\n",
      "  %reload_ext autoreload\n"
     ]
    }
   ],
   "source": [
    "%load_ext autoreload\n",
    "%autoreload 2"
   ]
  },
  {
   "cell_type": "code",
   "execution_count": 31,
   "id": "885b1b94",
   "metadata": {},
   "outputs": [],
   "source": [
    "import ee\n",
    "import pandas as pd\n",
    "import gee_utils\n",
    "\n",
    "import math"
   ]
  },
  {
   "cell_type": "code",
   "execution_count": 44,
   "id": "9befaf21",
   "metadata": {},
   "outputs": [
    {
     "data": {
      "text/html": [
       "<p>To authorize access needed by Earth Engine, open the following\n",
       "        URL in a web browser and follow the instructions:</p>\n",
       "        <p><a href=https://code.earthengine.google.com/client-auth?scopes=https%3A//www.googleapis.com/auth/earthengine%20https%3A//www.googleapis.com/auth/devstorage.full_control&request_id=dNt4pjrlvMBw91l_3ywk-UFoXAr8VgcIGC5eHV7C_1A&tc=UQPOpND-ZH3ezTl3MFWfkfBzljD_NycAdmOoh0ZJI5A&cc=-aeXnmWl6fYO8DlMTPZoT5vGiX4cKQ88334q9crSMP0>https://code.earthengine.google.com/client-auth?scopes=https%3A//www.googleapis.com/auth/earthengine%20https%3A//www.googleapis.com/auth/devstorage.full_control&request_id=dNt4pjrlvMBw91l_3ywk-UFoXAr8VgcIGC5eHV7C_1A&tc=UQPOpND-ZH3ezTl3MFWfkfBzljD_NycAdmOoh0ZJI5A&cc=-aeXnmWl6fYO8DlMTPZoT5vGiX4cKQ88334q9crSMP0</a></p>\n",
       "        <p>The authorization workflow will generate a code, which you should paste in the box below.</p>\n",
       "        "
      ],
      "text/plain": [
       "<IPython.core.display.HTML object>"
      ]
     },
     "metadata": {},
     "output_type": "display_data"
    },
    {
     "name": "stdout",
     "output_type": "stream",
     "text": [
      "\n",
      "Successfully saved authorization token.\n"
     ]
    }
   ],
   "source": [
    "# Trigger the authentication flow.\n",
    "ee.Authenticate()"
   ]
  },
  {
   "cell_type": "code",
   "execution_count": 32,
   "id": "aa6c8cac",
   "metadata": {},
   "outputs": [],
   "source": [
    "# Initialize the library.\n",
    "ee.Initialize()"
   ]
  },
  {
   "cell_type": "code",
   "execution_count": 37,
   "id": "ca2dc0f2",
   "metadata": {},
   "outputs": [],
   "source": [
    "EXPORT = 'drive'\n",
    "BUCKET = None\n",
    "\n",
    "LSMS_EXPORT_FOLDER = 'lsms_tfrecords_raw'"
   ]
  },
  {
   "cell_type": "code",
   "execution_count": 58,
   "id": "154a2e37",
   "metadata": {},
   "outputs": [],
   "source": [
    "LSMS_CSV_PATH = '../data/lsms_clusters.csv'\n",
    "\n",
    "MS_BANDS = ['BLUE', 'GREEN', 'RED', 'NIR', 'SW_IR1', 'SW_IR2', 'TEMP']\n",
    "\n",
    "PROJECTION = 'EPSG:3857'\n",
    "SCALE = 30              \n",
    "EXPORT_TILE_RADIUS = 127  # image dimension = (2*EXPORT_TILE_RADIUS) + 1 = 255px\n",
    "CHUNK_SIZE = 25         # set to a small number (<= 50) if Google Earth Engine reports memory errors"
   ]
  },
  {
   "cell_type": "code",
   "execution_count": 59,
   "id": "d8b78cd7",
   "metadata": {
    "pycharm": {
     "name": "#%%\n"
    }
   },
   "outputs": [],
   "source": [
    "def export_images(df, country, export_folder, chunk_size):\n",
    "    num_chunks = int(math.ceil(len(df) / chunk_size))\n",
    "    tasks = {}\n",
    "\n",
    "    for i in range(num_chunks):\n",
    "        chunk_slice = slice(i * chunk_size, (i+1) * chunk_size - 1)\n",
    "        fc = gee_utils.create_fc(df.loc[chunk_slice, :])\n",
    "\n",
    "        roi = fc.geometry()\n",
    "        composite_img = gee_utils.create_ms_img(roi).select(MS_BANDS)\n",
    "\n",
    "        composite_img = gee_utils.add_latlon_band(composite_img)\n",
    "        composite_img = gee_utils.add_nl_band(composite_img)\n",
    "                \n",
    "        fname = f'{country}_{i:02d}'\n",
    "        tasks[(export_folder, country, i)] = gee_utils.make_tiles(\n",
    "            img=composite_img, scale=SCALE, ksize=EXPORT_TILE_RADIUS,\n",
    "            points=fc, export='drive',\n",
    "            prefix=export_folder, fname=fname,\n",
    "            bucket=None)\n",
    "    return tasks"
   ]
  },
  {
   "cell_type": "code",
   "execution_count": 60,
   "id": "7a8a6cc8",
   "metadata": {
    "pycharm": {
     "name": "#%%\n"
    },
    "scrolled": false
   },
   "outputs": [],
   "source": [
    "df_lsms_eth = pd.read_csv(LSMS_CSV_PATH)\n",
    "new_task = export_images(df_lsms_eth, country=\"ethiopia\", export_folder=LSMS_EXPORT_FOLDER, chunk_size=CHUNK_SIZE)"
   ]
  },
  {
   "cell_type": "code",
   "execution_count": null,
   "id": "7fd7535e",
   "metadata": {},
   "outputs": [],
   "source": []
  }
 ],
 "metadata": {
  "kernelspec": {
   "display_name": "pypoverty38",
   "language": "python",
   "name": "pypoverty38"
  },
  "language_info": {
   "codemirror_mode": {
    "name": "ipython",
    "version": 3
   },
   "file_extension": ".py",
   "mimetype": "text/x-python",
   "name": "python",
   "nbconvert_exporter": "python",
   "pygments_lexer": "ipython3",
   "version": "3.8.13"
  }
 },
 "nbformat": 4,
 "nbformat_minor": 5
}
