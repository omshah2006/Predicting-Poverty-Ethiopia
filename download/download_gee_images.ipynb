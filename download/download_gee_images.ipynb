{
 "cells": [
  {
   "cell_type": "code",
   "execution_count": 1,
   "id": "e0bad302",
   "metadata": {},
   "outputs": [],
   "source": [
    "%load_ext autoreload\n",
    "%autoreload 2"
   ]
  },
  {
   "cell_type": "code",
   "execution_count": 2,
   "id": "885b1b94",
   "metadata": {},
   "outputs": [],
   "source": [
    "# Imports\n",
    "import ee\n",
    "import pandas as pd\n",
    "import gee_utils\n",
    "\n",
    "import math"
   ]
  },
  {
   "cell_type": "code",
   "execution_count": 44,
   "id": "9befaf21",
   "metadata": {},
   "outputs": [
    {
     "data": {
      "text/html": [
       "<p>To authorize access needed by Earth Engine, open the following\n",
       "        URL in a web browser and follow the instructions:</p>\n",
       "        <p><a href=https://code.earthengine.google.com/client-auth?scopes=https%3A//www.googleapis.com/auth/earthengine%20https%3A//www.googleapis.com/auth/devstorage.full_control&request_id=dNt4pjrlvMBw91l_3ywk-UFoXAr8VgcIGC5eHV7C_1A&tc=UQPOpND-ZH3ezTl3MFWfkfBzljD_NycAdmOoh0ZJI5A&cc=-aeXnmWl6fYO8DlMTPZoT5vGiX4cKQ88334q9crSMP0>https://code.earthengine.google.com/client-auth?scopes=https%3A//www.googleapis.com/auth/earthengine%20https%3A//www.googleapis.com/auth/devstorage.full_control&request_id=dNt4pjrlvMBw91l_3ywk-UFoXAr8VgcIGC5eHV7C_1A&tc=UQPOpND-ZH3ezTl3MFWfkfBzljD_NycAdmOoh0ZJI5A&cc=-aeXnmWl6fYO8DlMTPZoT5vGiX4cKQ88334q9crSMP0</a></p>\n",
       "        <p>The authorization workflow will generate a code, which you should paste in the box below.</p>\n",
       "        "
      ],
      "text/plain": [
       "<IPython.core.display.HTML object>"
      ]
     },
     "metadata": {},
     "output_type": "display_data"
    },
    {
     "name": "stdout",
     "output_type": "stream",
     "text": [
      "\n",
      "Successfully saved authorization token.\n"
     ]
    }
   ],
   "source": [
    "# Trigger the authentication flow.\n",
    "ee.Authenticate()"
   ]
  },
  {
   "cell_type": "code",
   "execution_count": 3,
   "id": "aa6c8cac",
   "metadata": {},
   "outputs": [],
   "source": [
    "# Initialize the library.\n",
    "ee.Initialize()"
   ]
  },
  {
   "cell_type": "code",
   "execution_count": 77,
   "id": "ca2dc0f2",
   "metadata": {},
   "outputs": [],
   "source": [
    "#Export parameters\n",
    "EXPORT = 'drive'\n",
    "BUCKET = None\n",
    "\n",
    "# Directory setup\n",
    "LSMS_EXPORT_FOLDER = 'lsms_tfrecords_raw'\n",
    "LSMS_CSV_PATH = '../data/lsms_clusters.csv'"
   ]
  },
  {
   "cell_type": "code",
   "execution_count": 78,
   "id": "339cc5e7",
   "metadata": {},
   "outputs": [
    {
     "data": {
      "text/html": [
       "<div>\n",
       "<style scoped>\n",
       "    .dataframe tbody tr th:only-of-type {\n",
       "        vertical-align: middle;\n",
       "    }\n",
       "\n",
       "    .dataframe tbody tr th {\n",
       "        vertical-align: top;\n",
       "    }\n",
       "\n",
       "    .dataframe thead th {\n",
       "        text-align: right;\n",
       "    }\n",
       "</style>\n",
       "<table border=\"1\" class=\"dataframe\">\n",
       "  <thead>\n",
       "    <tr style=\"text-align: right;\">\n",
       "      <th></th>\n",
       "      <th>country</th>\n",
       "      <th>consumption</th>\n",
       "      <th>density</th>\n",
       "      <th>lat</th>\n",
       "      <th>lon</th>\n",
       "    </tr>\n",
       "  </thead>\n",
       "  <tbody>\n",
       "    <tr>\n",
       "      <th>0</th>\n",
       "      <td>ethiopia</td>\n",
       "      <td>7.114359</td>\n",
       "      <td>0</td>\n",
       "      <td>13.522697</td>\n",
       "      <td>39.440907</td>\n",
       "    </tr>\n",
       "    <tr>\n",
       "      <th>1</th>\n",
       "      <td>ethiopia</td>\n",
       "      <td>6.933497</td>\n",
       "      <td>1</td>\n",
       "      <td>9.602403</td>\n",
       "      <td>41.866592</td>\n",
       "    </tr>\n",
       "    <tr>\n",
       "      <th>2</th>\n",
       "      <td>ethiopia</td>\n",
       "      <td>7.354854</td>\n",
       "      <td>1</td>\n",
       "      <td>11.294477</td>\n",
       "      <td>36.448727</td>\n",
       "    </tr>\n",
       "    <tr>\n",
       "      <th>3</th>\n",
       "      <td>ethiopia</td>\n",
       "      <td>1.129382</td>\n",
       "      <td>1</td>\n",
       "      <td>9.503581</td>\n",
       "      <td>42.070496</td>\n",
       "    </tr>\n",
       "    <tr>\n",
       "      <th>4</th>\n",
       "      <td>ethiopia</td>\n",
       "      <td>1.924262</td>\n",
       "      <td>1</td>\n",
       "      <td>8.970294</td>\n",
       "      <td>36.525711</td>\n",
       "    </tr>\n",
       "    <tr>\n",
       "      <th>...</th>\n",
       "      <td>...</td>\n",
       "      <td>...</td>\n",
       "      <td>...</td>\n",
       "      <td>...</td>\n",
       "      <td>...</td>\n",
       "    </tr>\n",
       "    <tr>\n",
       "      <th>6508</th>\n",
       "      <td>ethiopia</td>\n",
       "      <td>4.283961</td>\n",
       "      <td>1</td>\n",
       "      <td>9.600062</td>\n",
       "      <td>41.245560</td>\n",
       "    </tr>\n",
       "    <tr>\n",
       "      <th>6509</th>\n",
       "      <td>ethiopia</td>\n",
       "      <td>2.158788</td>\n",
       "      <td>0</td>\n",
       "      <td>9.062462</td>\n",
       "      <td>38.757240</td>\n",
       "    </tr>\n",
       "    <tr>\n",
       "      <th>6510</th>\n",
       "      <td>ethiopia</td>\n",
       "      <td>1.986287</td>\n",
       "      <td>0</td>\n",
       "      <td>10.821666</td>\n",
       "      <td>40.187645</td>\n",
       "    </tr>\n",
       "    <tr>\n",
       "      <th>6511</th>\n",
       "      <td>ethiopia</td>\n",
       "      <td>2.943372</td>\n",
       "      <td>1</td>\n",
       "      <td>11.800598</td>\n",
       "      <td>37.128471</td>\n",
       "    </tr>\n",
       "    <tr>\n",
       "      <th>6512</th>\n",
       "      <td>ethiopia</td>\n",
       "      <td>2.032065</td>\n",
       "      <td>1</td>\n",
       "      <td>13.424566</td>\n",
       "      <td>39.214527</td>\n",
       "    </tr>\n",
       "  </tbody>\n",
       "</table>\n",
       "<p>6513 rows × 5 columns</p>\n",
       "</div>"
      ],
      "text/plain": [
       "       country  consumption  density        lat        lon\n",
       "0     ethiopia     7.114359        0  13.522697  39.440907\n",
       "1     ethiopia     6.933497        1   9.602403  41.866592\n",
       "2     ethiopia     7.354854        1  11.294477  36.448727\n",
       "3     ethiopia     1.129382        1   9.503581  42.070496\n",
       "4     ethiopia     1.924262        1   8.970294  36.525711\n",
       "...        ...          ...      ...        ...        ...\n",
       "6508  ethiopia     4.283961        1   9.600062  41.245560\n",
       "6509  ethiopia     2.158788        0   9.062462  38.757240\n",
       "6510  ethiopia     1.986287        0  10.821666  40.187645\n",
       "6511  ethiopia     2.943372        1  11.800598  37.128471\n",
       "6512  ethiopia     2.032065        1  13.424566  39.214527\n",
       "\n",
       "[6513 rows x 5 columns]"
      ]
     },
     "execution_count": 78,
     "metadata": {},
     "output_type": "execute_result"
    }
   ],
   "source": [
    "df_lsms_eth = pd.read_csv(LSMS_CSV_PATH)\n",
    "\n",
    "df_lsms_eth"
   ]
  },
  {
   "cell_type": "code",
   "execution_count": 79,
   "id": "154a2e37",
   "metadata": {},
   "outputs": [],
   "source": [
    "MS_BANDS = ['BLUE', 'GREEN', 'RED', 'NIR', 'SW_IR1', 'SW_IR2', 'TEMP']\n",
    "\n",
    "PROJECTION = 'EPSG:3857'\n",
    "SCALE = 30              \n",
    "EXPORT_TILE_RADIUS = 127  # image dimension = (2*EXPORT_TILE_RADIUS) + 1 = 255px\n",
    "CHUNK_SIZE = 25         # set to a small number (<= 50) if Google Earth Engine reports memory errors"
   ]
  },
  {
   "cell_type": "code",
   "execution_count": 80,
   "id": "d8b78cd7",
   "metadata": {
    "pycharm": {
     "name": "#%%\n"
    }
   },
   "outputs": [],
   "source": [
    "def export_images(df, country, export_folder, chunk_size):\n",
    "    num_chunks = int(math.ceil(len(df) / chunk_size))\n",
    "    tasks = {}\n",
    "\n",
    "    for i in range(num_chunks):\n",
    "        chunk_slice = slice(i * chunk_size, (i+1) * chunk_size - 1)\n",
    "        fc = gee_utils.create_fc(df.loc[chunk_slice, :])\n",
    "\n",
    "        roi = fc.geometry()\n",
    "        composite_img = gee_utils.create_ms_img(roi).select(MS_BANDS)\n",
    "\n",
    "        composite_img = gee_utils.add_latlon_band(composite_img)\n",
    "        composite_img = gee_utils.add_nl_band(composite_img)\n",
    "                \n",
    "        fname = f'{country}_{i:02d}'\n",
    "        tasks[(export_folder, country, i)] = gee_utils.make_tiles(\n",
    "            img=composite_img, scale=SCALE, ksize=EXPORT_TILE_RADIUS,\n",
    "            points=fc, export='drive',\n",
    "            prefix=export_folder, fname=fname,\n",
    "            bucket=None)\n",
    "    return tasks"
   ]
  },
  {
   "cell_type": "code",
   "execution_count": 81,
   "id": "7a8a6cc8",
   "metadata": {
    "pycharm": {
     "name": "#%%\n"
    },
    "scrolled": false
   },
   "outputs": [],
   "source": [
    "new_task = export_images(df_lsms_eth, country='ethiopia', export_folder=LSMS_EXPORT_FOLDER, chunk_size=CHUNK_SIZE)"
   ]
  },
  {
   "cell_type": "code",
   "execution_count": null,
   "id": "be87e057",
   "metadata": {},
   "outputs": [],
   "source": []
  }
 ],
 "metadata": {
  "kernelspec": {
   "display_name": "pypoverty38",
   "language": "python",
   "name": "pypoverty38"
  },
  "language_info": {
   "codemirror_mode": {
    "name": "ipython",
    "version": 3
   },
   "file_extension": ".py",
   "mimetype": "text/x-python",
   "name": "python",
   "nbconvert_exporter": "python",
   "pygments_lexer": "ipython3",
   "version": "3.8.15"
  }
 },
 "nbformat": 4,
 "nbformat_minor": 5
}
