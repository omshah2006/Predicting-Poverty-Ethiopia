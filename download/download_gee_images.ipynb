{
 "cells": [
  {
   "cell_type": "code",
   "execution_count": 29,
   "id": "e0bad302",
   "metadata": {},
   "outputs": [
    {
     "name": "stdout",
     "output_type": "stream",
     "text": [
      "The autoreload extension is already loaded. To reload it, use:\n",
      "  %reload_ext autoreload\n"
     ]
    }
   ],
   "source": [
    "%load_ext autoreload\n",
    "%autoreload 2"
   ]
  },
  {
   "cell_type": "code",
   "execution_count": 3,
   "id": "885b1b94",
   "metadata": {},
   "outputs": [],
   "source": [
    "# Imports\n",
    "import ee\n",
    "import pandas as pd\n",
    "import gee_utils\n",
    "import numpy as np\n",
    "\n",
    "import math"
   ]
  },
  {
   "cell_type": "code",
   "execution_count": 10,
   "id": "9befaf21",
   "metadata": {},
   "outputs": [
    {
     "data": {
      "text/html": [
       "<p>To authorize access needed by Earth Engine, open the following\n",
       "        URL in a web browser and follow the instructions:</p>\n",
       "        <p><a href=https://code.earthengine.google.com/client-auth?scopes=https%3A//www.googleapis.com/auth/earthengine%20https%3A//www.googleapis.com/auth/devstorage.full_control&request_id=jdyoSoeiqdFihON9tjODoTRHq9LxB_06bMVrzst8PR4&tc=02rjMqsrEGVT7hfWWD-LMUIbZAUdeA2aX14hgYsJhzo&cc=4KQfI1YabthmJ37WtxHGEn7i1xi2dOjY2zq4_zFb7Kc>https://code.earthengine.google.com/client-auth?scopes=https%3A//www.googleapis.com/auth/earthengine%20https%3A//www.googleapis.com/auth/devstorage.full_control&request_id=jdyoSoeiqdFihON9tjODoTRHq9LxB_06bMVrzst8PR4&tc=02rjMqsrEGVT7hfWWD-LMUIbZAUdeA2aX14hgYsJhzo&cc=4KQfI1YabthmJ37WtxHGEn7i1xi2dOjY2zq4_zFb7Kc</a></p>\n",
       "        <p>The authorization workflow will generate a code, which you should paste in the box below.</p>\n",
       "        "
      ],
      "text/plain": [
       "<IPython.core.display.HTML object>"
      ]
     },
     "metadata": {},
     "output_type": "display_data"
    },
    {
     "name": "stdout",
     "output_type": "stream",
     "text": [
      "Enter verification code: 4/1AWtgzh6VjkptUy4T_7CNL7KGxZfpg2hxvbFLNtAyxRhkLKsDC8Aqi1qXH30\n",
      "\n",
      "Successfully saved authorization token.\n"
     ]
    }
   ],
   "source": [
    "# Trigger the authentication flow.\n",
    "ee.Authenticate()"
   ]
  },
  {
   "cell_type": "code",
   "execution_count": 4,
   "id": "aa6c8cac",
   "metadata": {},
   "outputs": [],
   "source": [
    "# Initialize the library.\n",
    "ee.Initialize()"
   ]
  },
  {
   "cell_type": "code",
   "execution_count": 5,
   "id": "ca2dc0f2",
   "metadata": {},
   "outputs": [],
   "source": [
    "# Export parameters\n",
    "EXPORT = 'drive'\n",
    "BUCKET = None\n",
    "\n",
    "# Directory setup\n",
    "LSMS_EXPORT_FOLDER = 'nga_lsms_tfrecords_raw'\n",
    "LSMS_CSV_PATH = '../data/nga_lsms_clusters.csv'"
   ]
  },
  {
   "cell_type": "code",
   "execution_count": 6,
   "id": "339cc5e7",
   "metadata": {},
   "outputs": [
    {
     "name": "stdout",
     "output_type": "stream",
     "text": [
      "     country  consumption  density        lat       lon\n",
      "0        nga     0.535630        1   9.981020  9.549433\n",
      "1        nga     0.540830        1   9.537398  9.502645\n",
      "2        nga     0.596685        1  12.797703  9.065058\n",
      "3        nga     0.611105        1   9.083250  9.875452\n",
      "4        nga     0.618506        1  11.288002  5.919781\n",
      "...      ...          ...      ...        ...       ...\n",
      "4971     nga    46.973923        1   4.581487  7.960590\n",
      "4972     nga    48.650224        0   9.138173  7.318500\n",
      "4973     nga    53.263423        0   9.064088  7.478182\n",
      "4974     nga    68.399484        0   6.241538  6.936828\n",
      "4975     nga    70.363489        1   5.669323  6.964301\n",
      "\n",
      "[4976 rows x 5 columns]\n"
     ]
    }
   ],
   "source": [
    "df_lsms = pd.read_csv(LSMS_CSV_PATH)\n",
    "\n",
    "# df_lsms_eth = df_lsms_eth.head(1)\n",
    "print(df_lsms)"
   ]
  },
  {
   "cell_type": "code",
   "execution_count": 88,
   "id": "9cc8a30f",
   "metadata": {},
   "outputs": [
    {
     "name": "stdout",
     "output_type": "stream",
     "text": [
      "Mean: 3.9194884489386665\n",
      "STD: 3.818122106900523\n"
     ]
    },
    {
     "name": "stderr",
     "output_type": "stream",
     "text": [
      "/var/folders/yw/3z56n_vx4vq9g05qrxzrr4m40000gn/T/ipykernel_4336/1975521575.py:8: FutureWarning: The frame.append method is deprecated and will be removed from pandas in a future version. Use pandas.concat instead.\n",
      "  df_lsms_to_download = df_lsms_to_download.append(df_country_lsms_samples)\n",
      "/var/folders/yw/3z56n_vx4vq9g05qrxzrr4m40000gn/T/ipykernel_4336/1975521575.py:8: FutureWarning: The frame.append method is deprecated and will be removed from pandas in a future version. Use pandas.concat instead.\n",
      "  df_lsms_to_download = df_lsms_to_download.append(df_country_lsms_samples)\n",
      "/var/folders/yw/3z56n_vx4vq9g05qrxzrr4m40000gn/T/ipykernel_4336/1975521575.py:8: FutureWarning: The frame.append method is deprecated and will be removed from pandas in a future version. Use pandas.concat instead.\n",
      "  df_lsms_to_download = df_lsms_to_download.append(df_country_lsms_samples)\n"
     ]
    }
   ],
   "source": [
    "# PLEASE READ: For handling dataframe with multiple countries only, the hacky way\n",
    "countries = ['ethiopia', 'nigeria', 'malawi']\n",
    "df_lsms_to_download = pd.DataFrame(columns=['country', 'consumption', 'density', 'lat', 'lon'])\n",
    "for c in countries:\n",
    "    df_country_lsms = df_lsms.loc[df_lsms['country'] == c]\n",
    "    # Sample 1000 locations from each country\n",
    "    df_country_lsms_samples = df_country_lsms.sample(n=1000)\n",
    "    df_lsms_to_download = df_lsms_to_download.append(df_country_lsms_samples)\n",
    "\n",
    "df_lsms = df_lsms_to_download\n",
    "df_lsms.reset_index(drop=True, inplace=True)\n",
    "\n",
    "consumption = df_lsms['consumption'].values.tolist()\n",
    "print(f'Mean: {np.mean(consumption)}')\n",
    "print(f'STD: {np.std(consumption)}')\n",
    "\n",
    "# Uncomment to save\n",
    "# df_lsms.to_csv('ENTER_NAME_lsms_clusters.csv', index=False)"
   ]
  },
  {
   "cell_type": "code",
   "execution_count": 8,
   "id": "154a2e37",
   "metadata": {},
   "outputs": [],
   "source": [
    "MS_BANDS = ['BLUE', 'GREEN', 'RED', 'NIR', 'SW_IR1', 'SW_IR2', 'TEMP']\n",
    "\n",
    "PROJECTION = 'EPSG:3857'\n",
    "SCALE = 30              \n",
    "EXPORT_TILE_RADIUS = 127  # image dimension = (2*EXPORT_TILE_RADIUS) + 1 = 255px\n",
    "CHUNK_SIZE = 25         # set to a small number (<= 50) if Google Earth Engine reports memory errors"
   ]
  },
  {
   "cell_type": "code",
   "execution_count": 9,
   "id": "d8b78cd7",
   "metadata": {
    "pycharm": {
     "name": "#%%\n"
    }
   },
   "outputs": [],
   "source": [
    "def export_images(df, country, export_folder, chunk_size):\n",
    "    num_chunks = int(math.ceil(len(df) / chunk_size))\n",
    "    tasks = {}\n",
    "\n",
    "    for i in range(num_chunks):\n",
    "        chunk_slice = slice(i * chunk_size, (i+1) * chunk_size - 1)\n",
    "        fc = gee_utils.create_fc(df.loc[chunk_slice, :])\n",
    "\n",
    "        roi = fc.geometry()\n",
    "        composite_img = gee_utils.create_ms_img(roi).select(MS_BANDS)\n",
    "\n",
    "        # Add relevant bands\n",
    "        composite_img = gee_utils.add_latlon_band(composite_img)\n",
    "        composite_img = gee_utils.add_nl_band(composite_img)\n",
    "        composite_img = gee_utils.add_deltatemp_band(composite_img)\n",
    "        composite_img = gee_utils.add_pollution_band(composite_img)\n",
    "                \n",
    "        fname = f'{country}_{i:02d}'\n",
    "        tasks[(export_folder, country, i)] = gee_utils.make_tiles(\n",
    "            img=composite_img, scale=SCALE, ksize=EXPORT_TILE_RADIUS,\n",
    "            points=fc, export='drive',\n",
    "            prefix=export_folder, fname=fname,\n",
    "            bucket=None)\n",
    "    return tasks"
   ]
  },
  {
   "cell_type": "code",
   "execution_count": 10,
   "id": "7a8a6cc8",
   "metadata": {
    "pycharm": {
     "name": "#%%\n"
    },
    "scrolled": false
   },
   "outputs": [],
   "source": [
    "#Change country param when downloading imagery\n",
    "new_task = export_images(df_lsms, country='nigeria', export_folder=LSMS_EXPORT_FOLDER, chunk_size=CHUNK_SIZE)"
   ]
  },
  {
   "cell_type": "code",
   "execution_count": null,
   "id": "be87e057",
   "metadata": {},
   "outputs": [],
   "source": []
  }
 ],
 "metadata": {
  "kernelspec": {
   "display_name": "pypoverty38",
   "language": "python",
   "name": "pypoverty38"
  },
  "language_info": {
   "codemirror_mode": {
    "name": "ipython",
    "version": 3
   },
   "file_extension": ".py",
   "mimetype": "text/x-python",
   "name": "python",
   "nbconvert_exporter": "python",
   "pygments_lexer": "ipython3",
   "version": "3.8.15"
  }
 },
 "nbformat": 4,
 "nbformat_minor": 5
}
